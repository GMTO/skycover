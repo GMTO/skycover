{
 "cells": [
  {
   "cell_type": "code",
   "execution_count": 1,
   "metadata": {},
   "outputs": [
    {
     "data": {
      "text/plain": [
       "Text(0, 0.5, 'Y-position (arcsec)')"
      ]
     },
     "execution_count": 1,
     "metadata": {},
     "output_type": "execute_result"
    }
   ],
   "source": [
    "import warnings\n",
    "warnings.filterwarnings(\"ignore\")\n",
    "import numpy as np\n",
    "import matplotlib.pyplot as plt\n",
    "from agwsprobes import *\n",
    "\n",
    "#plt.ion()\n",
    "\n",
    "#config = \"m3\"\n",
    "config = \"gmacs\"\n",
    "validator = agwsinit(config)\n",
    "\n",
    "xposarcsec = np.repeat(np.arange(-440,440,20),44)\n",
    "yposarcsec = np.reshape(np.transpose(np.reshape(xposarcsec,(44,44))),44**2)\n",
    "\n",
    "#plt.figure(8)\n",
    "#plt.clf()\n",
    "ax = plt.axes()\n",
    "ax.set_aspect('equal')\n",
    "plt.plot(xposarcsec,yposarcsec,'.',color='red')\n",
    "plt.xlabel('X-position (arcsec)')\n",
    "plt.ylabel('Y-position (arcsec)')"
   ]
  },
  {
   "cell_type": "code",
   "execution_count": 2,
   "metadata": {},
   "outputs": [
    {
     "name": "stdout",
     "output_type": "stream",
     "text": [
      "532\n"
     ]
    },
    {
     "data": {
      "text/plain": [
       "Text(0, 0.5, 'Y-position (arcsec)')"
      ]
     },
     "execution_count": 2,
     "metadata": {},
     "output_type": "execute_result"
    },
    {
     "data": {
      "image/png": "[encoded data removed]",
      "text/plain": [
       "<Figure size 432x288 with 1 Axes>"
      ]
     },
     "metadata": {},
     "output_type": "display_data"
    }
   ],
   "source": [
    "valid = np.zeros_like(xposarcsec,dtype='bool')\n",
    "gspos = np.transpose(np.array([xposarcsec,yposarcsec]))\n",
    "for k in range(len(xposarcsec)):\n",
    "    (success,loc,idx) = agwscheck(validator,gspos[[k],:])\n",
    "    valid[k] = success\n",
    "\n",
    "validpos = np.where(valid)[0]\n",
    "print(len(validpos))\n",
    "\n",
    "xposarcsec = xposarcsec[validpos]\n",
    "yposarcsec = yposarcsec[validpos]\n",
    "    \n",
    "#plt.figure(9)\n",
    "plt.clf()\n",
    "ax = plt.axes()\n",
    "ax.set_aspect('equal')\n",
    "plt.plot(xposarcsec,yposarcsec,'.',color='darkgreen')\n",
    "plt.xlabel('X-position (arcsec)')\n",
    "plt.ylabel('Y-position (arcsec)')\n"
   ]
  },
  {
   "cell_type": "code",
   "execution_count": 3,
   "metadata": {},
   "outputs": [
    {
     "name": "stdout",
     "output_type": "stream",
     "text": [
      "\u001b[33mcommit bab36d10d4977f595082153d50bf1d788cb36c88\u001b[m\u001b[33m (\u001b[m\u001b[1;36mHEAD -> \u001b[m\u001b[1;32mmaster\u001b[m\u001b[33m, \u001b[m\u001b[1;31morigin/master\u001b[m\u001b[33m, \u001b[m\u001b[1;31morigin/HEAD\u001b[m\u001b[33m)\u001b[m\r\n",
      "Author: Bo Xin <bxin@gmto.org>\r\n",
      "Date:   Thu Sep 1 00:00:12 2022 +0000\r\n",
      "\r\n",
      "    paste gmacsvalidstars.py into MarcosTest.ipynb\r\n"
     ]
    }
   ],
   "source": [
    "! git log -1"
   ]
  },
  {
   "cell_type": "code",
   "execution_count": null,
   "metadata": {},
   "outputs": [],
   "source": []
  }
 ],
 "metadata": {
  "kernelspec": {
   "display_name": "Python 3",
   "language": "python",
   "name": "python3"
  },
  "language_info": {
   "codemirror_mode": {
    "name": "ipython",
    "version": 3
   },
   "file_extension": ".py",
   "mimetype": "text/x-python",
   "name": "python",
   "nbconvert_exporter": "python",
   "pygments_lexer": "ipython3",
   "version": "3.6.10"
  }
 },
 "nbformat": 4,
 "nbformat_minor": 2
}
