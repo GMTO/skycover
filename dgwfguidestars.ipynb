{
 "cells": [
  {
   "cell_type": "code",
   "execution_count": 1,
   "metadata": {},
   "outputs": [
    {
     "name": "stdout",
     "output_type": "stream",
     "text": [
      "/home/ubuntu/CEO/python/ceo/zemax\n"
     ]
    }
   ],
   "source": [
    "# select the guide stars given a field in DGWF mode\n",
    "\n",
    "import warnings\n",
    "warnings.filterwarnings(\"ignore\")\n",
    "\n",
    "import ceo\n",
    "import yaml\n",
    "from yaml import Loader\n",
    "import pandas as pd\n",
    "import numpy as np\n",
    "import matplotlib.pyplot as plt\n",
    "import os\n",
    "import sys\n",
    "sys.path.append(os.path.expanduser('~/PYTHON/ATP/'))\n",
    "from astropy.units import Quantity\n",
    "from astropy.time import Time\n",
    "import astropy.io.fits as pyfits\n",
    "import atp\n",
    "import copy\n",
    "from agwsprobes import *\n",
    "import scipy.interpolate"
   ]
  },
  {
   "cell_type": "code",
   "execution_count": 2,
   "metadata": {},
   "outputs": [],
   "source": [
    "L=25.5\n",
    "nPx = 201\n",
    "nLenslet = 48\n",
    "threshold = 0.5 # subaperture flux threshold\n",
    "gmt = ceo.GMT_MX()"
   ]
  },
  {
   "cell_type": "code",
   "execution_count": 3,
   "metadata": {},
   "outputs": [],
   "source": [
    "def modestogmtstate(gmt,modes):\n",
    "    state = gmt.state\n",
    "\n",
    "    M1Txyz = modes[[0,1,2,12,13,14,24,25,26,36,37,38,48,49,50,60,61,62,72,73,74]]\n",
    "    state['M1']['Txyz'] = np.reshape(M1Txyz,(7,3))\n",
    "\n",
    "    M2Txyz = modes[[6,7,8,18,19,20,30,31,32,42,43,44,54,55,56,66,67,68,77,78,79]]\n",
    "    state['M2']['Txyz'] = np.reshape(M2Txyz,(7,3))\n",
    "\n",
    "    M1Rxyz = np.zeros(21)\n",
    "    M1Rxyz[0:20] = modes[[3,4,5,15,16,17,27,28,29,39,40,41,51,52,53,63,64,65,75,76]]\n",
    "    state['M1']['Rxyz'] = np.reshape(M1Rxyz,(7,3))\n",
    "    \n",
    "    M2Rxyz = np.zeros(21)\n",
    "    M2Rxyz[0:20] = modes[[9,10,11,21,22,23,33,34,35,45,46,47,57,58,59,69,70,71,80,81]]\n",
    "    state['M2']['Rxyz'] = np.reshape(M2Rxyz,(7,3))\n",
    "    gmt^=state"
   ]
  },
  {
   "cell_type": "code",
   "execution_count": 4,
   "metadata": {},
   "outputs": [],
   "source": [
    "girmode = \"tracking\"\n",
    "config = \"dgwf\"\n",
    "maxstarsperprobe = 8 # maximum number of stars per probe to analyze\n",
    "\n",
    "# this contains information about the observation\n",
    "cfg = yaml.load(open(os.path.expanduser('~/PYTHON/ATP/atp.yaml')),Loader)"
   ]
  },
  {
   "cell_type": "code",
   "execution_count": 5,
   "metadata": {},
   "outputs": [],
   "source": [
    "# load the data about the observation\n",
    "data = pyfits.getdata(os.path.expanduser('~/PYTHON/AGWS/SAO/weather_pointing_data.fits'))\n",
    "temperature = data[:,0] # Temperature draw in deg C\n",
    "pressure = data[:,1] # Pressure draw in mbar\n",
    "humidity = data[:,2] # Relative humidity in %\n",
    "windspeed = data[:,3] # Wind speed in m/s\n",
    "winddir = data[:,4] # Wind direction in degrees\n",
    "datetime = data[:,5] # Date vector (Clay is first 500, Baade is second 500)\n",
    "scira = data[:,6] # RA vector (degrees; Clay is first 500, Baade is second 500)\n",
    "scidec = data[:,7] #  Declination vector (degrees; Clay is first 500, Baade is second 500)\n",
    "telaz = data[:,8] # Azimuth angle of telescope (degrees; Clay is first 500, Baade is second 500)\n",
    "telel = data[:,9] # Elevation angle of telescope (degrees; Clay is first 500, Baade is second 500)\n",
    "r0 = data[:,10] # r0 (cm)\n",
    "L0 = data[:,11] # L0 (m)\n",
    "\n",
    "validator = agwsinit(config)"
   ]
  },
  {
   "cell_type": "markdown",
   "metadata": {},
   "source": [
    "# this notebook only looks at the first field."
   ]
  },
  {
   "cell_type": "code",
   "execution_count": 6,
   "metadata": {},
   "outputs": [],
   "source": [
    "#the python file loops over all 1000 fields.\n",
    "fieldno = 0"
   ]
  },
  {
   "cell_type": "code",
   "execution_count": 7,
   "metadata": {},
   "outputs": [
    {
     "data": {
      "text/plain": [
       "2013.3871424086758"
      ]
     },
     "execution_count": 7,
     "metadata": {},
     "output_type": "execute_result"
    }
   ],
   "source": [
    "datetime[0]"
   ]
  },
  {
   "cell_type": "code",
   "execution_count": 8,
   "metadata": {},
   "outputs": [],
   "source": [
    "telzen = (90-telel[fieldno])*np.pi/180.\n",
    "airmass = 1./np.cos(telzen)\n",
    "\n",
    "cfg['Observation']['time'] = Time(datetime[fieldno] , format='decimalyear', scale='utc')\n",
    "cfg['Target']['ra'] = scira[fieldno]\n",
    "cfg['Target']['dec'] = scidec[fieldno]\n",
    "\n",
    "cfg['Target']['pointing alt/az']['alt'][0] = telel[fieldno]\n",
    "cfg['Target']['pointing alt/az']['az'][0] = telaz[fieldno]\n",
    "\n",
    "cfg['Atmosphere']['r0'][0] = r0[fieldno]*100.\n",
    "cfg['Atmosphere']['L0'][0] = L0[fieldno]\n",
    "\n",
    "obs = atp.Observatory(**cfg['Observatory'],**cfg['Observation'])\n",
    "target = atp.Target(obs,**cfg['Target'])"
   ]
  },
  {
   "cell_type": "code",
   "execution_count": 9,
   "metadata": {},
   "outputs": [],
   "source": [
    "fielddir = \"~/PYTHON/AGWS/Fields\"\n",
    "starfield = os.path.expanduser(fielddir+f\"/field_{fieldno:04d}.csv\")\n",
    "\n",
    "outputfilename = os.path.expanduser('~/')+f'PYTHON/AGWS/Fields/{config}_asterism_{fieldno:04d}.csv'\n",
    "probefunction = [None,None,None,None]\n",
    "gsno = [None,None,None,None] # guide star number\n",
    "vismaggs = [0,0,0,0]\n",
    "xposgs = [0,0,0,0]\n",
    "yposgs = [0,0,0,0]"
   ]
  },
  {
   "cell_type": "code",
   "execution_count": 10,
   "metadata": {},
   "outputs": [],
   "source": [
    "stars  = atp.StarField(obs,target,field=starfield,**cfg['Star Catalog'])"
   ]
  },
  {
   "cell_type": "code",
   "execution_count": 11,
   "metadata": {},
   "outputs": [],
   "source": [
    "vismag = 0.46*stars.I+0.54*stars.R\n",
    "# remove stars that have an NaN for magnitude\n",
    "valid = ~np.isnan(vismag)\n",
    "validpos = np.where(valid)[0]\n",
    "\n",
    "xposarcsec = stars.local[0,:]*180./np.pi*3600\n",
    "yposarcsec = stars.local[1,:]*180./np.pi*3600"
   ]
  },
  {
   "cell_type": "code",
   "execution_count": 12,
   "metadata": {},
   "outputs": [
    {
     "name": "stdout",
     "output_type": "stream",
     "text": [
      "1887 1887\n"
     ]
    }
   ],
   "source": [
    "print(len(vismag), len(valid))"
   ]
  },
  {
   "cell_type": "code",
   "execution_count": 13,
   "metadata": {},
   "outputs": [
    {
     "data": {
      "image/png": "[encoded data removed]",
      "text/plain": [
       "<Figure size 432x288 with 1 Axes>"
      ]
     },
     "metadata": {},
     "output_type": "display_data"
    }
   ],
   "source": [
    "plt.figure(8)\n",
    "plt.clf()\n",
    "ax = plt.axes()\n",
    "ax.set_aspect('equal')\n",
    "#plt.xlim((-610,610))\n",
    "#plt.ylim((-610,610))\n",
    "#plt.plot(xposarcsec[validpos],yposarcsec[validpos],'.',color='red')\n",
    "plt.plot(xposarcsec[validpos]/60,yposarcsec[validpos]/60,'.',color='red')\n",
    "plt.xlabel('arcmin')\n",
    "plt.ylabel('arcmin');"
   ]
  },
  {
   "cell_type": "markdown",
   "metadata": {},
   "source": [
    "## run agwscheck() to remove invalid stars"
   ]
  },
  {
   "cell_type": "code",
   "execution_count": 14,
   "metadata": {},
   "outputs": [],
   "source": [
    "gspos = np.transpose(np.array([xposarcsec,yposarcsec]))\n",
    "\n",
    "nstars = len(xposarcsec)\n",
    "for k in range(nstars):\n",
    "    if valid[k]:\n",
    "        (success,loc,idx) = agwscheck(validator,gspos[[k],:])\n",
    "        valid[k] = success"
   ]
  },
  {
   "cell_type": "code",
   "execution_count": 15,
   "metadata": {},
   "outputs": [
    {
     "name": "stdout",
     "output_type": "stream",
     "text": [
      "1088\n"
     ]
    }
   ],
   "source": [
    "validpos = np.where(valid)[0]\n",
    "print(len(validpos))"
   ]
  },
  {
   "cell_type": "code",
   "execution_count": 16,
   "metadata": {},
   "outputs": [],
   "source": [
    "if len(validpos) == 0:\n",
    "    print('There are no guide stars!')\n",
    "    bestasterism = {'Probe number': [0,1,2,3], 'Probe function': probefunction,'Guide star':gsno,'Visible magnitude':vismaggs,'xpos':xposgs,'ypos':yposgs}\n",
    "\n",
    "    print(outputfilename)\n",
    "    df = pd.DataFrame(bestasterism,index=None)\n",
    "    print (df)\n",
    "    df.to_csv(outputfilename, index = False, header=True)\n",
    "    print('PROCEED TO THE NEXT FIELD, SKIP BELOW')\n",
    "\n",
    "vismag = vismag[validpos]\n",
    "xposarcsec = xposarcsec[validpos]\n",
    "yposarcsec = yposarcsec[validpos]"
   ]
  },
  {
   "cell_type": "code",
   "execution_count": 17,
   "metadata": {},
   "outputs": [
    {
     "data": {
      "text/plain": [
       "Text(0, 0.5, 'Y-position (arcsec)')"
      ]
     },
     "execution_count": 17,
     "metadata": {},
     "output_type": "execute_result"
    },
    {
     "data": {
      "image/png": "[encoded data removed]",
      "text/plain": [
       "<Figure size 432x288 with 1 Axes>"
      ]
     },
     "metadata": {},
     "output_type": "display_data"
    }
   ],
   "source": [
    "if config == \"dgwf\":\n",
    "    minradarcsec = 365 # trial and error\n",
    "    maxradarcsec = 572.4 # trial and error\n",
    "if config == \"dgnf\":\n",
    "    # the AGWS must be > 6' away to avoid vignetting the field\n",
    "    minradarcsec = 364.7 \n",
    "    maxradarcsec = 600\n",
    "if config == \"m3\":\n",
    "    # radius of guide star must be greater than 357.9 mm\n",
    "    minradarcsec = 365.07\n",
    "    maxradarcsec = 600\n",
    "\n",
    "ax = plt.axes()\n",
    "ax.set_aspect('equal')\n",
    "plt.plot(xposarcsec,yposarcsec,'.',color='darkgreen')\n",
    "innercircle = plt.Circle([0,0],radius=minradarcsec,color='darkblue',fill=False)\n",
    "ax.add_artist(innercircle)\n",
    "outercircle = plt.Circle([0,0],radius=maxradarcsec,color='darkblue',fill=False)\n",
    "ax.add_artist(outercircle)\n",
    "plt.plot([0],[0],'*',color='black')\n",
    "\n",
    "plt.xlabel('X-position (arcsec)')\n",
    "plt.ylabel('Y-position (arcsec)')"
   ]
  },
  {
   "cell_type": "code",
   "execution_count": 18,
   "metadata": {},
   "outputs": [
    {
     "name": "stdout",
     "output_type": "stream",
     "text": [
      "Finding which probes reach which stars\n"
     ]
    }
   ],
   "source": [
    "gspos = np.transpose(np.array([xposarcsec,yposarcsec]))\n",
    "nvalidstars = len(xposarcsec)   \n",
    "\n",
    "# determine which probes reach which stars\n",
    "print('Finding which probes reach which stars')\n",
    "probesreachstars = agwsreachstars(validator,gspos)"
   ]
  },
  {
   "cell_type": "code",
   "execution_count": 19,
   "metadata": {},
   "outputs": [
    {
     "data": {
      "text/plain": [
       "(4, 1088)"
      ]
     },
     "execution_count": 19,
     "metadata": {},
     "output_type": "execute_result"
    }
   ],
   "source": [
    "probesreachstars.shape"
   ]
  },
  {
   "cell_type": "code",
   "execution_count": 20,
   "metadata": {},
   "outputs": [
    {
     "name": "stdout",
     "output_type": "stream",
     "text": [
      "[[ True  True False ... False False False]\n",
      " [False False False ...  True  True False]\n",
      " [False False False ...  True  True  True]\n",
      " [False False  True ... False False  True]]\n"
     ]
    }
   ],
   "source": [
    "print(probesreachstars)"
   ]
  },
  {
   "cell_type": "code",
   "execution_count": 21,
   "metadata": {},
   "outputs": [
    {
     "name": "stdout",
     "output_type": "stream",
     "text": [
      "seeing (arcsec) : 0.757\n",
      "elevation (degrees) : 68.6\n"
     ]
    }
   ],
   "source": [
    "# calculate the seeing \n",
    "gs_wavelength = Quantity(*cfg['SH']['guide star']['wavelength']).to('m').value\n",
    "r0_wavelength = Quantity(*cfg['Atmosphere']['wavelength']).to('m').value\n",
    "r0_val = Quantity(*cfg['Atmosphere']['r0']).to('m').value\n",
    "r0_val *= atp.r0_scaling(r0_wavelength,gs_wavelength,telzen)\n",
    "seeingRad = gs_wavelength/r0_val\n",
    "seeingArcsec = seeingRad*ceo.constants.RAD2ARCSEC\n",
    "print(\"seeing (arcsec) : %5.3f\" %seeingArcsec)\n",
    "print(\"elevation (degrees) : %4.1f\" %telel[fieldno])"
   ]
  },
  {
   "cell_type": "markdown",
   "metadata": {},
   "source": [
    "### Before we apply the TT7 criteria, we make sure the total shadow fraction for 4 probes are <0.15. \n",
    "\n",
    "This step is only for dgwf, not dgnf\n",
    "\n",
    "### we next determine the best TT7 star, i.e., which star will be measured with the TT7 probe\n",
    "\n",
    "we do this by predicting the TT7 error for each star\n",
    "\n",
    "This error has two parts, the noise_rms and aniso_rms.\n",
    "\n",
    "The way this is done here is a little different from dgnfguidestars.py. For dgnf, atp.tt7_tt_error is called N times, where N is the number of stars. Here we do it 102 times, for 1,2,3,...,102 arcmin distance to the field center. We then interpolate to N values of radialdistArcmin.\n",
    "\n",
    "but why this difference? is the interpolation supposed to be a way to save computation time? No, Marcos says it doesn't matter."
   ]
  },
  {
   "cell_type": "code",
   "execution_count": 22,
   "metadata": {},
   "outputs": [
    {
     "name": "stdout",
     "output_type": "stream",
     "text": [
      "Calculating TT7 error\n"
     ]
    }
   ],
   "source": [
    "# calculate the TT7 error\n",
    "# find the TT7 error for all stars\n",
    "print('Calculating TT7 error')\n",
    "dist = np.arange(1,102)/10.\n",
    "tt7_aniso_dist = [atp.tt7_tt_error(zz,0.,telzen,**cfg) for zz,magnitude in zip(dist,dist*0.)]\n",
    "aniso_interp_function = scipy.interpolate.interp1d(dist,tt7_aniso_dist,bounds_error=False)\n",
    "\n",
    "radialdistArcmin = np.hypot(xposarcsec,yposarcsec)/60.\n",
    "tt7_aniso_rms = aniso_interp_function(radialdistArcmin)"
   ]
  },
  {
   "cell_type": "code",
   "execution_count": 23,
   "metadata": {},
   "outputs": [],
   "source": [
    "# saturation is attained for magnitude 10 stars\n",
    "# values calculated using tt7noise.i for 0.8\" seeing\n",
    "magvec = np.array([0,10,10.5,11,11.5,12,12.5,13,13.5,14,14.5,15,15.5,16,16.5,17,17.5,18,20])\n",
    "# this is the error in the segment tip-tilt estimate using a 24x24 SH WFS\n",
    "tterr_for_800mas = np.array([0.00204073,0.00204073,0.00248421,0.00313843,0.00404597,0.0052902,0.00649479,0.00812451,0.0108732,0.0140705,0.018404,0.0248977,0.0369819,0.0556996,0.0910204,0.13293,0.179323,0.205629,0.205629])*1000.\n",
    "tterr_mas = tterr_for_800mas*seeingArcsec/0.8\n",
    "\n",
    "interp_function = scipy.interpolate.interp1d(magvec,tterr_mas,bounds_error=False)\n",
    "tt7_noise_rms = interp_function(np.clip(vismag,np.min(magvec),np.max(magvec)))\n",
    "tt7_res_rms = tt7_noise_rms + tt7_aniso_rms"
   ]
  },
  {
   "cell_type": "code",
   "execution_count": 24,
   "metadata": {},
   "outputs": [
    {
     "name": "stdout",
     "output_type": "stream",
     "text": [
      "1088\n"
     ]
    }
   ],
   "source": [
    "print(len(tt7_res_rms))"
   ]
  },
  {
   "cell_type": "code",
   "execution_count": 25,
   "metadata": {},
   "outputs": [],
   "source": [
    "# calculate the obscuration by each probe for each star\n",
    "startloc = np.array([[0,0.159],[-0.159,0],[0,-0.159],[0.159,0]])*3600.\n",
    "(success,loc,idx) = agwscheck(validator,startloc)\n",
    "minshadow = validator.shadowfrac"
   ]
  },
  {
   "cell_type": "code",
   "execution_count": 26,
   "metadata": {},
   "outputs": [
    {
     "data": {
      "text/plain": [
       "array([[   0. ,  572.4],\n",
       "       [-572.4,    0. ],\n",
       "       [   0. , -572.4],\n",
       "       [ 572.4,    0. ]])"
      ]
     },
     "execution_count": 26,
     "metadata": {},
     "output_type": "execute_result"
    }
   ],
   "source": [
    "startloc"
   ]
  },
  {
   "cell_type": "code",
   "execution_count": 27,
   "metadata": {},
   "outputs": [
    {
     "data": {
      "text/plain": [
       "0.094"
      ]
     },
     "execution_count": 27,
     "metadata": {},
     "output_type": "execute_result"
    }
   ],
   "source": [
    "minshadow"
   ]
  },
  {
   "cell_type": "code",
   "execution_count": 28,
   "metadata": {},
   "outputs": [
    {
     "data": {
      "text/plain": [
       "True"
      ]
     },
     "execution_count": 28,
     "metadata": {},
     "output_type": "execute_result"
    }
   ],
   "source": [
    "success"
   ]
  },
  {
   "cell_type": "code",
   "execution_count": 29,
   "metadata": {},
   "outputs": [
    {
     "data": {
      "text/plain": [
       "array([[   0. ,  572.4],\n",
       "       [-572.4,    0. ],\n",
       "       [   0. , -572.4],\n",
       "       [ 572.4,    0. ]])"
      ]
     },
     "execution_count": 29,
     "metadata": {},
     "output_type": "execute_result"
    }
   ],
   "source": [
    "loc"
   ]
  },
  {
   "cell_type": "code",
   "execution_count": 30,
   "metadata": {},
   "outputs": [
    {
     "data": {
      "text/plain": [
       "array([0, 1, 2, 3])"
      ]
     },
     "execution_count": 30,
     "metadata": {},
     "output_type": "execute_result"
    }
   ],
   "source": [
    "idx"
   ]
  },
  {
   "cell_type": "code",
   "execution_count": 31,
   "metadata": {},
   "outputs": [
    {
     "data": {
      "text/plain": [
       "(1088, 2)"
      ]
     },
     "execution_count": 31,
     "metadata": {},
     "output_type": "execute_result"
    }
   ],
   "source": [
    "gspos.shape"
   ]
  },
  {
   "cell_type": "code",
   "execution_count": 32,
   "metadata": {},
   "outputs": [],
   "source": [
    "shadowfraction = np.zeros(probesreachstars.shape)\n",
    "for k1 in range(4):\n",
    "    for k2 in range(nvalidstars):\n",
    "        if probesreachstars[k1,k2]:\n",
    "            pos = startloc.copy()\n",
    "            pos[k1,:] = gspos[k2,:]\n",
    "            (success,loc,idx) = agwscheck(validator,pos)\n",
    "            shadowfraction[k1,k2] = validator.shadowfrac - 0.75*minshadow\n",
    "\n",
    "probes_with_stars = probesreachstars.any(axis=1) \n",
    "n_probes_with_stars = np.sum(probes_with_stars)"
   ]
  },
  {
   "cell_type": "code",
   "execution_count": 33,
   "metadata": {},
   "outputs": [
    {
     "data": {
      "text/plain": [
       "0.114"
      ]
     },
     "execution_count": 33,
     "metadata": {},
     "output_type": "execute_result"
    }
   ],
   "source": [
    "validator.shadowfrac"
   ]
  },
  {
   "cell_type": "code",
   "execution_count": 34,
   "metadata": {},
   "outputs": [
    {
     "data": {
      "text/plain": [
       "array([[0.0635, 0.0635, 0.    , ..., 0.    , 0.    , 0.    ],\n",
       "       [0.    , 0.    , 0.    , ..., 0.0365, 0.0325, 0.    ],\n",
       "       [0.    , 0.    , 0.    , ..., 0.0255, 0.0255, 0.0245],\n",
       "       [0.    , 0.    , 0.0645, ..., 0.    , 0.    , 0.0435]])"
      ]
     },
     "execution_count": 34,
     "metadata": {},
     "output_type": "execute_result"
    }
   ],
   "source": [
    "shadowfraction"
   ]
  },
  {
   "cell_type": "code",
   "execution_count": 35,
   "metadata": {},
   "outputs": [
    {
     "data": {
      "text/plain": [
       "0.0"
      ]
     },
     "execution_count": 35,
     "metadata": {},
     "output_type": "execute_result"
    }
   ],
   "source": [
    "np.min(shadowfraction) \n",
    "#0.75 above is a magic number that makes the min to be zero.\n",
    "# so the minshadow we determined earlier was 4/3 (=1/0.75) times the actual minshadow"
   ]
  },
  {
   "cell_type": "code",
   "execution_count": 36,
   "metadata": {},
   "outputs": [
    {
     "name": "stdout",
     "output_type": "stream",
     "text": [
      "4\n"
     ]
    }
   ],
   "source": [
    "print(n_probes_with_stars)"
   ]
  },
  {
   "cell_type": "code",
   "execution_count": 37,
   "metadata": {},
   "outputs": [
    {
     "name": "stdout",
     "output_type": "stream",
     "text": [
      "Finding four suitable stars\n"
     ]
    }
   ],
   "source": [
    "print('Finding four suitable stars')\n",
    "\n",
    "# find the valid 4 star asterisms that meet the shadowing requirement\n",
    "s0 = np.where(probesreachstars[0,:])[0]\n",
    "s1 = np.where(probesreachstars[1,:])[0]\n",
    "s2 = np.where(probesreachstars[2,:])[0]\n",
    "s3 = np.where(probesreachstars[3,:])[0]"
   ]
  },
  {
   "cell_type": "code",
   "execution_count": 39,
   "metadata": {},
   "outputs": [
    {
     "name": "stdout",
     "output_type": "stream",
     "text": [
      "(235,) (418,) (572,) (349,)\n"
     ]
    }
   ],
   "source": [
    "print(s0.shape, s1.shape, s2.shape, s3.shape)"
   ]
  },
  {
   "cell_type": "code",
   "execution_count": 40,
   "metadata": {},
   "outputs": [],
   "source": [
    "# limit the calculation to the brightest 30 stars for each probe\n",
    "s0 = s0[np.argsort(vismag[s0])][0:30]\n",
    "s1 = s1[np.argsort(vismag[s1])][0:30]\n",
    "s2 = s2[np.argsort(vismag[s2])][0:30]\n",
    "s3 = s3[np.argsort(vismag[s3])][0:30]   "
   ]
  },
  {
   "cell_type": "code",
   "execution_count": 41,
   "metadata": {},
   "outputs": [
    {
     "name": "stdout",
     "output_type": "stream",
     "text": [
      "[ 895  444  594  341  814  348   66  584  486  310  131  969  935  647\n",
      "  312  568  687 1051  213  612  815  759  784  944  783  143  436  824\n",
      " 1006  453] [ 657  895  832  444  594  341  541  152  256  982  584  486  785  753\n",
      "  844  378  205  782 1051  727   44  693  815 1069  237  759  342  928\n",
      "  195  944] [ 268  856  109  541  281  442  982  726  900  964  816  652  717  231\n",
      "  499  216  782  897  492  309  727  693 1069   99 1005  390  928  858\n",
      "  195  382] [ 918   89  268  814  281   58   74  345  935  726 1060  190  816  652\n",
      "  499  324  637  309  322 1005  784  382  448  783 1011  824  470  894\n",
      "  841  383]\n"
     ]
    }
   ],
   "source": [
    "print(s0,s1,s2,s3)"
   ]
  },
  {
   "cell_type": "code",
   "execution_count": 42,
   "metadata": {},
   "outputs": [],
   "source": [
    "pos = np.zeros((4,2))\n",
    "validasterisms = []"
   ]
  },
  {
   "cell_type": "code",
   "execution_count": 43,
   "metadata": {},
   "outputs": [],
   "source": [
    "# keep track of the shadowing and report it        \n",
    "for m0 in s0.tolist():\n",
    "    frac0 = shadowfraction[0,m0]\n",
    "    pos[0,:] = gspos[m0,:]\n",
    "\n",
    "    for m1 in s1.tolist():\n",
    "        if m1 == m0:\n",
    "            continue\n",
    "        pos[1,:] = gspos[m1,:]\n",
    "\n",
    "        frac1 = shadowfraction[1,m1]\n",
    "        for m2 in s2.tolist():\n",
    "            if m2 == m1 or m2 == m0:\n",
    "                continue\n",
    "            frac2 = shadowfraction[2,m2]\n",
    "            pos[2,:] = gspos[m2,:]\n",
    "\n",
    "            for m3 in s3.tolist():\n",
    "                if m3 == m2 or m3 == m1 or m3 == m0:\n",
    "                    continue\n",
    "                frac3 = shadowfraction[3,m3]\n",
    "                pos[3,:] = gspos[m3,:]\n",
    "\n",
    "                frac = frac0+frac1+frac2+frac3 \n",
    "                if frac <= 0.15:\n",
    "                    # check if asterism is valid\n",
    "                    (success,loc,idx) = agwscheck(validator,pos)\n",
    "                    if success:\n",
    "                        validasterisms.append([m0,m1,m2,m3])"
   ]
  },
  {
   "cell_type": "code",
   "execution_count": 44,
   "metadata": {},
   "outputs": [
    {
     "name": "stdout",
     "output_type": "stream",
     "text": [
      "34861\n"
     ]
    }
   ],
   "source": [
    "nAsterism = len(validasterisms)\n",
    "print(nAsterism)"
   ]
  },
  {
   "cell_type": "code",
   "execution_count": 45,
   "metadata": {},
   "outputs": [],
   "source": [
    "# select the 25 asterisms with the brightest faint star\n",
    "maxasterisms = 25\n",
    "maxmag = np.zeros(nAsterism)\n",
    "counter = 0\n",
    "for k,asterism in enumerate(validasterisms):\n",
    "    maxmag[k] = np.max(vismag[asterism]) #largest mag = faint star in each asterism"
   ]
  },
  {
   "cell_type": "code",
   "execution_count": 46,
   "metadata": {},
   "outputs": [
    {
     "name": "stdout",
     "output_type": "stream",
     "text": [
      "[10.70908444 11.50795519 12.76456603 ... 13.79180246 13.82113166\n",
      " 13.83032053]\n"
     ]
    }
   ],
   "source": [
    "print(maxmag)"
   ]
  },
  {
   "cell_type": "code",
   "execution_count": 47,
   "metadata": {},
   "outputs": [],
   "source": [
    "sortmag = np.argsort(maxmag)\n",
    "brightasterisms = np.array(validasterisms)[sortmag][0:np.clip(nAsterism,0,maxasterisms)]"
   ]
  },
  {
   "cell_type": "code",
   "execution_count": 48,
   "metadata": {},
   "outputs": [
    {
     "data": {
      "text/plain": [
       "25"
      ]
     },
     "execution_count": 48,
     "metadata": {},
     "output_type": "execute_result"
    }
   ],
   "source": [
    "np.clip(nAsterism,0,maxasterisms)"
   ]
  },
  {
   "cell_type": "code",
   "execution_count": 49,
   "metadata": {},
   "outputs": [],
   "source": [
    "# find the best TT7 star in those bright asterisms\n",
    "brightstars = np.sort(np.array(list(set(np.ndarray.flatten(brightasterisms)))))"
   ]
  },
  {
   "cell_type": "code",
   "execution_count": 50,
   "metadata": {},
   "outputs": [
    {
     "data": {
      "text/plain": [
       "array([[895, 657, 856, 918],\n",
       "       [895, 832, 856, 918],\n",
       "       [594, 895, 856, 918],\n",
       "       [594, 832, 856, 918],\n",
       "       [594, 657, 856, 918],\n",
       "       [895, 832, 856, 814],\n",
       "       [895, 657, 856, 814],\n",
       "       [594, 895, 856, 814],\n",
       "       [594, 657, 856, 814],\n",
       "       [594, 832, 856, 814],\n",
       "       [348, 832, 856, 814],\n",
       "       [348, 832, 856, 918],\n",
       "       [348, 895, 856, 814],\n",
       "       [348, 895, 856, 918],\n",
       "       [348, 657, 856, 918],\n",
       "       [348, 657, 856, 814],\n",
       "       [814, 832, 982, 918],\n",
       "       [895, 832, 982, 814],\n",
       "       [348, 657, 982, 918],\n",
       "       [348, 895, 982, 918],\n",
       "       [348, 895, 982, 814],\n",
       "       [348, 832, 982, 814],\n",
       "       [348, 657, 982, 814],\n",
       "       [348, 832, 982, 918],\n",
       "       [594, 982, 856, 918]])"
      ]
     },
     "execution_count": 50,
     "metadata": {},
     "output_type": "execute_result"
    }
   ],
   "source": [
    "brightasterisms"
   ]
  },
  {
   "cell_type": "code",
   "execution_count": 51,
   "metadata": {},
   "outputs": [
    {
     "data": {
      "text/plain": [
       "array([348, 594, 657, 814, 832, 856, 895, 918, 982])"
      ]
     },
     "execution_count": 51,
     "metadata": {},
     "output_type": "execute_result"
    }
   ],
   "source": [
    "brightstars"
   ]
  },
  {
   "cell_type": "markdown",
   "metadata": {},
   "source": [
    "#### for now we use the best TT7 star"
   ]
  },
  {
   "cell_type": "code",
   "execution_count": 52,
   "metadata": {},
   "outputs": [],
   "source": [
    "# sort from lowest to highest error\n",
    "tt7_gs_indices = np.argsort(tt7_res_rms[brightstars])\n",
    "tt7idx = brightstars[tt7_gs_indices[0]]"
   ]
  },
  {
   "cell_type": "code",
   "execution_count": 53,
   "metadata": {},
   "outputs": [
    {
     "data": {
      "text/plain": [
       "657"
      ]
     },
     "execution_count": 53,
     "metadata": {},
     "output_type": "execute_result"
    }
   ],
   "source": [
    "tt7idx"
   ]
  },
  {
   "cell_type": "code",
   "execution_count": 54,
   "metadata": {},
   "outputs": [],
   "source": [
    "# find the asterisms that include the brightest TT7 star\n",
    "selectedasterisms = [] \n",
    "for asterism in brightasterisms:\n",
    "    if tt7idx in asterism:\n",
    "        selectedasterisms.append(asterism)"
   ]
  },
  {
   "cell_type": "code",
   "execution_count": 55,
   "metadata": {},
   "outputs": [
    {
     "data": {
      "text/plain": [
       "[array([895, 657, 856, 918]),\n",
       " array([594, 657, 856, 918]),\n",
       " array([895, 657, 856, 814]),\n",
       " array([594, 657, 856, 814]),\n",
       " array([348, 657, 856, 918]),\n",
       " array([348, 657, 856, 814]),\n",
       " array([348, 657, 982, 918]),\n",
       " array([348, 657, 982, 814])]"
      ]
     },
     "execution_count": 55,
     "metadata": {},
     "output_type": "execute_result"
    }
   ],
   "source": [
    "selectedasterisms"
   ]
  },
  {
   "cell_type": "markdown",
   "metadata": {},
   "source": [
    "#### supposed to loop over all the asterisms. We step through the first, then loop over all of them"
   ]
  },
  {
   "cell_type": "code",
   "execution_count": 56,
   "metadata": {},
   "outputs": [],
   "source": [
    "# find the best performing active optics asterism\n",
    "nAsterism = len(selectedasterisms)\n",
    "res = np.zeros(nAsterism)\n",
    "ast = 0\n",
    "asterism = selectedasterisms[0]"
   ]
  },
  {
   "cell_type": "code",
   "execution_count": 57,
   "metadata": {},
   "outputs": [],
   "source": [
    "gsidx = asterism.tolist()\n",
    "gsidx.remove(tt7idx)\n",
    "gsidx = np.array(gsidx)"
   ]
  },
  {
   "cell_type": "code",
   "execution_count": 58,
   "metadata": {},
   "outputs": [
    {
     "data": {
      "text/plain": [
       "array([895, 856, 918])"
      ]
     },
     "execution_count": 58,
     "metadata": {},
     "output_type": "execute_result"
    }
   ],
   "source": [
    "gsidx"
   ]
  },
  {
   "cell_type": "code",
   "execution_count": 59,
   "metadata": {},
   "outputs": [
    {
     "name": "stdout",
     "output_type": "stream",
     "text": [
      "48 25.5\n"
     ]
    }
   ],
   "source": [
    "# generate a reconstructor for each one for one segment\n",
    "wfs = ceo.GeometricShackHartmann(nLenslet,L/nLenslet,3,coupled=True)\n",
    "print(nLenslet, L)"
   ]
  },
  {
   "cell_type": "code",
   "execution_count": 60,
   "metadata": {},
   "outputs": [],
   "source": [
    "pos = gspos[gsidx,:]\n",
    "zen = [np.hypot(pos[i,0],pos[i,1])/206265. for i in range(3)]\n",
    "azi = [np.arctan2(pos[i,0],pos[i,1]) for i in range(3)]\n",
    "mag = vismag[gsidx]"
   ]
  },
  {
   "cell_type": "code",
   "execution_count": 61,
   "metadata": {},
   "outputs": [
    {
     "data": {
      "text/plain": [
       "array([[-460.04640211,  287.18380339],\n",
       "       [ -39.53599425, -532.95225354],\n",
       "       [ 537.97701087,  -91.4335867 ]])"
      ]
     },
     "execution_count": 61,
     "metadata": {},
     "output_type": "execute_result"
    }
   ],
   "source": [
    "pos"
   ]
  },
  {
   "cell_type": "code",
   "execution_count": 62,
   "metadata": {},
   "outputs": [
    {
     "data": {
      "text/plain": [
       "array([10.65870517, 10.70908444,  9.18692908])"
      ]
     },
     "execution_count": 62,
     "metadata": {},
     "output_type": "execute_result"
    }
   ],
   "source": [
    "mag"
   ]
  },
  {
   "cell_type": "code",
   "execution_count": 63,
   "metadata": {},
   "outputs": [],
   "source": [
    "gs = ceo.Source(photometric_band=\"R+I\",zenith=zen,azimuth=azi,magnitude=np.array([10,10,10]),\n",
    "                rays_box_size=L,rays_box_sampling=nLenslet*8+1,rays_origin=[0,0,25])\n",
    "\n",
    "# run my own calibration, because the interaction matrix is not consistent with the measured values\n",
    "gs.reset()\n",
    "gmt.reset()\n",
    "gmt.propagate(gs)\n",
    "wfs.calibrate(gs,threshold)\n",
    "gs>>(gmt,wfs)\n",
    "nmes = len(wfs.get_measurement())\n",
    "nvl = np.sum(wfs.valid_lenslet.f.host(shape=(3,48**2))>0,axis=1)"
   ]
  },
  {
   "cell_type": "code",
   "execution_count": 64,
   "metadata": {},
   "outputs": [
    {
     "name": "stdout",
     "output_type": "stream",
     "text": [
      "0.5 7238 [1200 1212 1207]\n"
     ]
    }
   ],
   "source": [
    "print(threshold, nmes, nvl)"
   ]
  },
  {
   "cell_type": "code",
   "execution_count": 65,
   "metadata": {},
   "outputs": [],
   "source": [
    "magvec = np.array([0,13,13.5,14,14.5,15,15.5,16,16.5,17,17.5,18,18.5,19,19.5,20])\n",
    "\n",
    "# this is the error in the segment tip-tilt estimate using a 24x24 SH WFS\n",
    "meserr_for_800mas = np.array([0.00136217,0.00136217,0.00171104,0.00216745,0.00275779,0.00351932,0.00453948,0.00590709,0.00780148,0.0104783,0.0144437,0.0204345,0.0296933,0.044133,0.0674427,0.110046]) # measurement error per subaperture\n",
    "meserr_mas = meserr_for_800mas*seeingArcsec/0.8\n",
    "sh_interp_function = scipy.interpolate.interp1d(magvec,meserr_mas,bounds_error=False)\n",
    "\n",
    "noisediag = np.zeros(nmes)\n",
    "idx0 = 0\n",
    "n2 = int(nmes/2)\n",
    "for c1 in range(3):\n",
    "    sh_noise_rms = sh_interp_function(np.clip(mag[c1],np.min(magvec),np.max(magvec)))\n",
    "    noisediag[idx0:idx0+nvl[c1]] = sh_noise_rms # noise in arcsec\n",
    "    noisediag[idx0+n2:idx0+n2+nvl[c1]] = sh_noise_rms # noise in arcsec\n",
    "    idx0 += nvl[c1]\n",
    "\n",
    "poke = 5e-6\n",
    "Rxyz = [3,4,5,9,10,11]# modes are M1S1Rxyz and M2S1Rxyz\n",
    "nmodes = 82\n",
    "H = np.zeros((nmes,nmodes))"
   ]
  },
  {
   "cell_type": "code",
   "execution_count": 66,
   "metadata": {},
   "outputs": [],
   "source": [
    "~gmt\n",
    "for k in Rxyz:\n",
    "    modes = np.zeros(nmodes)\n",
    "    modes[k] = poke\n",
    "    modestogmtstate(gmt,modes)\n",
    "    ~wfs\n",
    "    gs>>(gmt,wfs)\n",
    "    +gs\n",
    "    +wfs\n",
    "    mes = wfs.get_measurement()\n",
    "    H[:,k] = mes/poke\n",
    "\n",
    "H = H[:,Rxyz]"
   ]
  },
  {
   "cell_type": "code",
   "execution_count": 67,
   "metadata": {},
   "outputs": [],
   "source": [
    "#penmat = np.eye(6)*1e-7*0.\n",
    "#Hinv = np.linalg.solve(np.transpose(H)@H+penmat,np.transpose(H))\n",
    "Hinv = np.linalg.solve(np.transpose(H)@H,np.transpose(H))\n",
    "Cnn = np.diag(noisediag)\n",
    "\n",
    "J = np.trace(Hinv@Cnn@np.transpose(Hinv))\n",
    "res[ast] = J"
   ]
  },
  {
   "cell_type": "code",
   "execution_count": 68,
   "metadata": {},
   "outputs": [
    {
     "name": "stdout",
     "output_type": "stream",
     "text": [
      "4088.9561126815247 [4088.95611268    0.            0.            0.            0.\n",
      "    0.            0.            0.        ]\n"
     ]
    }
   ],
   "source": [
    "print(J, res)"
   ]
  },
  {
   "cell_type": "markdown",
   "metadata": {},
   "source": [
    "Now go back to the loop"
   ]
  },
  {
   "cell_type": "code",
   "execution_count": 69,
   "metadata": {},
   "outputs": [],
   "source": [
    "# find the best performing active optics asterism\n",
    "nAsterism = len(selectedasterisms)\n",
    "res = np.zeros(nAsterism)\n",
    "for ast,asterism in enumerate(selectedasterisms):\n",
    "    gsidx = asterism.tolist()\n",
    "    gsidx.remove(tt7idx)\n",
    "    gsidx = np.array(gsidx)\n",
    "\n",
    "    # generate a reconstructor for each one for one segment\n",
    "    wfs = ceo.GeometricShackHartmann(nLenslet,L/nLenslet,3,coupled=True)\n",
    "\n",
    "    pos = gspos[gsidx,:]\n",
    "    zen = [np.hypot(pos[i,0],pos[i,1])/206265. for i in range(3)]\n",
    "    azi = [np.arctan2(pos[i,0],pos[i,1]) for i in range(3)]\n",
    "    mag = vismag[gsidx]\n",
    "\n",
    "    gs = ceo.Source(photometric_band=\"R+I\",zenith=zen,azimuth=azi,magnitude=np.array([10,10,10]),rays_box_size=L,rays_box_sampling=nLenslet*8+1,rays_origin=[0,0,25])\n",
    "\n",
    "    # run my own calibration, because the interaction matrix is not consistent with the measured values\n",
    "    gs.reset()\n",
    "    gmt.reset()\n",
    "    gmt.propagate(gs)\n",
    "    wfs.calibrate(gs,threshold)\n",
    "    gs>>(gmt,wfs)\n",
    "    nmes = len(wfs.get_measurement())\n",
    "    nvl = np.sum(wfs.valid_lenslet.f.host(shape=(3,48**2))>0,axis=1)\n",
    "\n",
    "    magvec = np.array([0,13,13.5,14,14.5,15,15.5,16,16.5,17,17.5,18,18.5,19,19.5,20])\n",
    "\n",
    "    # this is the error in the segment tip-tilt estimate using a 24x24 SH WFS\n",
    "    meserr_for_800mas = np.array([0.00136217,0.00136217,0.00171104,0.00216745,0.00275779,0.00351932,0.00453948,0.00590709,0.00780148,0.0104783,0.0144437,0.0204345,0.0296933,0.044133,0.0674427,0.110046]) # measurement error per subaperture\n",
    "    meserr_mas = meserr_for_800mas*seeingArcsec/0.8\n",
    "    sh_interp_function = scipy.interpolate.interp1d(magvec,meserr_mas,bounds_error=False)\n",
    "\n",
    "    noisediag = np.zeros(nmes)\n",
    "    idx0 = 0\n",
    "    n2 = int(nmes/2)\n",
    "    for c1 in range(3):\n",
    "        sh_noise_rms = sh_interp_function(np.clip(mag[c1],np.min(magvec),np.max(magvec)))\n",
    "        noisediag[idx0:idx0+nvl[c1]] = sh_noise_rms # noise in arcsec\n",
    "        noisediag[idx0+n2:idx0+n2+nvl[c1]] = sh_noise_rms # noise in arcsec\n",
    "        idx0 += nvl[c1]\n",
    "\n",
    "    poke = 5e-6\n",
    "    Rxyz = [3,4,5,9,10,11]# modes are M1S1Rxyz and M2S1Rxyz\n",
    "    nmodes = 82\n",
    "    H = np.zeros((nmes,nmodes))\n",
    "\n",
    "    ~gmt\n",
    "    for k in Rxyz:\n",
    "        modes = np.zeros(nmodes)\n",
    "        modes[k] = poke\n",
    "        modestogmtstate(gmt,modes)\n",
    "        ~wfs\n",
    "        gs>>(gmt,wfs)\n",
    "        +gs\n",
    "        +wfs\n",
    "        mes = wfs.get_measurement()\n",
    "        H[:,k] = mes/poke\n",
    "\n",
    "    H = H[:,Rxyz]\n",
    "    #penmat = np.eye(6)*1e-7*0.\n",
    "    #Hinv = np.linalg.solve(np.transpose(H)@H+penmat,np.transpose(H))\n",
    "    Hinv = np.linalg.solve(np.transpose(H)@H,np.transpose(H))\n",
    "    Cnn = np.diag(noisediag)\n",
    "\n",
    "    J = np.trace(Hinv@Cnn@np.transpose(Hinv))\n",
    "    res[ast] = J"
   ]
  },
  {
   "cell_type": "code",
   "execution_count": 70,
   "metadata": {},
   "outputs": [
    {
     "data": {
      "text/plain": [
       "array([4088.95611268, 4575.60146232, 3727.71892479, 4723.6896004 ,\n",
       "       5621.64810257, 5879.11732435, 4340.78166587, 4547.00863598])"
      ]
     },
     "execution_count": 70,
     "metadata": {},
     "output_type": "execute_result"
    }
   ],
   "source": [
    "res"
   ]
  },
  {
   "cell_type": "code",
   "execution_count": 71,
   "metadata": {},
   "outputs": [],
   "source": [
    "sidx = np.argsort(res)[0]\n",
    "\n",
    "asterism = selectedasterisms[sidx]\n",
    "tt7probe = np.where(tt7idx == asterism)[0][0]       \n",
    "tt7star = validpos[tt7idx]\n",
    "\n",
    "acoprobes = list(range(4))\n",
    "acoprobes.remove(tt7probe)\n",
    "acostars = validpos[gsidx]\n",
    "\n",
    "probefunction = ['aco','aco','aco','aco']\n",
    "probefunction[tt7probe] = 'tt7'\n",
    "\n",
    "gsno = validpos[asterism]\n",
    "vismaggs = vismag[asterism]\n",
    "xposgs = xposarcsec[asterism]\n",
    "yposgs =  yposarcsec[asterism]\n",
    "\n",
    "bestasterism = {'Probe number': [0,1,2,3], 'Probe function': probefunction,'Guide star':gsno,\n",
    "                'Visible magnitude':vismaggs,'xpos':xposgs,'ypos':yposgs}"
   ]
  },
  {
   "cell_type": "code",
   "execution_count": 72,
   "metadata": {},
   "outputs": [
    {
     "data": {
      "text/plain": [
       "2"
      ]
     },
     "execution_count": 72,
     "metadata": {},
     "output_type": "execute_result"
    }
   ],
   "source": [
    "sidx"
   ]
  },
  {
   "cell_type": "code",
   "execution_count": 73,
   "metadata": {},
   "outputs": [
    {
     "data": {
      "text/plain": [
       "array([895, 657, 856, 814])"
      ]
     },
     "execution_count": 73,
     "metadata": {},
     "output_type": "execute_result"
    }
   ],
   "source": [
    "asterism"
   ]
  },
  {
   "cell_type": "code",
   "execution_count": 74,
   "metadata": {},
   "outputs": [
    {
     "data": {
      "text/plain": [
       "1278"
      ]
     },
     "execution_count": 74,
     "metadata": {},
     "output_type": "execute_result"
    }
   ],
   "source": [
    "tt7star"
   ]
  },
  {
   "cell_type": "code",
   "execution_count": 75,
   "metadata": {},
   "outputs": [
    {
     "data": {
      "text/plain": [
       "array([ 588,  589,  592, ..., 1725, 1726, 1727])"
      ]
     },
     "execution_count": 75,
     "metadata": {},
     "output_type": "execute_result"
    }
   ],
   "source": [
    "validpos"
   ]
  },
  {
   "cell_type": "code",
   "execution_count": 76,
   "metadata": {},
   "outputs": [
    {
     "data": {
      "text/plain": [
       "1"
      ]
     },
     "execution_count": 76,
     "metadata": {},
     "output_type": "execute_result"
    }
   ],
   "source": [
    "tt7probe"
   ]
  },
  {
   "cell_type": "code",
   "execution_count": 77,
   "metadata": {},
   "outputs": [
    {
     "data": {
      "text/plain": [
       "array([1526, 1278, 1485, 1442])"
      ]
     },
     "execution_count": 77,
     "metadata": {},
     "output_type": "execute_result"
    }
   ],
   "source": [
    "gsno"
   ]
  },
  {
   "cell_type": "code",
   "execution_count": 78,
   "metadata": {},
   "outputs": [
    {
     "data": {
      "text/plain": [
       "{'Probe number': [0, 1, 2, 3],\n",
       " 'Probe function': ['aco', 'tt7', 'aco', 'aco'],\n",
       " 'Guide star': array([1526, 1278, 1485, 1442]),\n",
       " 'Visible magnitude': array([10.65870517,  9.77749988, 10.70908444, 11.50795519]),\n",
       " 'xpos': array([-460.04640211, -495.27164192,  -39.53599425,  484.36056244]),\n",
       " 'ypos': array([ 287.18380339,   -6.08305615, -532.95225354,  209.89946676])}"
      ]
     },
     "execution_count": 78,
     "metadata": {},
     "output_type": "execute_result"
    }
   ],
   "source": [
    "bestasterism"
   ]
  },
  {
   "cell_type": "code",
   "execution_count": 79,
   "metadata": {},
   "outputs": [
    {
     "data": {
      "text/plain": [
       "'/home/ubuntu/PYTHON/AGWS/Fields/dgwf_asterism_0000.csv'"
      ]
     },
     "execution_count": 79,
     "metadata": {},
     "output_type": "execute_result"
    }
   ],
   "source": [
    "outputfilename"
   ]
  },
  {
   "cell_type": "code",
   "execution_count": 80,
   "metadata": {},
   "outputs": [
    {
     "name": "stdout",
     "output_type": "stream",
     "text": [
      "/home/ubuntu/PYTHON/AGWS/Fields/dgwf_asterism_0000.csv\n",
      "   Probe number Probe function  Guide star  Visible magnitude        xpos  \\\n",
      "0             0            aco        1526          10.658705 -460.046402   \n",
      "1             1            tt7        1278           9.777500 -495.271642   \n",
      "2             2            aco        1485          10.709084  -39.535994   \n",
      "3             3            aco        1442          11.507955  484.360562   \n",
      "\n",
      "         ypos  \n",
      "0  287.183803  \n",
      "1   -6.083056  \n",
      "2 -532.952254  \n",
      "3  209.899467  \n"
     ]
    }
   ],
   "source": [
    "# report the best asterism\n",
    "print(outputfilename)\n",
    "df = pd.DataFrame(bestasterism,index=None)\n",
    "print (df)\n",
    "df.to_csv(outputfilename, index = False, header=True)"
   ]
  },
  {
   "cell_type": "code",
   "execution_count": null,
   "metadata": {},
   "outputs": [],
   "source": []
  }
 ],
 "metadata": {
  "kernelspec": {
   "display_name": "Python 3",
   "language": "python",
   "name": "python3"
  },
  "language_info": {
   "codemirror_mode": {
    "name": "ipython",
    "version": 3
   },
   "file_extension": ".py",
   "mimetype": "text/x-python",
   "name": "python",
   "nbconvert_exporter": "python",
   "pygments_lexer": "ipython3",
   "version": "3.6.10"
  }
 },
 "nbformat": 4,
 "nbformat_minor": 2
}
