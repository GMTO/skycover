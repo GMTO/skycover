{
 "cells": [
  {
   "cell_type": "code",
   "execution_count": 1,
   "metadata": {},
   "outputs": [
    {
     "name": "stdout",
     "output_type": "stream",
     "text": [
      "/home/ubuntu/CEO/python/ceo/zemax\n"
     ]
    }
   ],
   "source": [
    "import warnings\n",
    "warnings.filterwarnings(\"ignore\")\n",
    "import sys\n",
    "import os\n",
    "sys.path.append(os.path.expanduser('~/PYTHON/ATP/'))\n",
    "import ceo\n",
    "import yaml\n",
    "import pandas as pd\n",
    "import numpy as np\n",
    "import atp\n",
    "import matplotlib.pyplot as plt\n",
    "\n",
    "from astropy.units import Quantity\n",
    "from astropy.time import Time\n",
    "import astropy.io.fits as pyfits\n",
    "\n",
    "def gmtstatetomodes(gmt):\n",
    "    state = gmt.state\n",
    "    modes = np.zeros(82)\n",
    "\n",
    "    M1Txyz = np.reshape(state['M1']['Txyz'],21)\n",
    "    modes[[0,1,2,12,13,14,24,25,26,36,37,38,48,49,50,60,61,62,72,73,74]] = M1Txyz\n",
    "\n",
    "    M2Txyz = np.reshape(state['M2']['Txyz'],21)\n",
    "    modes[[6,7,8,18,19,20,30,31,32,42,43,44,54,55,56,66,67,68,77,78,79]] = M2Txyz\n",
    "\n",
    "    M1Rxyz = np.reshape(state['M1']['Rxyz'],21)\n",
    "    modes[[3,4,5,15,16,17,27,28,29,39,40,41,51,52,53,63,64,65,75,76]] = M1Rxyz[0:20]\n",
    "\n",
    "    M2Rxyz = np.reshape(state['M2']['Rxyz'],21)\n",
    "    modes[[9,10,11,21,22,23,33,34,35,45,46,47,57,58,59,69,70,71,80,81]] = M2Rxyz[0:20]\n",
    "\n",
    "    return modes\n",
    "\n",
    "def modestogmtstate(gmt,modes):\n",
    "    state = gmt.state\n",
    "\n",
    "    M1Txyz = modes[[0,1,2,12,13,14,24,25,26,36,37,38,48,49,50,60,61,62,72,73,74]]\n",
    "    state['M1']['Txyz'] = np.reshape(M1Txyz,(7,3))\n",
    "\n",
    "    M2Txyz = modes[[6,7,8,18,19,20,30,31,32,42,43,44,54,55,56,66,67,68,77,78,79]]\n",
    "    state['M2']['Txyz'] = np.reshape(M2Txyz,(7,3))\n",
    "\n",
    "    M1Rxyz = np.zeros(21)\n",
    "    M1Rxyz[0:20] = modes[[3,4,5,15,16,17,27,28,29,39,40,41,51,52,53,63,64,65,75,76]]\n",
    "    state['M1']['Rxyz'] = np.reshape(M1Rxyz,(7,3))\n",
    "\n",
    "    M2Rxyz = np.zeros(21)\n",
    "    M2Rxyz[0:20] = modes[[9,10,11,21,22,23,33,34,35,45,46,47,57,58,59,69,70,71,80,81]]\n",
    "    state['M2']['Rxyz'] = np.reshape(M2Rxyz,(7,3))\n",
    "    gmt^=state"
   ]
  },
  {
   "cell_type": "code",
   "execution_count": 2,
   "metadata": {},
   "outputs": [],
   "source": [
    "\n",
    "L=25.5\n",
    "nLenslet = 24\n",
    "threshold = 0.5 # subaperture flux threshold\n",
    "\n",
    "girmode = \"tracking\"\n",
    "config = \"dgwf\"\n",
    "saveresults = 0\n",
    "\n",
    "# load the data about the observation\n",
    "data = pyfits.getdata(os.path.expanduser('~/PYTHON/AGWS/SAO/weather_pointing_data.fits'))\n",
    "temperature = data[:,0] # Temperature draw in deg C\n",
    "pressure = data[:,1] # Pressure draw in mbar\n",
    "humidity = data[:,2] # Relative humidity in %\n",
    "windspeed = data[:,3] # Wind speed in m/s\n",
    "winddir = data[:,4] # Wind direction in degrees\n",
    "datetime = data[:,5] # Date vector (Clay is first 500, Baade is second 500)\n",
    "scira = data[:,6] # RA vector (degrees; Clay is first 500, Baade is second 500)\n",
    "scidec = data[:,7] #  Declination vector (degrees; Clay is first 500, Baade is second 500)\n",
    "telaz = data[:,8] # Azimuth angle of telescope (degrees; Clay is first 500, Baade is second 500)\n",
    "telel = data[:,9] # Elevation angle of telescope (degrees; Clay is first 500, Baade is second 500)\n",
    "r0 = data[:,10] # r0 (cm)\n",
    "L0 = data[:,11] # L0 (m)\n",
    "\n",
    "gmt = ceo.GMT_MX()"
   ]
  },
  {
   "cell_type": "code",
   "execution_count": 3,
   "metadata": {},
   "outputs": [],
   "source": [
    "\n",
    "pupil_size = 25.5\n",
    "N_SIDE_LENSLET = 24 # The linear size of the lenslet array (>=1).\n",
    "N_PX_LENSLET = 24 # The sampling in pixel of one lenslet.\n",
    "d = pupil_size/N_SIDE_LENSLET # The lenslet pitch [m].\n",
    "DFT_osf = 2 # [2] optional The oversampling factor for the DFT\n",
    "N_PX_IMAGE = N_PX_LENSLET*DFT_osf # int, optional The sampling in pixel of the imagelet [N_PX_LENSLET]\n",
    "BIN_IMAGE = 6 # optional The binning factor of the imagelet [1]\n",
    "N_GS = 1 # optional The number of guide stars [1]\n",
    "exposureTime = 0.005 \n",
    "readOutNoiseRms = 0.56\n",
    "noiseFactor = np.sqrt(2.)\n",
    "sky_magnitude = 19.2\n",
    "\n",
    "gs_wavelength = 715e-9\n",
    "r0_wavelength = 500e-9\n",
    "\n",
    "savefilename = config+'_tt7err.fits'"
   ]
  },
  {
   "cell_type": "markdown",
   "metadata": {},
   "source": [
    "### TT7 measurement error = f(mag, seeing, airmass, throughput(opt config))"
   ]
  },
  {
   "cell_type": "code",
   "execution_count": 11,
   "metadata": {},
   "outputs": [
    {
     "name": "stdout",
     "output_type": "stream",
     "text": [
      "seeing (arcsec) : 0.600\n"
     ]
    }
   ],
   "source": [
    "telzen = 0*np.pi/180. #at zenith\n",
    "airmass = 1./np.cos(telzen)\n",
    "\n",
    "zeropoint_correction = 16.9e9 / 24.46e9\n",
    "atmospheric_throughput = 0.96**airmass \n",
    "if config == \"dgwf\":\n",
    "    telescope_throughput = 0.589 \n",
    "else:\n",
    "    telescope_throughput = 0.724\n",
    "agws_throughput = 0.75\n",
    "dust_throughput = 0.90\n",
    "quantum_efficiency = 0.65 # quantum efficiency    \n",
    "\n",
    "photoElectronGain = zeropoint_correction*atmospheric_throughput*telescope_throughput*agws_throughput*dust_throughput*quantum_efficiency\n",
    "\n",
    "r0_val = 0.16\n",
    "r0_val *= atp.r0_scaling(r0_wavelength,gs_wavelength,telzen)\n",
    "seeing_rad = gs_wavelength/r0_val\n",
    "seeing_arcsec = seeing_rad*ceo.constants.RAD2ARCSEC\n",
    "print(\"seeing (arcsec) : %5.3f\" %seeing_arcsec)"
   ]
  },
  {
   "cell_type": "code",
   "execution_count": 66,
   "metadata": {},
   "outputs": [],
   "source": [
    "xpos = 0\n",
    "ypos = 0\n",
    "#vismag = np.arange(9,21.5,0.5)\n",
    "vismag = np.arange(9,21.1,0.5)"
   ]
  },
  {
   "cell_type": "code",
   "execution_count": 64,
   "metadata": {},
   "outputs": [
    {
     "data": {
      "text/plain": [
       "array([ 9. ,  9.5, 10. , 10.5, 11. , 11.5, 12. , 12.5, 13. , 13.5, 14. ,\n",
       "       14.5, 15. , 15.5, 16. , 16.5, 17. , 17.5, 18. , 18.5, 19. , 19.5,\n",
       "       20. , 20.5, 21. ])"
      ]
     },
     "execution_count": 64,
     "metadata": {},
     "output_type": "execute_result"
    }
   ],
   "source": [
    "vismag"
   ]
  },
  {
   "cell_type": "code",
   "execution_count": 35,
   "metadata": {},
   "outputs": [
    {
     "name": "stdout",
     "output_type": "stream",
     "text": [
      "576 1.0625 2 48 6\n"
     ]
    }
   ],
   "source": [
    "print(N_SIDE_LENSLET* N_PX_LENSLET, d, DFT_osf, N_PX_IMAGE, BIN_IMAGE)"
   ]
  },
  {
   "cell_type": "code",
   "execution_count": 72,
   "metadata": {},
   "outputs": [
    {
     "name": "stdout",
     "output_type": "stream",
     "text": [
      "mag = 9.0    error along each axis (arcsec) 0.0008197665563791004\n",
      "mag = 9.5    error along each axis (arcsec) 0.001113026053243372\n",
      "mag = 10.0    error along each axis (arcsec) 0.001484697659610549\n",
      "mag = 10.5    error along each axis (arcsec) 0.0021630886032956475\n",
      "mag = 11.0    error along each axis (arcsec) 0.0028195993213320147\n",
      "mag = 11.5    error along each axis (arcsec) 0.0036409169495158927\n",
      "mag = 12.0    error along each axis (arcsec) 0.004331590296213031\n",
      "mag = 12.5    error along each axis (arcsec) 0.004805409863567292\n",
      "mag = 13.0    error along each axis (arcsec) 0.005100417881006767\n",
      "mag = 13.5    error along each axis (arcsec) 0.00565561494539595\n",
      "mag = 14.0    error along each axis (arcsec) 0.00569561031218772\n",
      "mag = 14.5    error along each axis (arcsec) 0.00524086356836326\n",
      "mag = 15.0    error along each axis (arcsec) 0.00559091077435274\n",
      "mag = 15.5    error along each axis (arcsec) 0.005874752276156511\n",
      "mag = 16.0    error along each axis (arcsec) 0.006381467473849945\n",
      "mag = 16.5    error along each axis (arcsec) 0.0063527760982239135\n",
      "mag = 17.0    error along each axis (arcsec) 0.005868889580352818\n",
      "mag = 17.5    error along each axis (arcsec) 0.0068949395581167205\n",
      "mag = 18.0    error along each axis (arcsec) 0.005798519108757217\n",
      "mag = 18.5    error along each axis (arcsec) 0.006428982607885959\n",
      "mag = 19.0    error along each axis (arcsec) 0.006204643477068319\n",
      "mag = 19.5    error along each axis (arcsec) 0.006169239746982578\n",
      "mag = 20.0    error along each axis (arcsec) 0.005607005948716699\n",
      "mag = 20.5    error along each axis (arcsec) 0.0057373093757371344\n",
      "mag = 21.0    error along each axis (arcsec) 0.00594716990890029\n"
     ]
    }
   ],
   "source": [
    "results = []\n",
    "for mag in vismag:\n",
    "    zen = np.hypot(xpos,ypos)/3600.*np.pi/180 # radial distance in radians\n",
    "    azi = np.arctan2(ypos,xpos) # azimuth in radians\n",
    "\n",
    "    wfs_prms = {'N_SIDE_LENSLET':N_SIDE_LENSLET,\n",
    "                'N_PX_LENSLET':N_PX_LENSLET,'d':d,\n",
    "                'DFT_osf':DFT_osf,'N_PX_IMAGE':N_PX_IMAGE,'BIN_IMAGE':BIN_IMAGE,'N_GS': N_GS,\n",
    "                'readOutNoiseRms':readOutNoiseRms,'noiseFactor':noiseFactor,\n",
    "                'photoElectronGain':photoElectronGain, 'exposureTime':exposureTime,'intensityThreshold':0.0}\n",
    "    wfs = ceo.ShackHartmann(**wfs_prms)\n",
    "    gs = ceo.Source(photometric_band=\"R+I\",zenith=zen,azimuth=azi,magnitude=mag,\n",
    "                    rays_box_size=pupil_size,rays_box_sampling=N_SIDE_LENSLET*N_PX_LENSLET+1,rays_origin=[0,0,25])\n",
    "    ~gmt\n",
    "\n",
    "    # segment tip-tilt interaction matrix (use M2)\n",
    "    gs.reset()\n",
    "    gmt.reset()\n",
    "    gmt.propagate(gs)\n",
    "    wfs.calibrate(gs,threshold)\n",
    "    gs>>(gmt,wfs)\n",
    "\n",
    "    wfs.camera.nBackgroundPhoton = gs.nBackgroundPhoton(sky_magnitude)*11.42 # fudge factor of 11.42 to get the right values (see tt7photometry)\n",
    "\n",
    "    simatm = 0 # simulate atmosphere or simply use\n",
    "    if simatm == 0:\n",
    "        # make the source larger to emulate atmospheric turbulence\n",
    "        fwhm_arcsec = np.sqrt(0.25**2+seeing_arcsec**2)\n",
    "    else:\n",
    "        fwhm_arcsec = 0.25\n",
    "    \n",
    "\n",
    "    unbinned_pixel_scale_arcsec = wfs.pixel_scale_arcsec/BIN_IMAGE\n",
    "    gs.fwhm = fwhm_arcsec/unbinned_pixel_scale_arcsec\n",
    "\n",
    "    nmes = len(wfs.get_measurement())\n",
    "    poke = 5e-6\n",
    "    nmodes = 82\n",
    "    H = np.zeros((nmes,nmodes))\n",
    "\n",
    "    ~gmt\n",
    "    for k in range(nmodes):\n",
    "        modes = np.zeros(nmodes)\n",
    "        modes[k] = poke\n",
    "        modestogmtstate(gmt,modes)\n",
    "        ~wfs\n",
    "        gs>>(gmt,wfs)\n",
    "        +gs\n",
    "        +wfs\n",
    "        mes1 = wfs.get_measurement()\n",
    "        H[:,k] = mes1/poke\n",
    "\n",
    "    # since we are going to compensate with M2 segment tip-tilt, we want to reconstruct M2 Rxy only!\n",
    "    M2Rxy = [9,10,21,22,33,34,45,46,57,58,69,70,80,81]\n",
    "    H7 = H[:,M2Rxy]\n",
    "\n",
    "    nmes7 = len(mes1)\n",
    "    cMat7 = np.linalg.solve(np.transpose(H7)@H7,np.transpose(H7)) # H^-1 = (H^+ H)^-1 H^+\n",
    "\n",
    "    # reconstruct global tip-tilt to find the magnitude of the M2 ASM tip-tilt modes\n",
    "    nvl = np.sum(wfs.valid_lenslet.f.host(shape=(N_GS,N_SIDE_LENSLET**2))>0,axis=1)[0]\n",
    "    \n",
    "    cent = np.zeros(2*nvl)\n",
    "    cent[0:nvl] = 1./206265.\n",
    "    mx = cMat7@cent\n",
    "    arcsec2mode = np.sqrt(np.sum(mx**2)/7.)\n",
    "    mode2arcsec = 1./arcsec2mode\n",
    "\n",
    "    # an M2Rxy mode leads to 0.2466 arcsec of geometric centroids\n",
    "    # mode2arcsec = 0.2466\n",
    "\n",
    "    # check for saturation\n",
    "    ~wfs\n",
    "    gs>>(gmt,wfs)\n",
    "    +gs\n",
    "    +wfs\n",
    "    frame = np.array(wfs.camera.ghost_frame[:wfs.N_PX_FRAME,:])\n",
    "\n",
    "    maxEM = 145e3/np.max(frame)\n",
    "    EM = np.clip(maxEM,1,200)\n",
    "\n",
    "    readOutNoiseRms = 0.1+100./EM\n",
    "    wfs.camera.readOutNoiseRms = readOutNoiseRms\n",
    "\n",
    "    # add turbulence, aberrations (FWHM=0.25, DAR)\n",
    "    # look at TurbulenceSimulation.py to see how turbulence is added\n",
    "\n",
    "    ~gmt    \n",
    "    modeerr = np.zeros((14,100))\n",
    "    centerr = np.zeros((2*nvl,100))\n",
    "    for k1 in range(100):\n",
    "        ~wfs\n",
    "        gs>>(gmt,wfs)\n",
    "        +gs\n",
    "        +wfs\n",
    "        mes = wfs.get_measurement()\n",
    "        centerr[:,k1] = mes\n",
    "        modeerr[:,k1] = cMat7@mes\n",
    "        \n",
    "    # calculate the standard deviation of each mode\n",
    "    moderms = np.std(modeerr,axis=1)\n",
    "    tt7rms_arcsec = np.sqrt(np.mean(moderms**2))*mode2arcsec\n",
    "    print('mag =', mag, '   error along each axis (arcsec)',tt7rms_arcsec)\n",
    "    results.append(tt7rms_arcsec)\n",
    "results = np.array(results)"
   ]
  },
  {
   "cell_type": "code",
   "execution_count": 76,
   "metadata": {},
   "outputs": [
    {
     "data": {
      "image/png": "[encoded data removed]",
      "text/plain": [
       "<Figure size 432x288 with 1 Axes>"
      ]
     },
     "metadata": {},
     "output_type": "display_data"
    }
   ],
   "source": [
    "plt.plot(vismag, results*1000,'-bo')\n",
    "plt.ylabel('TT7 error mas')\n",
    "plt.xlabel('mag')\n",
    "plt.grid();"
   ]
  },
  {
   "cell_type": "code",
   "execution_count": 77,
   "metadata": {},
   "outputs": [
    {
     "data": {
      "text/plain": [
       "206264.80624709636"
      ]
     },
     "execution_count": 77,
     "metadata": {},
     "output_type": "execute_result"
    }
   ],
   "source": [
    "1./np.pi*180*3600"
   ]
  },
  {
   "cell_type": "code",
   "execution_count": null,
   "metadata": {},
   "outputs": [],
   "source": []
  }
 ],
 "metadata": {
  "kernelspec": {
   "display_name": "Python 3",
   "language": "python",
   "name": "python3"
  },
  "language_info": {
   "codemirror_mode": {
    "name": "ipython",
    "version": 3
   },
   "file_extension": ".py",
   "mimetype": "text/x-python",
   "name": "python",
   "nbconvert_exporter": "python",
   "pygments_lexer": "ipython3",
   "version": "3.6.10"
  }
 },
 "nbformat": 4,
 "nbformat_minor": 2
}
