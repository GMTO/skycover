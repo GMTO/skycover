{
 "cells": [
  {
   "cell_type": "code",
   "execution_count": 7,
   "id": "421b777c",
   "metadata": {},
   "outputs": [],
   "source": [
    "import os\n",
    "from agwsprobes import *"
   ]
  },
  {
   "cell_type": "code",
   "execution_count": 5,
   "id": "5cedbc76",
   "metadata": {},
   "outputs": [],
   "source": [
    "os.environ[\"PATH\"] += os.pathsep + './'"
   ]
  },
  {
   "cell_type": "code",
   "execution_count": 9,
   "id": "46fb3aab",
   "metadata": {},
   "outputs": [],
   "source": [
    "dgnf = agwsinit('dgnf')\n",
    "m3   = agwsinit('m3')\n",
    "dgwf = agwsinit('dgwf')\n",
    "gmacs = agwsinit('gmacs')"
   ]
  },
  {
   "cell_type": "code",
   "execution_count": 10,
   "id": "9bc33d28",
   "metadata": {},
   "outputs": [
    {
     "name": "stdout",
     "output_type": "stream",
     "text": [
      "False\n"
     ]
    }
   ],
   "source": [
    "#input needs to be in degree, but we like to think in arcmin\n",
    "testpos = 1./60* np.array(([0,7.2],[-7.2,0], [0,-7.2], [7.2, 0]))\n",
    "(success,loc,idx) = agwscheck(dgnf,testpos)\n",
    "print(success)"
   ]
  },
  {
   "cell_type": "code",
   "execution_count": 11,
   "id": "c31545cf",
   "metadata": {},
   "outputs": [
    {
     "data": {
      "text/plain": [
       "array([[ 0.  ,  0.12],\n",
       "       [-0.12,  0.  ],\n",
       "       [ 0.  , -0.12],\n",
       "       [ 0.12,  0.  ]])"
      ]
     },
     "execution_count": 11,
     "metadata": {},
     "output_type": "execute_result"
    }
   ],
   "source": [
    "testpos"
   ]
  },
  {
   "cell_type": "code",
   "execution_count": 14,
   "id": "142baa77",
   "metadata": {},
   "outputs": [
    {
     "data": {
      "text/plain": [
       "150280.0"
      ]
     },
     "execution_count": 14,
     "metadata": {},
     "output_type": "execute_result"
    }
   ],
   "source": [
    "170000*1.04*0.85"
   ]
  },
  {
   "cell_type": "code",
   "execution_count": null,
   "id": "cf55fc2e",
   "metadata": {},
   "outputs": [],
   "source": []
  }
 ],
 "metadata": {
  "kernelspec": {
   "display_name": "Python 3 (ipykernel)",
   "language": "python",
   "name": "python3"
  },
  "language_info": {
   "codemirror_mode": {
    "name": "ipython",
    "version": 3
   },
   "file_extension": ".py",
   "mimetype": "text/x-python",
   "name": "python",
   "nbconvert_exporter": "python",
   "pygments_lexer": "ipython3",
   "version": "3.9.7"
  }
 },
 "nbformat": 4,
 "nbformat_minor": 5
}
