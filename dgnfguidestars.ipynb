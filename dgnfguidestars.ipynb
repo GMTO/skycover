{
 "cells": [
  {
   "cell_type": "code",
   "execution_count": 1,
   "metadata": {},
   "outputs": [
    {
     "name": "stdout",
     "output_type": "stream",
     "text": [
      "/home/ubuntu/CEO/python/ceo/zemax\n"
     ]
    }
   ],
   "source": [
    "# select the guide stars given a field\n",
    "\n",
    "import warnings\n",
    "warnings.filterwarnings(\"ignore\")\n",
    "\n",
    "import ceo\n",
    "import yaml\n",
    "from yaml import Loader\n",
    "import pandas as pd\n",
    "import numpy as np\n",
    "import matplotlib.pyplot as plt\n",
    "import os\n",
    "import sys\n",
    "sys.path.append(os.path.expanduser('~/PYTHON/ATP/'))\n",
    "from astropy.units import Quantity\n",
    "from astropy.time import Time\n",
    "import astropy.io.fits as pyfits\n",
    "import atp\n",
    "import copy\n",
    "from agwsprobes import *\n",
    "import scipy.interpolate"
   ]
  },
  {
   "cell_type": "code",
   "execution_count": 2,
   "metadata": {},
   "outputs": [],
   "source": [
    "L=25.5\n",
    "nPx = 201\n",
    "nLenslet = 48\n",
    "threshold = 0.5 # subaperture flux threshold\n",
    "gmt = ceo.GMT_MX()"
   ]
  },
  {
   "cell_type": "code",
   "execution_count": 3,
   "metadata": {},
   "outputs": [],
   "source": [
    "def modestogmtstate(gmt,modes):\n",
    "    state = gmt.state\n",
    "\n",
    "    M1Txyz = modes[[0,1,2,12,13,14,24,25,26,36,37,38,48,49,50,60,61,62,72,73,74]]\n",
    "    state['M1']['Txyz'] = np.reshape(M1Txyz,(7,3))\n",
    "\n",
    "    M2Txyz = modes[[6,7,8,18,19,20,30,31,32,42,43,44,54,55,56,66,67,68,77,78,79]]\n",
    "    state['M2']['Txyz'] = np.reshape(M2Txyz,(7,3))\n",
    "\n",
    "    M1Rxyz = np.zeros(21)\n",
    "    M1Rxyz[0:20] = modes[[3,4,5,15,16,17,27,28,29,39,40,41,51,52,53,63,64,65,75,76]]\n",
    "    state['M1']['Rxyz'] = np.reshape(M1Rxyz,(7,3))\n",
    "    \n",
    "    M2Rxyz = np.zeros(21)\n",
    "    M2Rxyz[0:20] = modes[[9,10,11,21,22,23,33,34,35,45,46,47,57,58,59,69,70,71,80,81]]\n",
    "    state['M2']['Rxyz'] = np.reshape(M2Rxyz,(7,3))\n",
    "    gmt^=state"
   ]
  },
  {
   "cell_type": "code",
   "execution_count": 4,
   "metadata": {},
   "outputs": [],
   "source": [
    "girmode = \"tracking\"\n",
    "config = \"m3\"\n",
    "maxstarsperprobe = 8 # maximum number of stars per probe to analyze\n",
    "\n",
    "# this contains information about the observation\n",
    "cfg = yaml.load(open(os.path.expanduser('~/PYTHON/ATP/atp.yaml')),Loader)"
   ]
  },
  {
   "cell_type": "code",
   "execution_count": 5,
   "metadata": {},
   "outputs": [],
   "source": [
    "# load the data about the observation\n",
    "data = pyfits.getdata(os.path.expanduser('~/PYTHON/AGWS/SAO/weather_pointing_data.fits'))\n",
    "temperature = data[:,0] # Temperature draw in deg C\n",
    "pressure = data[:,1] # Pressure draw in mbar\n",
    "humidity = data[:,2] # Relative humidity in %\n",
    "windspeed = data[:,3] # Wind speed in m/s\n",
    "winddir = data[:,4] # Wind direction in degrees\n",
    "datetime = data[:,5] # Date vector (Clay is first 500, Baade is second 500)\n",
    "scira = data[:,6] # RA vector (degrees; Clay is first 500, Baade is second 500)\n",
    "scidec = data[:,7] #  Declination vector (degrees; Clay is first 500, Baade is second 500)\n",
    "telaz = data[:,8] # Azimuth angle of telescope (degrees; Clay is first 500, Baade is second 500)\n",
    "telel = data[:,9] # Elevation angle of telescope (degrees; Clay is first 500, Baade is second 500)\n",
    "r0 = data[:,10] # r0 (cm)\n",
    "L0 = data[:,11] # L0 (m)\n",
    "\n",
    "validator = agwsinit(config)"
   ]
  },
  {
   "cell_type": "markdown",
   "metadata": {},
   "source": [
    "# this notebook only looks at the first field."
   ]
  },
  {
   "cell_type": "code",
   "execution_count": 6,
   "metadata": {},
   "outputs": [],
   "source": [
    "#the python file loops over all 1000 fields.\n",
    "fieldno = 0"
   ]
  },
  {
   "cell_type": "code",
   "execution_count": 7,
   "metadata": {},
   "outputs": [
    {
     "data": {
      "text/plain": [
       "2013.3871424086758"
      ]
     },
     "execution_count": 7,
     "metadata": {},
     "output_type": "execute_result"
    }
   ],
   "source": [
    "datetime[0]"
   ]
  },
  {
   "cell_type": "code",
   "execution_count": 8,
   "metadata": {},
   "outputs": [],
   "source": [
    "telzen = (90-telel[fieldno])*np.pi/180.\n",
    "airmass = 1./np.cos(telzen)\n",
    "\n",
    "cfg['Observation']['time'] = Time(datetime[fieldno] , format='decimalyear', scale='utc')\n",
    "cfg['Target']['ra'] = scira[fieldno]\n",
    "cfg['Target']['dec'] = scidec[fieldno]\n",
    "\n",
    "cfg['Target']['pointing alt/az']['alt'][0] = telel[fieldno]\n",
    "cfg['Target']['pointing alt/az']['az'][0] = telaz[fieldno]\n",
    "\n",
    "cfg['Atmosphere']['r0'][0] = r0[fieldno]*100.\n",
    "cfg['Atmosphere']['L0'][0] = L0[fieldno]\n",
    "\n",
    "obs = atp.Observatory(**cfg['Observatory'],**cfg['Observation'])\n",
    "target = atp.Target(obs,**cfg['Target'])"
   ]
  },
  {
   "cell_type": "code",
   "execution_count": 9,
   "metadata": {},
   "outputs": [],
   "source": [
    "fielddir = \"~/PYTHON/AGWS/Fields\"\n",
    "starfield = os.path.expanduser(fielddir+f\"/field_{fieldno:04d}.csv\")\n",
    "\n",
    "outputfilename = os.path.expanduser('~/')+f'PYTHON/AGWS/Fields/{config}_asterism_{fieldno:04d}.csv'\n",
    "probefunction = [None,None,None,None]\n",
    "gsno = [None,None,None,None] # guide star number\n",
    "vismaggs = [0,0,0,0]\n",
    "xposgs = [0,0,0,0]\n",
    "yposgs = [0,0,0,0]"
   ]
  },
  {
   "cell_type": "code",
   "execution_count": 10,
   "metadata": {
    "scrolled": true
   },
   "outputs": [],
   "source": [
    "stars  = atp.StarField(obs,target,field=starfield,**cfg['Star Catalog'])"
   ]
  },
  {
   "cell_type": "code",
   "execution_count": 11,
   "metadata": {},
   "outputs": [],
   "source": [
    "vismag = 0.46*stars.I+0.54*stars.R\n",
    "# remove stars that have an NaN for magnitude\n",
    "valid = ~np.isnan(vismag)\n",
    "validpos = np.where(valid)[0]\n",
    "\n",
    "xposarcsec = stars.local[0,:]*180./np.pi*3600\n",
    "yposarcsec = stars.local[1,:]*180./np.pi*3600"
   ]
  },
  {
   "cell_type": "code",
   "execution_count": 12,
   "metadata": {},
   "outputs": [
    {
     "name": "stdout",
     "output_type": "stream",
     "text": [
      "1887 1887\n"
     ]
    }
   ],
   "source": [
    "print(len(vismag), len(valid))"
   ]
  },
  {
   "cell_type": "code",
   "execution_count": 13,
   "metadata": {},
   "outputs": [
    {
     "data": {
      "image/png": "[encoded data removed]",
      "text/plain": [
       "<Figure size 432x288 with 1 Axes>"
      ]
     },
     "metadata": {},
     "output_type": "display_data"
    }
   ],
   "source": [
    "plt.figure(8)\n",
    "plt.clf()\n",
    "ax = plt.axes()\n",
    "ax.set_aspect('equal')\n",
    "#plt.xlim((-610,610))\n",
    "#plt.ylim((-610,610))\n",
    "#plt.plot(xposarcsec[validpos],yposarcsec[validpos],'.',color='red')\n",
    "plt.plot(xposarcsec[validpos]/60,yposarcsec[validpos]/60,'.',color='red')\n",
    "plt.xlabel('arcmin')\n",
    "plt.ylabel('arcmin');"
   ]
  },
  {
   "cell_type": "markdown",
   "metadata": {},
   "source": [
    "## run agwscheck() to remove invalid stars"
   ]
  },
  {
   "cell_type": "code",
   "execution_count": 14,
   "metadata": {},
   "outputs": [],
   "source": [
    "gspos = np.transpose(np.array([xposarcsec,yposarcsec]))\n",
    "for k in range(len(xposarcsec)):\n",
    "    if valid[k]:\n",
    "        (success,loc,idx) = agwscheck(validator,gspos[[k],:])\n",
    "        valid[k] = success"
   ]
  },
  {
   "cell_type": "code",
   "execution_count": 15,
   "metadata": {},
   "outputs": [
    {
     "name": "stdout",
     "output_type": "stream",
     "text": [
      "996\n"
     ]
    }
   ],
   "source": [
    "validpos = np.where(valid)[0]\n",
    "print(len(validpos))"
   ]
  },
  {
   "cell_type": "code",
   "execution_count": 16,
   "metadata": {},
   "outputs": [],
   "source": [
    "if len(validpos) == 0:\n",
    "    print('There are no guide stars!')\n",
    "    bestasterism = {'Probe number': [0,1,2,3], 'Probe function': probefunction,'Guide star':gsno,'Visible magnitude':vismaggs,'xpos':xposgs,'ypos':yposgs}\n",
    "\n",
    "    print(outputfilename)\n",
    "    df = pd.DataFrame(bestasterism,index=None)\n",
    "    print (df)\n",
    "    df.to_csv(outputfilename, index = False, header=True)\n",
    "    print('PROCEED TO THE NEXT FIELD, SKIP BELOW')\n",
    "\n",
    "vismag = vismag[validpos]\n",
    "xposarcsec = xposarcsec[validpos]\n",
    "yposarcsec = yposarcsec[validpos]"
   ]
  },
  {
   "cell_type": "code",
   "execution_count": 17,
   "metadata": {},
   "outputs": [
    {
     "data": {
      "text/plain": [
       "Text(0, 0.5, 'Y-position (arcsec)')"
      ]
     },
     "execution_count": 17,
     "metadata": {},
     "output_type": "execute_result"
    },
    {
     "data": {
      "image/png": "[encoded data removed]",
      "text/plain": [
       "<Figure size 432x288 with 1 Axes>"
      ]
     },
     "metadata": {},
     "output_type": "display_data"
    }
   ],
   "source": [
    "if config == \"dgwf\":\n",
    "    minradarcsec = 365 # trial and error\n",
    "    maxradarcsec = 572.4 # trial and error\n",
    "if config == \"dgnf\":\n",
    "    # the AGWS must be > 6' away to avoid vignetting the field\n",
    "    minradarcsec = 364.7 \n",
    "    maxradarcsec = 600\n",
    "if config == \"m3\":\n",
    "    # radius of guide star must be greater than 357.9 mm\n",
    "    minradarcsec = 365.07\n",
    "    maxradarcsec = 600\n",
    "\n",
    "ax = plt.axes()\n",
    "ax.set_aspect('equal')\n",
    "plt.plot(xposarcsec,yposarcsec,'.',color='darkgreen')\n",
    "innercircle = plt.Circle([0,0],radius=minradarcsec,color='darkblue',fill=False)\n",
    "ax.add_artist(innercircle)\n",
    "outercircle = plt.Circle([0,0],radius=maxradarcsec,color='darkblue',fill=False)\n",
    "ax.add_artist(outercircle)\n",
    "plt.plot([0],[0],'*',color='black')\n",
    "\n",
    "plt.xlabel('X-position (arcsec)')\n",
    "plt.ylabel('Y-position (arcsec)')"
   ]
  },
  {
   "cell_type": "markdown",
   "metadata": {},
   "source": [
    "Note: the shadow of M3 causes no stars between 10 and 12 o'clock in the above figure"
   ]
  },
  {
   "cell_type": "code",
   "execution_count": 18,
   "metadata": {},
   "outputs": [],
   "source": [
    "gspos = np.transpose(np.array([xposarcsec,yposarcsec]))\n",
    "\n",
    "# determine which probes reach which stars\n",
    "probesreachstars = agwsreachstars(validator,gspos)"
   ]
  },
  {
   "cell_type": "code",
   "execution_count": 19,
   "metadata": {},
   "outputs": [
    {
     "data": {
      "text/plain": [
       "(4, 996)"
      ]
     },
     "execution_count": 19,
     "metadata": {},
     "output_type": "execute_result"
    }
   ],
   "source": [
    "probesreachstars.shape"
   ]
  },
  {
   "cell_type": "code",
   "execution_count": 20,
   "metadata": {},
   "outputs": [
    {
     "name": "stdout",
     "output_type": "stream",
     "text": [
      "[[False False False ... False False False]\n",
      " [False  True  True ... False False False]\n",
      " [False False  True ... False  True  True]\n",
      " [ True False False ...  True False  True]]\n"
     ]
    }
   ],
   "source": [
    "print(probesreachstars)"
   ]
  },
  {
   "cell_type": "code",
   "execution_count": 21,
   "metadata": {},
   "outputs": [
    {
     "name": "stdout",
     "output_type": "stream",
     "text": [
      "seeing (arcsec) : 0.757\n"
     ]
    }
   ],
   "source": [
    "# select the segment tip-tilt star and the associated probe\n",
    "# zenith angle in radians (used to find the anisoplanatic error)\n",
    "\n",
    "# find the star with the lowest segment tip-tilt error\n",
    "# inputs: distance from center in arcminutes, mV (currently); need to fix\n",
    "radialdistArcmin = np.hypot(xposarcsec,yposarcsec)/60.\n",
    "\n",
    "# calculate the seeing \n",
    "gs_wavelength = Quantity(*cfg['SH']['guide star']['wavelength']).to('m').value\n",
    "r0_wavelength = Quantity(*cfg['Atmosphere']['wavelength']).to('m').value\n",
    "r0_val = Quantity(*cfg['Atmosphere']['r0']).to('m').value\n",
    "r0_val *= atp.r0_scaling(r0_wavelength,gs_wavelength,telzen)\n",
    "seeingRad = gs_wavelength/r0_val\n",
    "seeingArcsec = seeingRad*ceo.constants.RAD2ARCSEC\n",
    "print(\"seeing (arcsec) : %5.3f\" %seeingArcsec)"
   ]
  },
  {
   "cell_type": "markdown",
   "metadata": {},
   "source": [
    "### we next determine the best TT7 star, i.e., which star will be measured with the TT7 probe\n",
    "\n",
    "we do this by predicting the TT7 error for each star\n",
    "\n",
    "This error has two parts, the noise_rms and aniso_rms."
   ]
  },
  {
   "cell_type": "code",
   "execution_count": 22,
   "metadata": {},
   "outputs": [],
   "source": [
    "# TT7 tip-tilt error per subaperture (24x24 subapertures)\n",
    "# use the interaction matrix to obtain the error in segment tip-tilt\n",
    "# \n",
    "\n",
    "# calculate at what magnitude we saturate and define as minimum magnitude\n",
    "\n",
    "# calculate the anisoplanatic error by setting magnitude to 0\n",
    "tt7_aniso_rms = [atp.tt7_tt_error(zz,0.,telzen,**cfg) for zz,magnitude in zip(radialdistArcmin,vismag)]\n",
    "# calculate the approximate TT7 error\n",
    "# saturation is attained for magnitude 10 stars\n",
    "# values calculated using tt7noise.i for 0.8\" seeing\n",
    "magvec = np.array([0,10,10.5,11,11.5,12,12.5,13,13.5,14,14.5,15,15.5,16,16.5,17,17.5,18,20])\n",
    "# this is the error in the segment tip-tilt estimate using a 24x24 SH WFS\n",
    "tterr_for_800mas = np.array([0.00204073,0.00204073,0.00248421,0.00313843,0.00404597,0.0052902,0.00649479,\n",
    "                             0.00812451,0.0108732,0.0140705,0.018404,0.0248977,0.0369819,0.0556996,0.0910204,\n",
    "                             0.13293,0.179323,0.205629,0.205629])*1000.\n",
    "tterr_mas = tterr_for_800mas*seeingArcsec/0.8"
   ]
  },
  {
   "cell_type": "code",
   "execution_count": 23,
   "metadata": {},
   "outputs": [
    {
     "data": {
      "text/plain": [
       "996"
      ]
     },
     "execution_count": 23,
     "metadata": {},
     "output_type": "execute_result"
    }
   ],
   "source": [
    "len(tt7_aniso_rms)"
   ]
  },
  {
   "cell_type": "code",
   "execution_count": 24,
   "metadata": {},
   "outputs": [
    {
     "data": {
      "text/plain": [
       "19"
      ]
     },
     "execution_count": 24,
     "metadata": {},
     "output_type": "execute_result"
    }
   ],
   "source": [
    "len(tterr_mas)"
   ]
  },
  {
   "cell_type": "code",
   "execution_count": 25,
   "metadata": {},
   "outputs": [],
   "source": [
    "interp_function = scipy.interpolate.interp1d(magvec,tterr_mas,bounds_error=False)\n",
    "tt7_noise_rms = interp_function(np.clip(vismag,np.min(magvec),np.max(magvec)))\n",
    "tt7_res_rms = tt7_noise_rms + tt7_aniso_rms"
   ]
  },
  {
   "cell_type": "code",
   "execution_count": 26,
   "metadata": {},
   "outputs": [
    {
     "data": {
      "text/plain": [
       "[25.492024357344302,\n",
       " 25.508132547705802,\n",
       " 25.483575689583954,\n",
       " 25.52036850341767,\n",
       " 25.49300028652767]"
      ]
     },
     "execution_count": 26,
     "metadata": {},
     "output_type": "execute_result"
    }
   ],
   "source": [
    "tt7_aniso_rms[:5]"
   ]
  },
  {
   "cell_type": "code",
   "execution_count": 27,
   "metadata": {},
   "outputs": [
    {
     "data": {
      "text/plain": [
       "array([108.19067803,  54.63790369, 111.50186185, 130.48057022,\n",
       "       148.57253341,  50.22314332, 122.9331587 ,  27.47479203,\n",
       "        74.20456505,  65.60268822])"
      ]
     },
     "execution_count": 27,
     "metadata": {},
     "output_type": "execute_result"
    }
   ],
   "source": [
    "tt7_res_rms[:10]"
   ]
  },
  {
   "cell_type": "markdown",
   "metadata": {},
   "source": [
    "#### for now, we will use the best TT7 star, but later we could also try the other stars if we do not succeed in finding a suitable active optics asterism\n"
   ]
  },
  {
   "cell_type": "code",
   "execution_count": 28,
   "metadata": {},
   "outputs": [],
   "source": [
    "# sort from lowest to highest error\n",
    "tt7_gs_indices = np.argsort(tt7_res_rms)\n",
    "tt7_gs_idx = tt7_gs_indices[0] #index of gs used for tt7\n",
    "\n",
    "if fieldno == 810:\n",
    "    if config == 'dgnf' or config == 'm3':\n",
    "        # here, we have to use the second best TT7 star\n",
    "        tt7_gs_idx = tt7_gs_indices[1]"
   ]
  },
  {
   "cell_type": "code",
   "execution_count": 29,
   "metadata": {},
   "outputs": [],
   "source": [
    "tt7probes = np.where(probesreachstars[:,tt7_gs_idx])[0] #which probes can reach the selected tt7 gs\n",
    "stt7 = np.array([tt7_gs_idx])[0] #index of gs used for tt7\n",
    "\n",
    "probes_with_stars = probesreachstars.any(axis=1) #for example: [true, true, true, true]\n",
    "n_probes_with_stars = np.sum(probes_with_stars) # number of probes that can reach any star, ideally, =4\n",
    "\n",
    "results = {'minangle':[],'minradius':[],'maxmag':[],'tt7':[],'aco':[],'tt7probe':[],'acoprobes':[]} "
   ]
  },
  {
   "cell_type": "code",
   "execution_count": 30,
   "metadata": {},
   "outputs": [
    {
     "data": {
      "text/plain": [
       "array([ True, False, False,  True])"
      ]
     },
     "execution_count": 30,
     "metadata": {},
     "output_type": "execute_result"
    }
   ],
   "source": [
    "probesreachstars[:,tt7_gs_idx]"
   ]
  },
  {
   "cell_type": "code",
   "execution_count": 31,
   "metadata": {},
   "outputs": [
    {
     "data": {
      "text/plain": [
       "array([0, 3])"
      ]
     },
     "execution_count": 31,
     "metadata": {},
     "output_type": "execute_result"
    }
   ],
   "source": [
    "tt7probes"
   ]
  },
  {
   "cell_type": "code",
   "execution_count": 32,
   "metadata": {},
   "outputs": [
    {
     "data": {
      "text/plain": [
       "7"
      ]
     },
     "execution_count": 32,
     "metadata": {},
     "output_type": "execute_result"
    }
   ],
   "source": [
    "stt7"
   ]
  },
  {
   "cell_type": "code",
   "execution_count": 33,
   "metadata": {},
   "outputs": [
    {
     "data": {
      "text/plain": [
       "(4, 996)"
      ]
     },
     "execution_count": 33,
     "metadata": {},
     "output_type": "execute_result"
    }
   ],
   "source": [
    "probesreachstars.shape"
   ]
  },
  {
   "cell_type": "code",
   "execution_count": 34,
   "metadata": {},
   "outputs": [
    {
     "data": {
      "text/plain": [
       "array([ True,  True,  True,  True])"
      ]
     },
     "execution_count": 34,
     "metadata": {},
     "output_type": "execute_result"
    }
   ],
   "source": [
    "probes_with_stars"
   ]
  },
  {
   "cell_type": "markdown",
   "metadata": {},
   "source": [
    "### below supposed to be a loop over all tt7probes, i.e., all possiblities of using which probe to look at the selected gs \n",
    "we start by looking at the first."
   ]
  },
  {
   "cell_type": "code",
   "execution_count": 35,
   "metadata": {},
   "outputs": [],
   "source": [
    "tt7probe = tt7probes[0]"
   ]
  },
  {
   "cell_type": "code",
   "execution_count": 36,
   "metadata": {},
   "outputs": [],
   "source": [
    "aco_idx = np.arange(4)\n",
    "aco_idx = np.delete(aco_idx,tt7probe)"
   ]
  },
  {
   "cell_type": "code",
   "execution_count": 37,
   "metadata": {},
   "outputs": [
    {
     "data": {
      "text/plain": [
       "array([1, 2, 3])"
      ]
     },
     "execution_count": 37,
     "metadata": {},
     "output_type": "execute_result"
    }
   ],
   "source": [
    "aco_idx"
   ]
  },
  {
   "cell_type": "code",
   "execution_count": 38,
   "metadata": {},
   "outputs": [],
   "source": [
    "s2 = np.where(probesreachstars[aco_idx[2],:])[0]\n",
    "if s2.tolist() == []:\n",
    "    np.delete(aco_idx,aco_idx[2]) #if this probe cannot see any gs, remove from the list\n",
    "\n",
    "s1 = np.where(probesreachstars[aco_idx[1],:])[0]\n",
    "if s1.tolist() == []:\n",
    "    np.delete(aco_idx,aco_idx[1]) #if this probe cannot see any gs, remove from the list\n",
    "\n",
    "s0 = np.where(probesreachstars[aco_idx[0],:])[0]\n",
    "if s0.tolist() == []:\n",
    "    np.delete(aco_idx,aco_idx[0]) #if this probe cannot see any gs, remove from the list"
   ]
  },
  {
   "cell_type": "code",
   "execution_count": 39,
   "metadata": {},
   "outputs": [
    {
     "name": "stdout",
     "output_type": "stream",
     "text": [
      "401 669 392\n"
     ]
    }
   ],
   "source": [
    "print(len(s2),len(s1),len(s0))"
   ]
  },
  {
   "cell_type": "code",
   "execution_count": 40,
   "metadata": {},
   "outputs": [
    {
     "data": {
      "text/plain": [
       "8"
      ]
     },
     "execution_count": 40,
     "metadata": {},
     "output_type": "execute_result"
    }
   ],
   "source": [
    "maxstarsperprobe"
   ]
  },
  {
   "cell_type": "code",
   "execution_count": 41,
   "metadata": {},
   "outputs": [],
   "source": [
    "# sort according to the visible magnitude\n",
    "s0 = s0[np.argsort(vismag[s0])]\n",
    "s1 = s1[np.argsort(vismag[s1])]\n",
    "s2 = s2[np.argsort(vismag[s2])]\n",
    "\n",
    "m0 = np.clip(len(s0),0,maxstarsperprobe)\n",
    "m1 = np.clip(len(s1),0,maxstarsperprobe)\n",
    "m2 = np.clip(len(s2),0,maxstarsperprobe)"
   ]
  },
  {
   "cell_type": "code",
   "execution_count": 42,
   "metadata": {},
   "outputs": [
    {
     "name": "stdout",
     "output_type": "stream",
     "text": [
      "8 8 8\n"
     ]
    }
   ],
   "source": [
    "print(m0,m1,m2)"
   ]
  },
  {
   "cell_type": "code",
   "execution_count": 43,
   "metadata": {},
   "outputs": [],
   "source": [
    "testpos = np.zeros((4,2))\n",
    "testpos[tt7probe,:] = gspos[stt7]"
   ]
  },
  {
   "cell_type": "code",
   "execution_count": 44,
   "metadata": {},
   "outputs": [
    {
     "data": {
      "text/plain": [
       "array([[337.66006204, 143.648095  ],\n",
       "       [  0.        ,   0.        ],\n",
       "       [  0.        ,   0.        ],\n",
       "       [  0.        ,   0.        ]])"
      ]
     },
     "execution_count": 44,
     "metadata": {},
     "output_type": "execute_result"
    }
   ],
   "source": [
    "testpos"
   ]
  },
  {
   "cell_type": "code",
   "execution_count": 45,
   "metadata": {},
   "outputs": [],
   "source": [
    "#loop over all the combinations: for each probe, loop over the 8 brighest reachable gs. max 8x8x8 possible combos\n",
    "for k0 in range(m0):\n",
    "    testpos[aco_idx[0],:] = gspos[s0[k0],:]\n",
    "    for k1 in range(m1):\n",
    "        testpos[aco_idx[1],:] = gspos[s1[k1],:]\n",
    "        for k2 in range(m2):\n",
    "            testpos[aco_idx[2],:] = gspos[s2[k2],:]\n",
    "\n",
    "            (success,loc,idx) = agwscheck(validator,testpos)\n",
    "            if success:\n",
    "                # evaluate the maximum magnitude, which is faintest\n",
    "                maxmag = np.max(vismag[[s0[k0],s1[k1],s2[k2]]])\n",
    "\n",
    "                # evaluate the angle that each set of stars makes with respect to the center\n",
    "                az0 = np.arctan2(gspos[s0[k0],0],gspos[s0[k0],1])\n",
    "                az1 = np.arctan2(gspos[s1[k1],0],gspos[s1[k1],1])\n",
    "                az2 = np.arctan2(gspos[s2[k2],0],gspos[s2[k2],1])\n",
    "\n",
    "                radius0 = np.hypot(gspos[s0[k0],0],gspos[s0[k0],1])\n",
    "                radius1 = np.hypot(gspos[s1[k1],0],gspos[s1[k1],1])\n",
    "                radius2 = np.hypot(gspos[s2[k2],0],gspos[s2[k2],1])\n",
    "\n",
    "                az = np.sort(np.array([az0,az1,az2]))\n",
    "                minangle = np.min([az[1]-az[0],az[2]-az[1],az[0]+2*np.pi-az[2]])\n",
    "\n",
    "                minradius = np.min([radius0,radius1,radius2])\n",
    "\n",
    "                results['minradius'].append(minradius)\n",
    "                results['minangle'].append(minangle*180./np.pi)\n",
    "                results['maxmag'].append(maxmag)\n",
    "                results['tt7'].append(stt7)\n",
    "                results['tt7probe'].append(tt7probe)\n",
    "                results['acoprobes'].append(aco_idx)\n",
    "                results['aco'].append(np.array([s0[k0],s1[k1],s2[k2]]))"
   ]
  },
  {
   "cell_type": "code",
   "execution_count": 46,
   "metadata": {},
   "outputs": [
    {
     "data": {
      "text/plain": [
       "220"
      ]
     },
     "execution_count": 46,
     "metadata": {},
     "output_type": "execute_result"
    }
   ],
   "source": [
    "len(results['minradius'])"
   ]
  },
  {
   "cell_type": "code",
   "execution_count": 47,
   "metadata": {},
   "outputs": [
    {
     "data": {
      "text/plain": [
       "512"
      ]
     },
     "execution_count": 47,
     "metadata": {},
     "output_type": "execute_result"
    }
   ],
   "source": [
    "8*8*8"
   ]
  },
  {
   "cell_type": "code",
   "execution_count": 48,
   "metadata": {},
   "outputs": [
    {
     "data": {
      "text/plain": [
       "array([0, 3])"
      ]
     },
     "execution_count": 48,
     "metadata": {},
     "output_type": "execute_result"
    }
   ],
   "source": [
    "tt7probes"
   ]
  },
  {
   "cell_type": "code",
   "execution_count": 60,
   "metadata": {},
   "outputs": [],
   "source": [
    "#for the first field, we have n_probes_with_stars == 4\n",
    "# now we go back and do all the tt7probes.\n",
    "results = {'minangle':[],'minradius':[],'maxmag':[],'tt7':[],'aco':[],'tt7probe':[],'acoprobes':[]} \n",
    "if n_probes_with_stars == 4:  \n",
    "    for tt7probe in tt7probes:    \n",
    "        aco_idx = np.arange(4)\n",
    "        aco_idx = np.delete(aco_idx,tt7probe)\n",
    "\n",
    "        s2 = np.where(probesreachstars[aco_idx[2],:])[0]\n",
    "        if s2.tolist() == []:\n",
    "            np.delete(aco_idx,aco_idx[2])\n",
    "\n",
    "        s1 = np.where(probesreachstars[aco_idx[1],:])[0]\n",
    "        if s1.tolist() == []:\n",
    "            np.delete(aco_idx,aco_idx[1])\n",
    "\n",
    "        s0 = np.where(probesreachstars[aco_idx[0],:])[0]\n",
    "        if s0.tolist() == []:\n",
    "            np.delete(aco_idx,aco_idx[0])\n",
    "\n",
    "        # sort according to the visible magnitude\n",
    "        s0 = s0[np.argsort(vismag[s0])]\n",
    "        s1 = s1[np.argsort(vismag[s1])]\n",
    "        s2 = s2[np.argsort(vismag[s2])]\n",
    "\n",
    "        m0 = np.clip(len(s0),0,maxstarsperprobe)\n",
    "        m1 = np.clip(len(s1),0,maxstarsperprobe)\n",
    "        m2 = np.clip(len(s2),0,maxstarsperprobe)\n",
    "\n",
    "        testpos = np.zeros((4,2))\n",
    "        testpos[tt7probe,:] = gspos[stt7]\n",
    "\n",
    "        for k0 in range(m0):\n",
    "            testpos[aco_idx[0],:] = gspos[s0[k0],:]\n",
    "            for k1 in range(m1):\n",
    "                testpos[aco_idx[1],:] = gspos[s1[k1],:]\n",
    "                for k2 in range(m2):\n",
    "                    testpos[aco_idx[2],:] = gspos[s2[k2],:]\n",
    "\n",
    "                    (success,loc,idx) = agwscheck(validator,testpos)\n",
    "                    if success:\n",
    "                        # evaluate the maximum magnitude\n",
    "                        maxmag = np.max(vismag[[s0[k0],s1[k1],s2[k2]]])\n",
    "\n",
    "                        # evaluate the angle that each set of stars makes with respect to the center\n",
    "                        az0 = np.arctan2(gspos[s0[k0],0],gspos[s0[k0],1])\n",
    "                        az1 = np.arctan2(gspos[s1[k1],0],gspos[s1[k1],1])\n",
    "                        az2 = np.arctan2(gspos[s2[k2],0],gspos[s2[k2],1])\n",
    "\n",
    "                        radius0 = np.hypot(gspos[s0[k0],0],gspos[s0[k0],1])\n",
    "                        radius1 = np.hypot(gspos[s1[k1],0],gspos[s1[k1],1])\n",
    "                        radius2 = np.hypot(gspos[s2[k2],0],gspos[s2[k2],1])\n",
    "\n",
    "                        az = np.sort(np.array([az0,az1,az2]))\n",
    "                        minangle = np.min([az[1]-az[0],az[2]-az[1],az[0]+2*np.pi-az[2]])\n",
    "\n",
    "                        minradius = np.min([radius0,radius1,radius2])\n",
    "\n",
    "                        results['minradius'].append(minradius)\n",
    "                        results['minangle'].append(minangle*180./np.pi)\n",
    "                        results['maxmag'].append(maxmag)\n",
    "                        results['tt7'].append(stt7)\n",
    "                        results['tt7probe'].append(tt7probe)\n",
    "                        results['acoprobes'].append(aco_idx)\n",
    "                        results['aco'].append(np.array([s0[k0],s1[k1],s2[k2]]))\n",
    "    nAsterism = len(results['maxmag'])"
   ]
  },
  {
   "cell_type": "code",
   "execution_count": 61,
   "metadata": {},
   "outputs": [
    {
     "data": {
      "text/plain": [
       "472"
      ]
     },
     "execution_count": 61,
     "metadata": {},
     "output_type": "execute_result"
    }
   ],
   "source": [
    "nAsterism"
   ]
  },
  {
   "cell_type": "code",
   "execution_count": 62,
   "metadata": {},
   "outputs": [
    {
     "name": "stdout",
     "output_type": "stream",
     "text": [
      "37 111156\n"
     ]
    }
   ],
   "source": [
    "validAst = np.ones(nAsterism,dtype=bool)\n",
    "counter = 0\n",
    "for k1 in range(nAsterism):\n",
    "    for k2 in range(k1+1,nAsterism):\n",
    "        if results['maxmag'][k1] > results['maxmag'][k2] and results['minangle'][k1] < results['minangle'][k2] \\\n",
    "                and results['minradius'][k1] < results['minradius'][k2]:\n",
    "            validAst[k1] = 0\n",
    "        if results['maxmag'][k2] > results['maxmag'][k1] and results['minangle'][k2] < results['minangle'][k1] \\\n",
    "                and results['minradius'][k2] < results['minradius'][k1]:\n",
    "            validAst[k2] = 0\n",
    "        counter+=1\n",
    "\n",
    "wv = np.where(validAst)[0]\n",
    "print(len(wv), counter)"
   ]
  },
  {
   "cell_type": "code",
   "execution_count": 63,
   "metadata": {},
   "outputs": [
    {
     "data": {
      "text/plain": [
       "array([  2,   3,  37,  38,  39,  43,  45,  48,  49,  50,  51,  55,  56,\n",
       "        57,  60,  72, 118, 220, 221, 229, 233, 234, 240, 244, 257, 301,\n",
       "       325, 332, 335, 340, 355, 360, 373, 385, 386, 401, 433])"
      ]
     },
     "execution_count": 63,
     "metadata": {},
     "output_type": "execute_result"
    }
   ],
   "source": [
    "wv"
   ]
  },
  {
   "cell_type": "code",
   "execution_count": 64,
   "metadata": {},
   "outputs": [
    {
     "name": "stdout",
     "output_type": "stream",
     "text": [
      "37 3799\n"
     ]
    }
   ],
   "source": [
    "# this cells sort of repeats the cell above, by skipping the validAst = 0 asterisms. yes, it produces same result\n",
    "\n",
    "#this part of the code marks a lot of asterisms invalid\n",
    "#     it looks like something like, if we can find a better asterism than this one, we make this one invalid\n",
    "#                   need Marcos help me understand what \"better\" means.\n",
    "validAst = np.ones(nAsterism,dtype=bool)\n",
    "counter = 0\n",
    "for k1 in range(nAsterism):\n",
    "    if validAst[k1]:\n",
    "        for k2 in range(k1+1,nAsterism):\n",
    "            if validAst[k2]:\n",
    "                if results['maxmag'][k1] > results['maxmag'][k2] and results['minangle'][k1] < results['minangle'][k2] \\\n",
    "                        and results['minradius'][k1] < results['minradius'][k2]:\n",
    "                    validAst[k1] = 0\n",
    "                if results['maxmag'][k2] > results['maxmag'][k1] and results['minangle'][k2] < results['minangle'][k1] \\\n",
    "                        and results['minradius'][k2] < results['minradius'][k1]:\n",
    "                    validAst[k2] = 0\n",
    "                counter+=1\n",
    "\n",
    "wv = np.where(validAst)[0]\n",
    "print(len(wv), counter)"
   ]
  },
  {
   "cell_type": "code",
   "execution_count": 65,
   "metadata": {},
   "outputs": [
    {
     "data": {
      "text/plain": [
       "472"
      ]
     },
     "execution_count": 65,
     "metadata": {},
     "output_type": "execute_result"
    }
   ],
   "source": [
    "nAsterism"
   ]
  },
  {
   "cell_type": "code",
   "execution_count": 66,
   "metadata": {},
   "outputs": [
    {
     "name": "stdout",
     "output_type": "stream",
     "text": [
      "37\n"
     ]
    }
   ],
   "source": [
    "nAsterism = len(wv)\n",
    "print(nAsterism)"
   ]
  },
  {
   "cell_type": "code",
   "execution_count": 67,
   "metadata": {},
   "outputs": [
    {
     "data": {
      "text/plain": [
       "array([  2,   3,  37,  38,  39,  43,  45,  48,  49,  50,  51,  55,  56,\n",
       "        57,  60,  72, 118, 220, 221, 229, 233, 234, 240, 244, 257, 301,\n",
       "       325, 332, 335, 340, 355, 360, 373, 385, 386, 401, 433])"
      ]
     },
     "execution_count": 67,
     "metadata": {},
     "output_type": "execute_result"
    }
   ],
   "source": [
    "wv"
   ]
  },
  {
   "cell_type": "code",
   "execution_count": 68,
   "metadata": {},
   "outputs": [],
   "source": [
    "for key in results.keys():\n",
    "    results[key] = [results[key][i] for i in wv]"
   ]
  },
  {
   "cell_type": "code",
   "execution_count": 69,
   "metadata": {},
   "outputs": [],
   "source": [
    "# generate a reconstructor for each one for one segment\n",
    "wfs = ceo.GeometricShackHartmann(nLenslet,L/nLenslet,3,coupled=True)\n",
    "res = np.zeros(nAsterism)"
   ]
  },
  {
   "cell_type": "markdown",
   "metadata": {},
   "source": [
    "## code below is supposed to be a loop for all asterisms that remains at this point.\n",
    "we break down the first asterism first. After that we will loop over all of them."
   ]
  },
  {
   "cell_type": "code",
   "execution_count": 70,
   "metadata": {},
   "outputs": [],
   "source": [
    "ast = 0"
   ]
  },
  {
   "cell_type": "code",
   "execution_count": 72,
   "metadata": {},
   "outputs": [
    {
     "name": "stdout",
     "output_type": "stream",
     "text": [
      "[0.002401323527303475, 0.002590922797319502, 0.0026455852379992898]\n"
     ]
    }
   ],
   "source": [
    "gsidx = results['aco'][ast]\n",
    "pos = gspos[gsidx,:]\n",
    "zen = [np.hypot(pos[i,0],pos[i,1])/206265. for i in range(3)]\n",
    "azi = [np.arctan2(pos[i,0],pos[i,1]) for i in range(3)]\n",
    "mag = vismag[gsidx]\n",
    "\n",
    "print(zen)\n",
    "#this defines 3 gs\n",
    "gs = ceo.Source(photometric_band=\"R+I\",zenith=zen,azimuth=azi,magnitude=np.array([10,10,10]),\n",
    "                rays_box_size=L,rays_box_sampling=nLenslet*8+1,rays_origin=[0,0,25])"
   ]
  },
  {
   "cell_type": "code",
   "execution_count": 73,
   "metadata": {},
   "outputs": [
    {
     "data": {
      "text/plain": [
       "array([478, 653, 706])"
      ]
     },
     "execution_count": 73,
     "metadata": {},
     "output_type": "execute_result"
    }
   ],
   "source": [
    "gsidx"
   ]
  },
  {
   "cell_type": "code",
   "execution_count": 74,
   "metadata": {},
   "outputs": [
    {
     "data": {
      "text/plain": [
       "[0.002401323527303475, 0.002590922797319502, 0.0026455852379992898]"
      ]
     },
     "execution_count": 74,
     "metadata": {},
     "output_type": "execute_result"
    }
   ],
   "source": [
    "zen"
   ]
  },
  {
   "cell_type": "code",
   "execution_count": 75,
   "metadata": {},
   "outputs": [
    {
     "data": {
      "text/plain": [
       "[-1.5830779714000331, -3.067545290470423, 1.7391458257651025]"
      ]
     },
     "execution_count": 75,
     "metadata": {},
     "output_type": "execute_result"
    }
   ],
   "source": [
    "azi"
   ]
  },
  {
   "cell_type": "code",
   "execution_count": 76,
   "metadata": {},
   "outputs": [
    {
     "data": {
      "text/plain": [
       "array([ 9.77749988, 10.70908444,  9.18692908])"
      ]
     },
     "execution_count": 76,
     "metadata": {},
     "output_type": "execute_result"
    }
   ],
   "source": [
    "mag"
   ]
  },
  {
   "cell_type": "code",
   "execution_count": 77,
   "metadata": {},
   "outputs": [
    {
     "data": {
      "text/plain": [
       "0.5"
      ]
     },
     "execution_count": 77,
     "metadata": {},
     "output_type": "execute_result"
    }
   ],
   "source": [
    "threshold"
   ]
  },
  {
   "cell_type": "code",
   "execution_count": 78,
   "metadata": {},
   "outputs": [],
   "source": [
    "# run my own calibration, because the interaction matrix is not consistent with the measured values\n",
    "gs.reset()\n",
    "gmt.reset()\n",
    "gmt.propagate(gs)\n",
    "wfs.calibrate(gs,threshold)\n",
    "gs>>(gmt,wfs)\n",
    "nmes = len(wfs.get_measurement())\n",
    "nvl = np.sum(wfs.valid_lenslet.f.host(shape=(3,48**2))>0,axis=1)\n",
    "\n",
    "magvec = np.array([0,13,13.5,14,14.5,15,15.5,16,16.5,17,17.5,18,18.5,19,19.5,20])"
   ]
  },
  {
   "cell_type": "code",
   "execution_count": 79,
   "metadata": {},
   "outputs": [
    {
     "data": {
      "text/plain": [
       "7272"
      ]
     },
     "execution_count": 79,
     "metadata": {},
     "output_type": "execute_result"
    }
   ],
   "source": [
    "nmes #number of measurements?"
   ]
  },
  {
   "cell_type": "code",
   "execution_count": 80,
   "metadata": {},
   "outputs": [
    {
     "data": {
      "text/plain": [
       "array([1217, 1212, 1207])"
      ]
     },
     "execution_count": 80,
     "metadata": {},
     "output_type": "execute_result"
    }
   ],
   "source": [
    "nvl #number of valid lenslets?"
   ]
  },
  {
   "cell_type": "code",
   "execution_count": 81,
   "metadata": {},
   "outputs": [],
   "source": [
    "# this is the error in the segment tip-tilt estimate using a 24x24 SH WFS\n",
    "meserr_for_800mas = np.array([0.00136217,0.00136217,0.00171104,0.00216745,0.00275779,\n",
    "                              0.00351932,0.00453948,0.00590709,0.00780148,0.0104783,\n",
    "                              0.0144437,0.0204345,0.0296933,0.044133,0.0674427,0.110046]\n",
    "                            ) # measurement error per subaperture\n",
    "meserr_mas = meserr_for_800mas*seeingArcsec/0.8\n",
    "sh_interp_function = scipy.interpolate.interp1d(magvec,meserr_mas,bounds_error=False)"
   ]
  },
  {
   "cell_type": "code",
   "execution_count": 82,
   "metadata": {},
   "outputs": [
    {
     "data": {
      "text/plain": [
       "[<matplotlib.lines.Line2D at 0x7f28c0b890f0>]"
      ]
     },
     "execution_count": 82,
     "metadata": {},
     "output_type": "execute_result"
    },
    {
     "data": {
      "image/png": "[encoded data removed]",
      "text/plain": [
       "<Figure size 432x288 with 1 Axes>"
      ]
     },
     "metadata": {},
     "output_type": "display_data"
    }
   ],
   "source": [
    "plt.plot(magvec, meserr_mas,'-bo')"
   ]
  },
  {
   "cell_type": "code",
   "execution_count": 83,
   "metadata": {},
   "outputs": [],
   "source": [
    "noisediag = np.zeros(nmes)\n",
    "idx0 = 0\n",
    "n2 = int(nmes/2)\n",
    "for c1 in range(3):\n",
    "    sh_noise_rms = sh_interp_function(np.clip(mag[c1],np.min(magvec),np.max(magvec)))\n",
    "    noisediag[idx0:idx0+nvl[c1]] = sh_noise_rms # noise in arcsec\n",
    "    noisediag[idx0+n2:idx0+n2+nvl[c1]] = sh_noise_rms # noise in arcsec\n",
    "    idx0 += nvl[c1]"
   ]
  },
  {
   "cell_type": "code",
   "execution_count": 84,
   "metadata": {},
   "outputs": [
    {
     "data": {
      "text/plain": [
       "(7272,)"
      ]
     },
     "execution_count": 84,
     "metadata": {},
     "output_type": "execute_result"
    }
   ],
   "source": [
    "noisediag.shape"
   ]
  },
  {
   "cell_type": "code",
   "execution_count": 85,
   "metadata": {},
   "outputs": [
    {
     "data": {
      "text/plain": [
       "[<matplotlib.lines.Line2D at 0x7f28c0b6b748>]"
      ]
     },
     "execution_count": 85,
     "metadata": {},
     "output_type": "execute_result"
    },
    {
     "data": {
      "image/png": "[encoded data removed]",
      "text/plain": [
       "<Figure size 432x288 with 1 Axes>"
      ]
     },
     "metadata": {},
     "output_type": "display_data"
    }
   ],
   "source": [
    "plt.plot(noisediag)"
   ]
  },
  {
   "cell_type": "code",
   "execution_count": 86,
   "metadata": {},
   "outputs": [],
   "source": [
    "poke = 5e-6 #how much we change the DOF below in determinating the sensititivy matrix.\n",
    "Rxyz = [3,4,5,9,10,11]# modes are M1S1Rxyz and M2S1Rxyz\n",
    "nmodes = 82\n",
    "H = np.zeros((nmes,nmodes))\n",
    "\n",
    "~gmt\n",
    "for k in Rxyz:\n",
    "    modes = np.zeros(nmodes)\n",
    "    modes[k] = poke\n",
    "    modestogmtstate(gmt,modes)\n",
    "    ~wfs\n",
    "    gs>>(gmt,wfs)\n",
    "    +gs\n",
    "    +wfs\n",
    "    mes = wfs.get_measurement()\n",
    "    H[:,k] = mes/poke"
   ]
  },
  {
   "cell_type": "code",
   "execution_count": 87,
   "metadata": {},
   "outputs": [
    {
     "data": {
      "text/plain": [
       "(7272, 82)"
      ]
     },
     "execution_count": 87,
     "metadata": {},
     "output_type": "execute_result"
    }
   ],
   "source": [
    "H.shape"
   ]
  },
  {
   "cell_type": "code",
   "execution_count": 88,
   "metadata": {},
   "outputs": [],
   "source": [
    "H = H[:,Rxyz]\n",
    "#penmat = np.eye(6)*1e-7*0.\n",
    "#Hinv = np.linalg.solve(np.transpose(H)@H+penmat,np.transpose(H))\n",
    "Hinv = np.linalg.solve(np.transpose(H)@H,np.transpose(H))\n",
    "Cnn = np.diag(noisediag) #this is where the noise gets in\n",
    "\n",
    "J = np.trace(Hinv@Cnn@np.transpose(Hinv))\n",
    "res[ast] = J"
   ]
  },
  {
   "cell_type": "markdown",
   "metadata": {},
   "source": [
    "The diagonal elements of a covariance matrix are the variance of that element. For example, for the noise covariance matrix Cnn, the diagonal terms represent the variance of the noise of each measurement. Hinv@Cnn@Hinv.T is the reconstructed noise. The variance of each reconstructed mode is the diagonal element of this matrix. The trace is thus the sum of the variance, and it is the quantity we are trying to minimize."
   ]
  },
  {
   "cell_type": "code",
   "execution_count": 89,
   "metadata": {},
   "outputs": [
    {
     "name": "stdout",
     "output_type": "stream",
     "text": [
      "(7272, 6) (6, 7272) (7272, 7272) ()\n"
     ]
    }
   ],
   "source": [
    "print(H.shape, Hinv.shape, Cnn.shape, J.shape)"
   ]
  },
  {
   "cell_type": "code",
   "execution_count": 90,
   "metadata": {},
   "outputs": [
    {
     "data": {
      "text/plain": [
       "5869.340796280996"
      ]
     },
     "execution_count": 90,
     "metadata": {},
     "output_type": "execute_result"
    }
   ],
   "source": [
    "J"
   ]
  },
  {
   "cell_type": "code",
   "execution_count": 91,
   "metadata": {},
   "outputs": [
    {
     "data": {
      "text/plain": [
       "array([5869.34079628,    0.        ,    0.        ,    0.        ,\n",
       "          0.        ,    0.        ,    0.        ,    0.        ,\n",
       "          0.        ,    0.        ,    0.        ,    0.        ,\n",
       "          0.        ,    0.        ,    0.        ,    0.        ,\n",
       "          0.        ,    0.        ,    0.        ,    0.        ,\n",
       "          0.        ,    0.        ,    0.        ,    0.        ,\n",
       "          0.        ,    0.        ,    0.        ,    0.        ,\n",
       "          0.        ,    0.        ,    0.        ,    0.        ,\n",
       "          0.        ,    0.        ,    0.        ,    0.        ,\n",
       "          0.        ])"
      ]
     },
     "execution_count": 91,
     "metadata": {},
     "output_type": "execute_result"
    }
   ],
   "source": [
    "res"
   ]
  },
  {
   "cell_type": "markdown",
   "metadata": {},
   "source": [
    "## Now loop over all the asterisms"
   ]
  },
  {
   "cell_type": "code",
   "execution_count": 92,
   "metadata": {},
   "outputs": [],
   "source": [
    "for ast in range(nAsterism):\n",
    "    gsidx = results['aco'][ast]\n",
    "    pos = gspos[gsidx,:]\n",
    "    zen = [np.hypot(pos[i,0],pos[i,1])/206265. for i in range(3)]\n",
    "    azi = [np.arctan2(pos[i,0],pos[i,1]) for i in range(3)]\n",
    "    mag = vismag[gsidx]\n",
    "\n",
    "    gs = ceo.Source(photometric_band=\"R+I\",zenith=zen,azimuth=azi,magnitude=np.array([10,10,10]),rays_box_size=L,rays_box_sampling=nLenslet*8+1,rays_origin=[0,0,25])\n",
    "\n",
    "    # run my own calibration, because the interaction matrix is not consistent with the measured values\n",
    "    gs.reset()\n",
    "    gmt.reset()\n",
    "    gmt.propagate(gs)\n",
    "    wfs.calibrate(gs,threshold)\n",
    "    gs>>(gmt,wfs)\n",
    "    nmes = len(wfs.get_measurement())\n",
    "    nvl = np.sum(wfs.valid_lenslet.f.host(shape=(3,48**2))>0,axis=1)\n",
    "\n",
    "    magvec = np.array([0,13,13.5,14,14.5,15,15.5,16,16.5,17,17.5,18,18.5,19,19.5,20])\n",
    "\n",
    "    # this is the error in the segment tip-tilt estimate using a 24x24 SH WFS\n",
    "    meserr_for_800mas = np.array([0.00136217,0.00136217,0.00171104,0.00216745,0.00275779,0.00351932,0.00453948,0.00590709,0.00780148,0.0104783,0.0144437,0.0204345,0.0296933,0.044133,0.0674427,0.110046]) # measurement error per subaperture\n",
    "    meserr_mas = meserr_for_800mas*seeingArcsec/0.8\n",
    "    sh_interp_function = scipy.interpolate.interp1d(magvec,meserr_mas,bounds_error=False)\n",
    "\n",
    "    noisediag = np.zeros(nmes)\n",
    "    idx0 = 0\n",
    "    n2 = int(nmes/2)\n",
    "    for c1 in range(3):\n",
    "        sh_noise_rms = sh_interp_function(np.clip(mag[c1],np.min(magvec),np.max(magvec)))\n",
    "        noisediag[idx0:idx0+nvl[c1]] = sh_noise_rms # noise in arcsec\n",
    "        noisediag[idx0+n2:idx0+n2+nvl[c1]] = sh_noise_rms # noise in arcsec\n",
    "        idx0 += nvl[c1]\n",
    "\n",
    "    poke = 5e-6\n",
    "    Rxyz = [3,4,5,9,10,11]# modes are M1S1Rxyz and M2S1Rxyz\n",
    "    nmodes = 82\n",
    "    H = np.zeros((nmes,nmodes))\n",
    "\n",
    "    ~gmt\n",
    "    for k in Rxyz:\n",
    "        modes = np.zeros(nmodes)\n",
    "        modes[k] = poke\n",
    "        modestogmtstate(gmt,modes)\n",
    "        ~wfs\n",
    "        gs>>(gmt,wfs)\n",
    "        +gs\n",
    "        +wfs\n",
    "        mes = wfs.get_measurement()\n",
    "        H[:,k] = mes/poke\n",
    "\n",
    "    H = H[:,Rxyz]\n",
    "    #penmat = np.eye(6)*1e-7*0.\n",
    "    #Hinv = np.linalg.solve(np.transpose(H)@H+penmat,np.transpose(H))\n",
    "    Hinv = np.linalg.solve(np.transpose(H)@H,np.transpose(H))\n",
    "    Cnn = np.diag(noisediag)\n",
    "\n",
    "    J = np.trace(Hinv@Cnn@np.transpose(Hinv))\n",
    "    res[ast] = J"
   ]
  },
  {
   "cell_type": "code",
   "execution_count": 93,
   "metadata": {},
   "outputs": [
    {
     "data": {
      "text/plain": [
       "array([ 5869.34079628,  6765.41654215,  4137.73479822,  4600.99768258,\n",
       "        4221.65868931,  4284.60053529,  4379.11300162,  4534.55890408,\n",
       "        6395.7442486 ,  6350.89283892,  6564.20488467,  5128.94042102,\n",
       "        5244.70223165,  5250.5978097 ,  5528.45536207, 10182.18199152,\n",
       "        5393.27423436, 11376.63320963,  9620.55136529,  8635.57287115,\n",
       "        4815.19261776,  6727.93518995,  5540.32377897,  5869.71217635,\n",
       "        4827.05248898,  4605.53836554,  4521.92585602,  5175.81170766,\n",
       "        4370.28481489,  4538.42163354,  4474.08357898,  4685.81855803,\n",
       "        6570.5410708 ,  4860.79106958,  5339.39454884,  3737.16149916,\n",
       "        4507.0850783 ])"
      ]
     },
     "execution_count": 93,
     "metadata": {},
     "output_type": "execute_result"
    }
   ],
   "source": [
    "res"
   ]
  },
  {
   "cell_type": "code",
   "execution_count": 94,
   "metadata": {},
   "outputs": [
    {
     "data": {
      "text/plain": [
       "array([35,  2,  4,  5, 28,  6, 30, 36, 26,  7, 29,  3, 25, 31, 20, 24, 33,\n",
       "       11, 27, 12, 13, 34, 16, 14, 22,  0, 23,  9,  8, 10, 32, 21,  1, 19,\n",
       "       18, 15, 17])"
      ]
     },
     "execution_count": 94,
     "metadata": {},
     "output_type": "execute_result"
    }
   ],
   "source": [
    "np.argsort(res)"
   ]
  },
  {
   "cell_type": "code",
   "execution_count": 95,
   "metadata": {},
   "outputs": [],
   "source": [
    "#we will chose the asterism with the smallest trace of the Jacobian?\n",
    "sidx = np.argsort(res)[0]"
   ]
  },
  {
   "cell_type": "code",
   "execution_count": 96,
   "metadata": {},
   "outputs": [
    {
     "data": {
      "text/plain": [
       "35"
      ]
     },
     "execution_count": 96,
     "metadata": {},
     "output_type": "execute_result"
    }
   ],
   "source": [
    "sidx"
   ]
  },
  {
   "cell_type": "code",
   "execution_count": 97,
   "metadata": {},
   "outputs": [
    {
     "data": {
      "text/plain": [
       "{'minangle': [84.59688561667778,\n",
       "  62.43831391931119,\n",
       "  84.59688561667778,\n",
       "  62.43831391931119,\n",
       "  83.08053955566761,\n",
       "  77.96520820830345,\n",
       "  77.96520820830345,\n",
       "  77.96520820830345,\n",
       "  85.5520709883657,\n",
       "  85.5520709883657,\n",
       "  85.5520709883657,\n",
       "  88.765965420324,\n",
       "  88.765965420324,\n",
       "  88.765965420324,\n",
       "  88.765965420324,\n",
       "  39.76664747809484,\n",
       "  84.59688561667778,\n",
       "  32.67814347856482,\n",
       "  32.67814347856482,\n",
       "  39.76664747809484,\n",
       "  77.96520820830345,\n",
       "  85.5520709883657,\n",
       "  88.765965420324,\n",
       "  88.765965420324,\n",
       "  94.54399001880212,\n",
       "  75.89959678844146,\n",
       "  92.89971233483145,\n",
       "  108.0827136232962,\n",
       "  109.08028120184814,\n",
       "  108.0827136232962,\n",
       "  95.86353910674228,\n",
       "  108.0827136232962,\n",
       "  108.0827136232962,\n",
       "  111.25288548903498,\n",
       "  110.15886169629081,\n",
       "  91.91594421603428,\n",
       "  91.91594421603428],\n",
       " 'minradius': [495.3089973592513,\n",
       "  407.6670571255215,\n",
       "  534.4166907891071,\n",
       "  407.6670571255215,\n",
       "  534.4166907891071,\n",
       "  542.3257591412232,\n",
       "  542.3257591412232,\n",
       "  542.3257591412232,\n",
       "  370.41228957099133,\n",
       "  370.41228957099133,\n",
       "  370.41228957099133,\n",
       "  469.21363973480186,\n",
       "  407.6670571255215,\n",
       "  469.21363973480186,\n",
       "  469.21363973480186,\n",
       "  534.4166907891071,\n",
       "  531.0958491125394,\n",
       "  407.6670571255215,\n",
       "  495.3089973592513,\n",
       "  534.4166907891071,\n",
       "  542.3257591412232,\n",
       "  370.41228957099133,\n",
       "  407.6670571255215,\n",
       "  469.21363973480186,\n",
       "  542.3257591412232,\n",
       "  585.7423572950577,\n",
       "  553.381289267335,\n",
       "  445.23738986766114,\n",
       "  534.4166907891071,\n",
       "  445.23738986766114,\n",
       "  531.0958491125394,\n",
       "  445.23738986766114,\n",
       "  406.00259402979276,\n",
       "  409.6483390478661,\n",
       "  445.23738986766114,\n",
       "  588.5644934031567,\n",
       "  553.381289267335],\n",
       " 'maxmag': [10.709084444362624,\n",
       "  10.709084444362624,\n",
       "  10.709084444362624,\n",
       "  10.709084444362624,\n",
       "  10.965904275442146,\n",
       "  10.8887131274574,\n",
       "  10.965904275442146,\n",
       "  12.266086334898494,\n",
       "  11.132437538360048,\n",
       "  11.132437538360048,\n",
       "  11.132437538360048,\n",
       "  11.470492502913505,\n",
       "  11.470492502913505,\n",
       "  11.470492502913505,\n",
       "  12.266086334898494,\n",
       "  10.8887131274574,\n",
       "  11.209064678664417,\n",
       "  10.658705173356536,\n",
       "  10.709084444362624,\n",
       "  10.8887131274574,\n",
       "  12.266086334898494,\n",
       "  11.132437538360048,\n",
       "  11.470492502913505,\n",
       "  12.266086334898494,\n",
       "  12.482148776657976,\n",
       "  12.6342325379166,\n",
       "  12.6342325379166,\n",
       "  12.764566030370815,\n",
       "  12.764566030370815,\n",
       "  12.764566030370815,\n",
       "  12.764566030370815,\n",
       "  12.764566030370815,\n",
       "  12.764566030370815,\n",
       "  13.082380194104847,\n",
       "  13.082380194104847,\n",
       "  13.082380194104847,\n",
       "  13.082380194104847],\n",
       " 'tt7': [7,\n",
       "  7,\n",
       "  7,\n",
       "  7,\n",
       "  7,\n",
       "  7,\n",
       "  7,\n",
       "  7,\n",
       "  7,\n",
       "  7,\n",
       "  7,\n",
       "  7,\n",
       "  7,\n",
       "  7,\n",
       "  7,\n",
       "  7,\n",
       "  7,\n",
       "  7,\n",
       "  7,\n",
       "  7,\n",
       "  7,\n",
       "  7,\n",
       "  7,\n",
       "  7,\n",
       "  7,\n",
       "  7,\n",
       "  7,\n",
       "  7,\n",
       "  7,\n",
       "  7,\n",
       "  7,\n",
       "  7,\n",
       "  7,\n",
       "  7,\n",
       "  7,\n",
       "  7,\n",
       "  7],\n",
       " 'aco': [array([478, 653, 706]),\n",
       "  array([478, 653, 156]),\n",
       "  array([685, 653, 706]),\n",
       "  array([685, 653, 156]),\n",
       "  array([685, 653, 883]),\n",
       "  array([685, 944, 706]),\n",
       "  array([685, 944, 883]),\n",
       "  array([685, 944, 982]),\n",
       "  array([685,  25, 706]),\n",
       "  array([685,  25, 156]),\n",
       "  array([685,  25, 883]),\n",
       "  array([685, 380, 706]),\n",
       "  array([685, 380, 156]),\n",
       "  array([685, 380, 883]),\n",
       "  array([685, 380, 982]),\n",
       "  array([944, 653, 706]),\n",
       "  array([632, 653, 706]),\n",
       "  array([685, 478, 156]),\n",
       "  array([685, 478, 653]),\n",
       "  array([685, 944, 653]),\n",
       "  array([685, 944, 982]),\n",
       "  array([685,  25, 156]),\n",
       "  array([685, 380, 156]),\n",
       "  array([685, 380, 982]),\n",
       "  array([685, 764, 982]),\n",
       "  array([920, 944, 982]),\n",
       "  array([920, 764, 982]),\n",
       "  array([723, 478, 300]),\n",
       "  array([723, 685, 653]),\n",
       "  array([723, 685, 300]),\n",
       "  array([723, 632, 653]),\n",
       "  array([723, 632, 300]),\n",
       "  array([723, 145, 300]),\n",
       "  array([927, 478, 168]),\n",
       "  array([927, 478, 300]),\n",
       "  array([927, 944, 982]),\n",
       "  array([927, 764, 982])],\n",
       " 'tt7probe': [0,\n",
       "  0,\n",
       "  0,\n",
       "  0,\n",
       "  0,\n",
       "  0,\n",
       "  0,\n",
       "  0,\n",
       "  0,\n",
       "  0,\n",
       "  0,\n",
       "  0,\n",
       "  0,\n",
       "  0,\n",
       "  0,\n",
       "  0,\n",
       "  0,\n",
       "  3,\n",
       "  3,\n",
       "  3,\n",
       "  3,\n",
       "  3,\n",
       "  3,\n",
       "  3,\n",
       "  3,\n",
       "  3,\n",
       "  3,\n",
       "  3,\n",
       "  3,\n",
       "  3,\n",
       "  3,\n",
       "  3,\n",
       "  3,\n",
       "  3,\n",
       "  3,\n",
       "  3,\n",
       "  3],\n",
       " 'acoprobes': [array([1, 2, 3]),\n",
       "  array([1, 2, 3]),\n",
       "  array([1, 2, 3]),\n",
       "  array([1, 2, 3]),\n",
       "  array([1, 2, 3]),\n",
       "  array([1, 2, 3]),\n",
       "  array([1, 2, 3]),\n",
       "  array([1, 2, 3]),\n",
       "  array([1, 2, 3]),\n",
       "  array([1, 2, 3]),\n",
       "  array([1, 2, 3]),\n",
       "  array([1, 2, 3]),\n",
       "  array([1, 2, 3]),\n",
       "  array([1, 2, 3]),\n",
       "  array([1, 2, 3]),\n",
       "  array([1, 2, 3]),\n",
       "  array([1, 2, 3]),\n",
       "  array([0, 1, 2]),\n",
       "  array([0, 1, 2]),\n",
       "  array([0, 1, 2]),\n",
       "  array([0, 1, 2]),\n",
       "  array([0, 1, 2]),\n",
       "  array([0, 1, 2]),\n",
       "  array([0, 1, 2]),\n",
       "  array([0, 1, 2]),\n",
       "  array([0, 1, 2]),\n",
       "  array([0, 1, 2]),\n",
       "  array([0, 1, 2]),\n",
       "  array([0, 1, 2]),\n",
       "  array([0, 1, 2]),\n",
       "  array([0, 1, 2]),\n",
       "  array([0, 1, 2]),\n",
       "  array([0, 1, 2]),\n",
       "  array([0, 1, 2]),\n",
       "  array([0, 1, 2]),\n",
       "  array([0, 1, 2]),\n",
       "  array([0, 1, 2])]}"
      ]
     },
     "execution_count": 97,
     "metadata": {},
     "output_type": "execute_result"
    }
   ],
   "source": [
    "results"
   ]
  },
  {
   "cell_type": "code",
   "execution_count": 98,
   "metadata": {},
   "outputs": [
    {
     "data": {
      "text/plain": [
       "[None, None, None, None]"
      ]
     },
     "execution_count": 98,
     "metadata": {},
     "output_type": "execute_result"
    }
   ],
   "source": [
    "#this was initialized to be all Nones.\n",
    "probefunction"
   ]
  },
  {
   "cell_type": "code",
   "execution_count": 99,
   "metadata": {},
   "outputs": [
    {
     "data": {
      "text/plain": [
       "688"
      ]
     },
     "execution_count": 99,
     "metadata": {},
     "output_type": "execute_result"
    }
   ],
   "source": [
    "validpos[results['tt7'][sidx]].tolist()"
   ]
  },
  {
   "cell_type": "code",
   "execution_count": 100,
   "metadata": {},
   "outputs": [],
   "source": [
    "tt7star = validpos[results['tt7'][sidx]].tolist()\n",
    "acostars = validpos[results['aco'][sidx]].tolist()\n",
    "\n",
    "tt7probe = results['tt7probe'][sidx]\n",
    "acoprobes = results['acoprobes'][sidx]\n",
    "\n",
    "probefunction[tt7probe] = 'tt7'\n",
    "gsno[tt7probe] = int(tt7star)\n",
    "vismaggs[tt7probe] = vismag[results['tt7'][sidx]]\n",
    "xposgs[tt7probe] = xposarcsec[results['tt7'][sidx]]\n",
    "yposgs[tt7probe] = yposarcsec[results['tt7'][sidx]]"
   ]
  },
  {
   "cell_type": "code",
   "execution_count": 101,
   "metadata": {},
   "outputs": [
    {
     "data": {
      "text/plain": [
       "array([0, 1, 2])"
      ]
     },
     "execution_count": 101,
     "metadata": {},
     "output_type": "execute_result"
    }
   ],
   "source": [
    "acoprobes"
   ]
  },
  {
   "cell_type": "code",
   "execution_count": 102,
   "metadata": {},
   "outputs": [
    {
     "data": {
      "text/plain": [
       "[array([1, 2, 3]),\n",
       " array([1, 2, 3]),\n",
       " array([1, 2, 3]),\n",
       " array([1, 2, 3]),\n",
       " array([1, 2, 3]),\n",
       " array([1, 2, 3]),\n",
       " array([1, 2, 3]),\n",
       " array([1, 2, 3]),\n",
       " array([1, 2, 3]),\n",
       " array([1, 2, 3]),\n",
       " array([1, 2, 3]),\n",
       " array([1, 2, 3]),\n",
       " array([1, 2, 3]),\n",
       " array([1, 2, 3]),\n",
       " array([1, 2, 3]),\n",
       " array([1, 2, 3]),\n",
       " array([1, 2, 3]),\n",
       " array([0, 1, 2]),\n",
       " array([0, 1, 2]),\n",
       " array([0, 1, 2]),\n",
       " array([0, 1, 2]),\n",
       " array([0, 1, 2]),\n",
       " array([0, 1, 2]),\n",
       " array([0, 1, 2]),\n",
       " array([0, 1, 2]),\n",
       " array([0, 1, 2]),\n",
       " array([0, 1, 2]),\n",
       " array([0, 1, 2]),\n",
       " array([0, 1, 2]),\n",
       " array([0, 1, 2]),\n",
       " array([0, 1, 2]),\n",
       " array([0, 1, 2]),\n",
       " array([0, 1, 2]),\n",
       " array([0, 1, 2]),\n",
       " array([0, 1, 2]),\n",
       " array([0, 1, 2]),\n",
       " array([0, 1, 2])]"
      ]
     },
     "execution_count": 102,
     "metadata": {},
     "output_type": "execute_result"
    }
   ],
   "source": [
    "results['acoprobes']"
   ]
  },
  {
   "cell_type": "code",
   "execution_count": 103,
   "metadata": {},
   "outputs": [
    {
     "data": {
      "text/plain": [
       "[1808, 1828, 1872]"
      ]
     },
     "execution_count": 103,
     "metadata": {},
     "output_type": "execute_result"
    }
   ],
   "source": [
    "acostars"
   ]
  },
  {
   "cell_type": "code",
   "execution_count": 104,
   "metadata": {},
   "outputs": [],
   "source": [
    "for idx,k in enumerate(acoprobes.tolist()):\n",
    "    probefunction[k] = 'aco'\n",
    "    gsno[k] = int(acostars[idx])\n",
    "    vismaggs[k] = vismag[results['aco'][sidx][idx]]\n",
    "    xposgs[k] = xposarcsec[results['aco'][sidx][idx]]\n",
    "    yposgs[k] = yposarcsec[results['aco'][sidx][idx]]\n",
    "\n",
    "bestasterism = {'Probe number': [0,1,2,3], 'Probe function': probefunction,'Guide star':gsno,\n",
    "                'Visible magnitude':vismaggs,'xpos':xposgs,'ypos':yposgs}"
   ]
  },
  {
   "cell_type": "code",
   "execution_count": 105,
   "metadata": {},
   "outputs": [
    {
     "data": {
      "text/plain": [
       "{'Probe number': [0, 1, 2, 3],\n",
       " 'Probe function': ['aco', 'aco', 'aco', 'tt7'],\n",
       " 'Guide star': [1808, 1828, 1872, 688],\n",
       " 'Visible magnitude': [13.082380194104847,\n",
       "  10.8887131274574,\n",
       "  12.266086334898494,\n",
       "  9.975453234116225],\n",
       " 'xpos': [206.59294064250878,\n",
       "  -409.9081771514453,\n",
       "  552.5198356850545,\n",
       "  337.6600620393033],\n",
       " 'ypos': [551.1147972714898,\n",
       "  -424.3352433153763,\n",
       "  -228.46750399476056,\n",
       "  143.64809500000047]}"
      ]
     },
     "execution_count": 105,
     "metadata": {},
     "output_type": "execute_result"
    }
   ],
   "source": [
    "bestasterism"
   ]
  },
  {
   "cell_type": "code",
   "execution_count": 106,
   "metadata": {},
   "outputs": [
    {
     "data": {
      "text/plain": [
       "'/home/ubuntu/PYTHON/AGWS/Fields/m3_asterism_0000.csv'"
      ]
     },
     "execution_count": 106,
     "metadata": {},
     "output_type": "execute_result"
    }
   ],
   "source": [
    "outputfilename"
   ]
  },
  {
   "cell_type": "code",
   "execution_count": 107,
   "metadata": {},
   "outputs": [
    {
     "name": "stdout",
     "output_type": "stream",
     "text": [
      "/home/ubuntu/PYTHON/AGWS/Fields/dgwf_asterism_0000.csv\r\n",
      "/home/ubuntu/PYTHON/AGWS/Fields/field_0000.csv\r\n",
      "/home/ubuntu/PYTHON/AGWS/Fields/m3_asterism_0000.csv\r\n"
     ]
    }
   ],
   "source": [
    "! ls /home/ubuntu/PYTHON/AGWS/Fields/*_0000.csv"
   ]
  },
  {
   "cell_type": "code",
   "execution_count": 108,
   "metadata": {},
   "outputs": [
    {
     "name": "stdout",
     "output_type": "stream",
     "text": [
      "/home/ubuntu/PYTHON/AGWS/Fields/m3_asterism_0000.csv\n",
      "   Probe number Probe function  Guide star  Visible magnitude        xpos  \\\n",
      "0             0            aco        1808          13.082380  206.592941   \n",
      "1             1            aco        1828          10.888713 -409.908177   \n",
      "2             2            aco        1872          12.266086  552.519836   \n",
      "3             3            tt7         688           9.975453  337.660062   \n",
      "\n",
      "         ypos  \n",
      "0  551.114797  \n",
      "1 -424.335243  \n",
      "2 -228.467504  \n",
      "3  143.648095  \n"
     ]
    }
   ],
   "source": [
    "# report the best asterism\n",
    "print(outputfilename)\n",
    "df = pd.DataFrame(bestasterism,index=None)\n",
    "print (df)\n",
    "df.to_csv(outputfilename, index = False, header=True)"
   ]
  },
  {
   "cell_type": "code",
   "execution_count": null,
   "metadata": {},
   "outputs": [],
   "source": []
  }
 ],
 "metadata": {
  "kernelspec": {
   "display_name": "Python 3",
   "language": "python",
   "name": "python3"
  },
  "language_info": {
   "codemirror_mode": {
    "name": "ipython",
    "version": 3
   },
   "file_extension": ".py",
   "mimetype": "text/x-python",
   "name": "python",
   "nbconvert_exporter": "python",
   "pygments_lexer": "ipython3",
   "version": "3.6.10"
  }
 },
 "nbformat": 4,
 "nbformat_minor": 2
}
