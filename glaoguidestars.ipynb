{
 "cells": [
  {
   "cell_type": "code",
   "execution_count": 1,
   "metadata": {},
   "outputs": [
    {
     "name": "stdout",
     "output_type": "stream",
     "text": [
      "/home/ubuntu/CEO/python/ceo/zemax\n"
     ]
    }
   ],
   "source": [
    "# select the guide stars for GLAO for each field\n",
    "# find the error due to noise\n",
    "import warnings\n",
    "warnings.filterwarnings(\"ignore\")\n",
    "\n",
    "import ceo\n",
    "import yaml\n",
    "from yaml import Loader\n",
    "import pandas as pd\n",
    "import numpy as np\n",
    "import matplotlib.pyplot as plt\n",
    "import os\n",
    "import sys\n",
    "sys.path.append(os.path.expanduser('~/PYTHON/ATP/'))\n",
    "from astropy.units import Quantity\n",
    "from astropy.time import Time\n",
    "import astropy.io.fits as pyfits\n",
    "from astropy.coordinates import SkyCoord\n",
    "import astropy.units as units\n",
    "import atp\n",
    "import copy\n",
    "from agwsprobes import *\n",
    "import scipy.interpolate\n",
    "import os\n",
    "\n",
    "plt.ion()"
   ]
  },
  {
   "cell_type": "code",
   "execution_count": 2,
   "metadata": {},
   "outputs": [],
   "source": [
    "L=25.5\n",
    "nPx = 201\n",
    "nLenslet = 48\n",
    "threshold = 0.5 # subaperture flux threshold\n",
    "gmt = ceo.GMT_MX()\n",
    "\n",
    "def modestogmtstate(gmt,modes):\n",
    "    state = gmt.state\n",
    "\n",
    "    M1Txyz = modes[[0,1,2,12,13,14,24,25,26,36,37,38,48,49,50,60,61,62,72,73,74]]\n",
    "    state['M1']['Txyz'] = np.reshape(M1Txyz,(7,3))\n",
    "\n",
    "    M2Txyz = modes[[6,7,8,18,19,20,30,31,32,42,43,44,54,55,56,66,67,68,77,78,79]]\n",
    "    state['M2']['Txyz'] = np.reshape(M2Txyz,(7,3))\n",
    "\n",
    "    M1Rxyz = np.zeros(21)\n",
    "    M1Rxyz[0:20] = modes[[3,4,5,15,16,17,27,28,29,39,40,41,51,52,53,63,64,65,75,76]]\n",
    "    state['M1']['Rxyz'] = np.reshape(M1Rxyz,(7,3))\n",
    "    \n",
    "    M2Rxyz = np.zeros(21)\n",
    "    M2Rxyz[0:20] = modes[[9,10,11,21,22,23,33,34,35,45,46,47,57,58,59,69,70,71,80,81]]\n",
    "    state['M2']['Rxyz'] = np.reshape(M2Rxyz,(7,3))\n",
    "    gmt^=state\n",
    "\n",
    "girmode = \"tracking\"\n",
    "config = \"dgwf\""
   ]
  },
  {
   "cell_type": "code",
   "execution_count": 3,
   "metadata": {},
   "outputs": [],
   "source": [
    "simmag = [7,8,9,10,10.5,11,11.5,12,12.5,13,13.5,14,14.5]\n",
    "\n",
    "if config == \"dgnf\":\n",
    "    maxstarsperprobe = 8 # maximum number of stars per probe to analyze\n",
    "    simstd = np.array([ 0.0040158,00.0061672,0.009668,0.01507,0.018989,0.02393,0.030295,0.03862,0.049384,0.06360,0.083843,0.1125,0.16063]) # 48x48 \n",
    "if config == \"dgwf\":\n",
    "    maxstarsperprobe = 12 \n",
    "    simstd = np.array([0.0044123,0.0068237,0.01062,0.01679,0.021108,0.026594,\\\n",
    "0.033714,0.042872,0.05484,0.0711,0.093967,0.1288,0.18781])\n",
    "\n",
    "interp_function = scipy.interpolate.interp1d(simmag,simstd,bounds_error=False)"
   ]
  },
  {
   "cell_type": "code",
   "execution_count": 4,
   "metadata": {},
   "outputs": [],
   "source": [
    "# this contains information about the observation\n",
    "cfg = yaml.load(open(os.path.expanduser('~/PYTHON/ATP/atp.yaml')),Loader)\n",
    "\n",
    "# load the data about the observation\n",
    "data = pyfits.getdata(os.path.expanduser('~/PYTHON/AGWS/SAO/weather_pointing_data.fits'))\n",
    "temperature = data[:,0] # Temperature draw in deg C\n",
    "pressure = data[:,1] # Pressure draw in mbar\n",
    "humidity = data[:,2] # Relative humidity in %\n",
    "windspeed = data[:,3] # Wind speed in m/s\n",
    "winddir = data[:,4] # Wind direction in degrees\n",
    "datetime = data[:,5] # Date vector (Clay is first 500, Baade is second 500)\n",
    "scira = data[:,6] # RA vector (degrees; Clay is first 500, Baade is second 500)\n",
    "scidec = data[:,7] #  Declination vector (degrees; Clay is first 500, Baade is second 500)\n",
    "telaz = data[:,8] # Azimuth angle of telescope (degrees; Clay is first 500, Baade is second 500)\n",
    "telel = data[:,9] # Elevation angle of telescope (degrees; Clay is first 500, Baade is second 500)\n",
    "r0 = data[:,10] # r0 (cm)\n",
    "L0 = data[:,11] # L0 (m)\n",
    "\n",
    "validator = agwsinit(config)"
   ]
  },
  {
   "cell_type": "markdown",
   "metadata": {},
   "source": [
    "### most likely this is meant to loop over all 1000 fields. The py script is set up to look at fieldno=56 only, as an example. However field0056 has zero valid stars for one probe. So I switch to fieldno = 0"
   ]
  },
  {
   "cell_type": "code",
   "execution_count": 20,
   "metadata": {},
   "outputs": [],
   "source": [
    "fieldno = 0"
   ]
  },
  {
   "cell_type": "code",
   "execution_count": 21,
   "metadata": {},
   "outputs": [],
   "source": [
    "telzen = (90-telel[fieldno])*np.pi/180.\n",
    "airmass = 1./np.cos(telzen)\n",
    "\n",
    "cfg['Observation']['time'] = Time(datetime[fieldno] , format='decimalyear', scale='utc')\n",
    "cfg['Target']['ra'] = scira[fieldno]\n",
    "cfg['Target']['dec'] = scidec[fieldno]\n",
    "\n",
    "cfg['Target']['pointing alt/az']['alt'][0] = telel[fieldno]\n",
    "cfg['Target']['pointing alt/az']['az'][0] = telaz[fieldno]\n",
    "\n",
    "cfg['Atmosphere']['r0'][0] = r0[fieldno]*100.\n",
    "cfg['Atmosphere']['L0'][0] = L0[fieldno]\n",
    "\n",
    "obs = atp.Observatory(**cfg['Observatory'],**cfg['Observation'])\n",
    "target = atp.Target(obs,**cfg['Target'])\n",
    "\n",
    "fielddir = \"~/PYTHON/AGWS/Fields\"\n",
    "starfield = os.path.expanduser(fielddir+f\"/field_{fieldno:04d}.csv\")"
   ]
  },
  {
   "cell_type": "code",
   "execution_count": 22,
   "metadata": {},
   "outputs": [],
   "source": [
    "outputfilename = os.path.expanduser('~/')+f'PYTHON/AGWS/Fields/glao_{config}_asterism_{fieldno:04d}.csv'\n",
    "probefunction = [None,None,None,None]\n",
    "gsno = [None,None,None,None] # guide star number\n",
    "vismaggs = [0,0,0,0]\n",
    "xposgs = [0,0,0,0]\n",
    "yposgs = [0,0,0,0]\n",
    "\n",
    "stars  = atp.StarField(obs,target,field=starfield,**cfg['Star Catalog'])\n",
    "\n",
    "vismag = 0.46*stars.I+0.54*stars.R\n",
    "# remove stars that have an NaN for magnitude\n",
    "valid = ~np.isnan(vismag)*(vismag <= 14.5) # limit of 14.5 for GLAO ####################\n",
    "validpos = np.where(valid)[0]\n",
    "\n",
    "xposarcsec = stars.local[0,:]*180./np.pi*3600\n",
    "yposarcsec = stars.local[1,:]*180./np.pi*3600"
   ]
  },
  {
   "cell_type": "code",
   "execution_count": 23,
   "metadata": {},
   "outputs": [
    {
     "data": {
      "text/plain": [
       "[<matplotlib.lines.Line2D at 0x7fee5d227668>]"
      ]
     },
     "execution_count": 23,
     "metadata": {},
     "output_type": "execute_result"
    },
    {
     "data": {
      "image/png": "[encoded data removed]",
      "text/plain": [
       "<Figure size 432x288 with 1 Axes>"
      ]
     },
     "metadata": {},
     "output_type": "display_data"
    }
   ],
   "source": [
    "plt.figure(8)\n",
    "plt.clf()\n",
    "ax = plt.axes()\n",
    "ax.set_aspect('equal')\n",
    "plt.xlim((-610,610))\n",
    "plt.ylim((-610,610))\n",
    "plt.plot(xposarcsec[validpos],yposarcsec[validpos],'.',color='red')"
   ]
  },
  {
   "cell_type": "code",
   "execution_count": 24,
   "metadata": {},
   "outputs": [
    {
     "name": "stdout",
     "output_type": "stream",
     "text": [
      "176\n"
     ]
    }
   ],
   "source": [
    "gspos = np.transpose(np.array([xposarcsec,yposarcsec]))\n",
    "for k in range(len(xposarcsec)):\n",
    "    if valid[k]:\n",
    "        (success,loc,idx) = agwscheck(validator,gspos[[k],:])\n",
    "        valid[k] = success\n",
    "\n",
    "validpos = np.where(valid)[0]\n",
    "\n",
    "print(len(validpos))"
   ]
  },
  {
   "cell_type": "code",
   "execution_count": 25,
   "metadata": {},
   "outputs": [],
   "source": [
    "vismag = vismag[validpos]\n",
    "xposarcsec = xposarcsec[validpos]\n",
    "yposarcsec = yposarcsec[validpos]"
   ]
  },
  {
   "cell_type": "code",
   "execution_count": 26,
   "metadata": {},
   "outputs": [
    {
     "data": {
      "text/plain": [
       "Text(0, 0.5, 'Y-position (arcsec)')"
      ]
     },
     "execution_count": 26,
     "metadata": {},
     "output_type": "execute_result"
    },
    {
     "data": {
      "image/png": "[encoded data removed]",
      "text/plain": [
       "<Figure size 432x288 with 1 Axes>"
      ]
     },
     "metadata": {},
     "output_type": "display_data"
    }
   ],
   "source": [
    "if config == \"dgwf\":\n",
    "    minradarcsec = 365 # trial and error\n",
    "    maxradarcsec = 572.4 # trial and error\n",
    "if config == \"dgnf\":\n",
    "    # the AGWS must be > 6' away to avoid vignetting the field\n",
    "    minradarcsec = 364.7 \n",
    "    maxradarcsec = 600\n",
    "if config == \"m3\":\n",
    "    # radius of guide star must be greater than 357.9 mm\n",
    "    minradarcsec = 365.07\n",
    "    maxradarcsec = 600\n",
    "\n",
    "plt.plot(xposarcsec,yposarcsec,'.',color='darkgreen')\n",
    "innercircle = plt.Circle([0,0],radius=minradarcsec,color='darkblue',fill=False)\n",
    "ax.add_artist(innercircle)\n",
    "outercircle = plt.Circle([0,0],radius=maxradarcsec,color='darkblue',fill=False)\n",
    "ax.add_artist(outercircle)\n",
    "plt.plot([0],[0],'*',color='black')\n",
    "\n",
    "plt.xlabel('X-position (arcsec)')\n",
    "plt.ylabel('Y-position (arcsec)')"
   ]
  },
  {
   "cell_type": "code",
   "execution_count": 27,
   "metadata": {},
   "outputs": [],
   "source": [
    "gspos = np.transpose(np.array([xposarcsec,yposarcsec]))\n",
    "\n",
    "# determine which probes reach which stars\n",
    "probesreachstars = agwsreachstars(validator,gspos)"
   ]
  },
  {
   "cell_type": "code",
   "execution_count": 29,
   "metadata": {},
   "outputs": [
    {
     "data": {
      "text/plain": [
       "(4, 176)"
      ]
     },
     "execution_count": 29,
     "metadata": {},
     "output_type": "execute_result"
    }
   ],
   "source": [
    "probesreachstars.shape"
   ]
  },
  {
   "cell_type": "code",
   "execution_count": 30,
   "metadata": {},
   "outputs": [
    {
     "name": "stdout",
     "output_type": "stream",
     "text": [
      "seeing (arcsec) : 0.757\n",
      "4\n"
     ]
    }
   ],
   "source": [
    "# calculate the seeing \n",
    "gs_wavelength = Quantity(*cfg['SH']['guide star']['wavelength']).to('m').value\n",
    "r0_wavelength = Quantity(*cfg['Atmosphere']['wavelength']).to('m').value\n",
    "r0_val = Quantity(*cfg['Atmosphere']['r0']).to('m').value\n",
    "r0_val *= atp.r0_scaling(r0_wavelength,gs_wavelength,telzen)\n",
    "seeingRad = gs_wavelength/r0_val\n",
    "seeingArcsec = seeingRad*ceo.constants.RAD2ARCSEC\n",
    "print(\"seeing (arcsec) : %5.3f\" %seeingArcsec)\n",
    "\n",
    "probes_with_stars = probesreachstars.any(axis=1) \n",
    "n_probes_with_stars = np.sum(probes_with_stars)\n",
    "print(n_probes_with_stars)"
   ]
  },
  {
   "cell_type": "code",
   "execution_count": 31,
   "metadata": {},
   "outputs": [
    {
     "name": "stdout",
     "output_type": "stream",
     "text": [
      "12 12 12 12\n"
     ]
    }
   ],
   "source": [
    "s0 = np.where(probesreachstars[0,:])[0]\n",
    "s1 = np.where(probesreachstars[1,:])[0]\n",
    "s2 = np.where(probesreachstars[2,:])[0]\n",
    "s3 = np.where(probesreachstars[3,:])[0]\n",
    "\n",
    "# sort by magnitude and clip at maximum number\n",
    "s0 = s0[np.argsort(vismag[s0])[0:maxstarsperprobe]]\n",
    "s1 = s1[np.argsort(vismag[s1])[0:maxstarsperprobe]]\n",
    "s2 = s2[np.argsort(vismag[s2])[0:maxstarsperprobe]]\n",
    "s3 = s3[np.argsort(vismag[s3])[0:maxstarsperprobe]]\n",
    "\n",
    "print(len(s0), len(s1),len(s2), len(s3))"
   ]
  },
  {
   "cell_type": "code",
   "execution_count": 32,
   "metadata": {},
   "outputs": [],
   "source": [
    "# see which combinations are allowable\n",
    "validasterisms = []\n",
    "for k0 in s0:\n",
    "    for k1 in s1:\n",
    "        for k2 in s2:\n",
    "            for k3 in s3:\n",
    "                testpos = gspos[[k0,k1,k2,k3]]\n",
    "                (success,loc,idx) = agwscheck(validator,testpos)\n",
    "                if success and np.all(idx == np.array([0,1,2,3])):\n",
    "                    validasterisms.append([k0,k1,k2,k3])"
   ]
  },
  {
   "cell_type": "code",
   "execution_count": 34,
   "metadata": {},
   "outputs": [
    {
     "name": "stdout",
     "output_type": "stream",
     "text": [
      "604\n"
     ]
    }
   ],
   "source": [
    "print(len(validasterisms))"
   ]
  },
  {
   "cell_type": "code",
   "execution_count": 35,
   "metadata": {},
   "outputs": [],
   "source": [
    "validasterisms = np.array(validasterisms)\n",
    "\n",
    "# now select the asterisms with the brightest stars\n",
    "mags = vismag[validasterisms]"
   ]
  },
  {
   "cell_type": "code",
   "execution_count": 36,
   "metadata": {},
   "outputs": [],
   "source": [
    "# there are various solutions to the problem\n",
    "# \n",
    "\n",
    "# (1) We select the asterims whose fourth brightest star is the brightest. \n",
    "# (2) We weight all of the stars according to their noise. In this case, we want to maximimize the sum of \n",
    "#          1 divided by the noise terms.\n",
    "# (3) We weight all of the stars equally. In this case, we minimize the sum of the noise terms\n",
    "\n",
    "### Approach (1) ###\n",
    "sortedmags = np.sort(mags,axis=1)\n",
    "idx3 = np.where(sortedmags[:,3] == np.min(sortedmags[:,3]))[0]\n",
    "\n",
    "if len(idx3) == 1:\n",
    "    idx = idx3[0]\n",
    "else:\n",
    "    # asterisms with fourth brightest star of equal magnitudes\n",
    "    idx2 = idx3[np.where(sortedmags[idx3,2] == np.min(sortedmags[idx3,2]))[0]]\n",
    "    if len(idx2) == 1:\n",
    "        idx = idx2[0]\n",
    "    else:\n",
    "        idx1 = idx2[np.where(sortedmags[idx2,1] == np.min(sortedmags[idx2,1]))[0]]\n",
    "        if len(idx1) == 1:\n",
    "            idx = idx1[0]\n",
    "        else:\n",
    "            idx0 = idx1[np.where(sortedmags[idx1,0] == np.min(sortedmags[idx1,0]))[0]]\n",
    "            idx = idx0[0]"
   ]
  },
  {
   "cell_type": "code",
   "execution_count": 44,
   "metadata": {},
   "outputs": [
    {
     "data": {
      "text/plain": [
       "array([0])"
      ]
     },
     "execution_count": 44,
     "metadata": {},
     "output_type": "execute_result"
    }
   ],
   "source": [
    "#no surprise that idx is 0, because we already sorted mags in s0,s1,s2,s3\n",
    "idx3"
   ]
  },
  {
   "cell_type": "code",
   "execution_count": 45,
   "metadata": {},
   "outputs": [
    {
     "data": {
      "text/plain": [
       "0"
      ]
     },
     "execution_count": 45,
     "metadata": {},
     "output_type": "execute_result"
    }
   ],
   "source": [
    "idx"
   ]
  },
  {
   "cell_type": "code",
   "execution_count": 46,
   "metadata": {},
   "outputs": [
    {
     "name": "stdout",
     "output_type": "stream",
     "text": [
      "   Probe number  Guide star  Visible magnitude        xpos        ypos  \\\n",
      "0             0         138          10.658705 -460.046402  287.183803   \n",
      "1             1         100           9.777500 -495.271642   -6.083056   \n",
      "2             2         132          10.709084  -39.535994 -532.952254   \n",
      "3             3         142           9.186929  537.977011  -91.433587   \n",
      "\n",
      "              selection  \n",
      "0  brightest faint star  \n",
      "1  brightest faint star  \n",
      "2  brightest faint star  \n",
      "3  brightest faint star  \n"
     ]
    }
   ],
   "source": [
    "# calculate the reconstructor with this asterism\n",
    "vidx = validasterisms[idx]\n",
    "xpos = xposarcsec[vidx]\n",
    "ypos = yposarcsec[vidx]    \n",
    "mag = vismag[vidx]\n",
    "\n",
    "# save the position and magnitude of the guide stars\n",
    "bestasterism = {'Probe number': [0,1,2,3],'Guide star':vidx,'Visible magnitude':mag,'xpos':xpos,'ypos':ypos,'selection':'brightest faint star'}\n",
    "\n",
    "df = pd.DataFrame(bestasterism,index=None)\n",
    "print (df)\n",
    "df.to_csv(outputfilename, index = False, header=True, mode='w')"
   ]
  },
  {
   "cell_type": "code",
   "execution_count": 47,
   "metadata": {},
   "outputs": [
    {
     "data": {
      "text/plain": [
       "'/home/ubuntu/PYTHON/AGWS/Fields/glao_dgwf_asterism_0000.csv'"
      ]
     },
     "execution_count": 47,
     "metadata": {},
     "output_type": "execute_result"
    }
   ],
   "source": [
    "outputfilename"
   ]
  },
  {
   "cell_type": "code",
   "execution_count": 48,
   "metadata": {},
   "outputs": [],
   "source": [
    "### Approach (2) ###\n",
    "\n",
    "# for each asterism, evaluate the noise variance\n",
    "noiserms = interp_function(np.clip(mags,7,14.5))    \n",
    "\n",
    "totalnoise = 1./(np.sum(1./noiserms**2,axis=1))        \n",
    "tidx = validasterisms[np.argsort(totalnoise)[0]]\n",
    "\n",
    "xpos = xposarcsec[tidx]\n",
    "ypos = yposarcsec[tidx]    \n",
    "mag = vismag[tidx]"
   ]
  },
  {
   "cell_type": "code",
   "execution_count": 49,
   "metadata": {},
   "outputs": [
    {
     "data": {
      "text/plain": [
       "(604, 4)"
      ]
     },
     "execution_count": 49,
     "metadata": {},
     "output_type": "execute_result"
    }
   ],
   "source": [
    "noiserms.shape"
   ]
  },
  {
   "cell_type": "code",
   "execution_count": 50,
   "metadata": {},
   "outputs": [
    {
     "data": {
      "text/plain": [
       "(604,)"
      ]
     },
     "execution_count": 50,
     "metadata": {},
     "output_type": "execute_result"
    }
   ],
   "source": [
    "totalnoise.shape"
   ]
  },
  {
   "cell_type": "code",
   "execution_count": 51,
   "metadata": {},
   "outputs": [
    {
     "data": {
      "text/plain": [
       "array([138, 100, 132, 142])"
      ]
     },
     "execution_count": 51,
     "metadata": {},
     "output_type": "execute_result"
    }
   ],
   "source": [
    "tidx #note this gets us the same asterism as approach 1"
   ]
  },
  {
   "cell_type": "code",
   "execution_count": 52,
   "metadata": {},
   "outputs": [
    {
     "name": "stdout",
     "output_type": "stream",
     "text": [
      "   Probe number  Guide star  Visible magnitude        xpos        ypos  \\\n",
      "0             0         138          10.658705 -460.046402  287.183803   \n",
      "1             1         100           9.777500 -495.271642   -6.083056   \n",
      "2             2         132          10.709084  -39.535994 -532.952254   \n",
      "3             3         142           9.186929  537.977011  -91.433587   \n",
      "\n",
      "               rec  \n",
      "0  optimal weight   \n",
      "1  optimal weight   \n",
      "2  optimal weight   \n",
      "3  optimal weight   \n"
     ]
    }
   ],
   "source": [
    "# save the position and magnitude of the guide stars\n",
    "bestasterism = {'Probe number': [0,1,2,3],'Guide star':tidx,'Visible magnitude':mag,'xpos':xpos,'ypos':ypos,'rec':'optimal weight '}\n",
    "\n",
    "df = pd.DataFrame(bestasterism,index=None)\n",
    "print (df)\n",
    "df.to_csv(outputfilename, index = False, header=False, mode='a')"
   ]
  },
  {
   "cell_type": "code",
   "execution_count": 53,
   "metadata": {},
   "outputs": [
    {
     "name": "stdout",
     "output_type": "stream",
     "text": [
      "   Probe number  Guide star  Visible magnitude        xpos        ypos  \\\n",
      "0             0         138          10.658705 -460.046402  287.183803   \n",
      "1             1         100           9.777500 -495.271642   -6.083056   \n",
      "2             2         132          10.709084  -39.535994 -532.952254   \n",
      "3             3         142           9.186929  537.977011  -91.433587   \n",
      "\n",
      "             rec  \n",
      "0  equal weight   \n",
      "1  equal weight   \n",
      "2  equal weight   \n",
      "3  equal weight   \n"
     ]
    }
   ],
   "source": [
    "#approach 3\n",
    "\n",
    "totalnoise = np.sum(noiserms**2,axis=1)        \n",
    "qidx = validasterisms[np.argsort(totalnoise)[0]]\n",
    "\n",
    "xpos = xposarcsec[qidx]\n",
    "ypos = yposarcsec[qidx]    \n",
    "mag = vismag[qidx]\n",
    "\n",
    "# save the position and magnitude of the guide stars\n",
    "bestasterism = {'Probe number': [0,1,2,3],'Guide star':qidx,'Visible magnitude':mag,'xpos':xpos,'ypos':ypos,'rec':'equal weight '}\n",
    "\n",
    "df = pd.DataFrame(bestasterism,index=None)\n",
    "print (df)\n",
    "df.to_csv(outputfilename, index = False, header=False, mode='a')"
   ]
  },
  {
   "cell_type": "code",
   "execution_count": null,
   "metadata": {},
   "outputs": [],
   "source": []
  }
 ],
 "metadata": {
  "kernelspec": {
   "display_name": "Python 3",
   "language": "python",
   "name": "python3"
  },
  "language_info": {
   "codemirror_mode": {
    "name": "ipython",
    "version": 3
   },
   "file_extension": ".py",
   "mimetype": "text/x-python",
   "name": "python",
   "nbconvert_exporter": "python",
   "pygments_lexer": "ipython3",
   "version": "3.6.10"
  }
 },
 "nbformat": 4,
 "nbformat_minor": 2
}
