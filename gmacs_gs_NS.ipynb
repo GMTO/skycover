{
 "cells": [
  {
   "cell_type": "code",
   "execution_count": 1,
   "metadata": {},
   "outputs": [
    {
     "name": "stdout",
     "output_type": "stream",
     "text": [
      "/home/ubuntu/CEO/python/ceo/zemax\n"
     ]
    }
   ],
   "source": [
    "# select the guide stars given a field\n",
    "\n",
    "import warnings\n",
    "warnings.filterwarnings(\"ignore\")\n",
    "\n",
    "import ceo\n",
    "import yaml\n",
    "from yaml import Loader\n",
    "import pandas as pd\n",
    "import numpy as np\n",
    "import matplotlib.pyplot as plt\n",
    "import os\n",
    "import sys\n",
    "sys.path.append(os.path.expanduser('~/PYTHON/ATP/'))\n",
    "from astropy.units import Quantity\n",
    "from astropy.time import Time\n",
    "import astropy.io.fits as pyfits\n",
    "import atp\n",
    "import copy\n",
    "from agwsprobes import *\n",
    "import scipy.interpolate"
   ]
  },
  {
   "cell_type": "code",
   "execution_count": 2,
   "metadata": {},
   "outputs": [],
   "source": [
    "config = \"gmacs\"\n",
    "maxstarsperprobe = 8 # maximum number of stars per probe to analyze\n",
    "\n",
    "# this contains information about the observation\n",
    "cfg = yaml.load(open(os.path.expanduser('~/PYTHON/ATP/atp.yaml')),Loader)"
   ]
  },
  {
   "cell_type": "code",
   "execution_count": 3,
   "metadata": {},
   "outputs": [],
   "source": [
    "# load the data about the observation\n",
    "data = pyfits.getdata(os.path.expanduser('~/PYTHON/AGWS/SAO/weather_pointing_data.fits'))\n",
    "temperature = data[:,0] # Temperature draw in deg C\n",
    "pressure = data[:,1] # Pressure draw in mbar\n",
    "humidity = data[:,2] # Relative humidity in %\n",
    "windspeed = data[:,3] # Wind speed in m/s\n",
    "winddir = data[:,4] # Wind direction in degrees\n",
    "datetime = data[:,5] # Date vector (Clay is first 500, Baade is second 500)\n",
    "scira = data[:,6] # RA vector (degrees; Clay is first 500, Baade is second 500)\n",
    "scidec = data[:,7] #  Declination vector (degrees; Clay is first 500, Baade is second 500)\n",
    "telaz = data[:,8] # Azimuth angle of telescope (degrees; Clay is first 500, Baade is second 500)\n",
    "telel = data[:,9] # Elevation angle of telescope (degrees; Clay is first 500, Baade is second 500)\n",
    "r0 = data[:,10] # r0 (cm)\n",
    "L0 = data[:,11] # L0 (m)\n",
    "\n",
    "validator = agwsinit(config)"
   ]
  },
  {
   "cell_type": "code",
   "execution_count": 4,
   "metadata": {
    "scrolled": true
   },
   "outputs": [
    {
     "data": {
      "text/plain": [
       "{'Observation': {'time scale': 'UTC',\n",
       "  'time': '2018-01-01T04:00:00',\n",
       "  'time resolution': [60, 'second'],\n",
       "  'duration': [None, 'second']},\n",
       " 'Observatory': {'latitude': [-29.049, 'degree'],\n",
       "  'longitude': [-70.682, 'degree'],\n",
       "  'height': [2514, 'meter']},\n",
       " 'Target': {'pointing target': None,\n",
       "  'pointing ra/dec': None,\n",
       "  'pointing alt/az': {'alt': [45, 'degree'], 'az': [0, 'degree']},\n",
       "  'pointing accuracy': None,\n",
       "  'rotator angle': [0, 'degree']},\n",
       " 'Star Catalog': {'ra/dec error rms': None,\n",
       "  'radius': [10, 'arcmin'],\n",
       "  'exclude radius': [3, 'arcmin'],\n",
       "  'V magnitude limit': 18,\n",
       "  'color': ['V', 'J']},\n",
       " 'Telescope': {'diameter': [25.5, 'm'], 'area': 367},\n",
       " 'Atmosphere': {'wavelength': [500, 'nm'],\n",
       "  'r0': [16, 'cm'],\n",
       "  'L0': [25, 'm'],\n",
       "  'altitude': [[25, 275, 425, 1250, 4000, 8000, 13000], 'm'],\n",
       "  'fr0': [0.1257, 0.0874, 0.0666, 0.3498, 0.2273, 0.0681, 0.0751]},\n",
       " 'TT7': {'guide star': {'wavelength': [715, 'nm'],\n",
       "   'zero point': 16900000000.0},\n",
       "  'optics': {'lenslet': {'array': 24,\n",
       "    'spot size': 'seeing limited',\n",
       "    'pixel scale': None,\n",
       "    'pixels': None},\n",
       "   'throughput': 0.48},\n",
       "  'detector': {'exposure': [5, 'ms'],\n",
       "   'quantum efficiency': 0.8,\n",
       "   'read-out noise': 0},\n",
       "  'control': {'gain': 0, 'latency': 0}},\n",
       " 'SH': {'guide star': {'wavelength': [715, 'nm'], 'zero point': 16900000000.0},\n",
       "  'optics': {'lenslet': {'array': 48,\n",
       "    'spot size': 'seeing limited',\n",
       "    'pixel scale': None,\n",
       "    'pixels': None},\n",
       "   'throughput': 0.48},\n",
       "  'detector': {'exposure': [30, 's'],\n",
       "   'quantum efficiency': 0.8,\n",
       "   'read-out noise': 0},\n",
       "  'control': {'gain': 0, 'latency': 0}}}"
      ]
     },
     "execution_count": 4,
     "metadata": {},
     "output_type": "execute_result"
    }
   ],
   "source": [
    "cfg"
   ]
  },
  {
   "cell_type": "markdown",
   "metadata": {},
   "source": [
    "# this notebook only looks at the first field."
   ]
  },
  {
   "cell_type": "code",
   "execution_count": 5,
   "metadata": {},
   "outputs": [],
   "source": [
    "#the python file loops over all 1000 fields.\n",
    "fieldno = 13"
   ]
  },
  {
   "cell_type": "code",
   "execution_count": 6,
   "metadata": {},
   "outputs": [],
   "source": [
    "telzen = (90-telel[fieldno])*np.pi/180.\n",
    "airmass = 1./np.cos(telzen)\n",
    "\n",
    "cfg['Observation']['time'] = Time(datetime[fieldno] , format='decimalyear', scale='utc')\n",
    "cfg['Target']['ra'] = scira[fieldno]\n",
    "cfg['Target']['dec'] = scidec[fieldno]\n",
    "\n",
    "cfg['Target']['pointing alt/az']['alt'][0] = telel[fieldno]\n",
    "cfg['Target']['pointing alt/az']['az'][0] = telaz[fieldno]\n",
    "\n",
    "cfg['Atmosphere']['r0'][0] = r0[fieldno]*100.\n",
    "cfg['Atmosphere']['L0'][0] = L0[fieldno]\n",
    "\n",
    "obs = atp.Observatory(**cfg['Observatory'],**cfg['Observation'])\n",
    "target = atp.Target(obs,**cfg['Target'])"
   ]
  },
  {
   "cell_type": "code",
   "execution_count": 7,
   "metadata": {},
   "outputs": [],
   "source": [
    "fielddir = \"~/PYTHON/AGWS/Fields\"\n",
    "starfield = os.path.expanduser(fielddir+f\"/field_{fieldno:04d}.csv\")\n",
    "\n",
    "outputfilename = os.path.expanduser('~/')+f'PYTHON/AGWS/Fields/{config}_asterism_{fieldno:04d}.csv'\n",
    "probefunction = [None,None,None,None]\n",
    "gsno = [None,None,None,None] # guide star number\n",
    "vismaggs = [0,0,0,0]\n",
    "xposgs = [0,0,0,0]\n",
    "yposgs = [0,0,0,0]"
   ]
  },
  {
   "cell_type": "code",
   "execution_count": 8,
   "metadata": {},
   "outputs": [],
   "source": [
    "stars  = atp.StarField(obs,target,field=starfield,**cfg['Star Catalog'])"
   ]
  },
  {
   "cell_type": "code",
   "execution_count": 9,
   "metadata": {},
   "outputs": [],
   "source": [
    "vismag = 0.46*stars.I+0.54*stars.R\n",
    "# remove stars that have an NaN for magnitude\n",
    "valid = ~np.isnan(vismag)\n",
    "validpos = np.where(valid)[0]\n",
    "\n",
    "xposarcsec = stars.local[0,:]*180./np.pi*3600\n",
    "yposarcsec = stars.local[1,:]*180./np.pi*3600"
   ]
  },
  {
   "cell_type": "code",
   "execution_count": 10,
   "metadata": {},
   "outputs": [
    {
     "name": "stdout",
     "output_type": "stream",
     "text": [
      "fieldno =  13  N stars =  49 49\n"
     ]
    }
   ],
   "source": [
    "print(\"fieldno = \", fieldno, \" N stars = \", len(vismag), len(valid))"
   ]
  },
  {
   "cell_type": "markdown",
   "metadata": {},
   "source": [
    "## run agwscheck() to remove invalid stars"
   ]
  },
  {
   "cell_type": "code",
   "execution_count": 11,
   "metadata": {},
   "outputs": [],
   "source": [
    "gspos = np.transpose(np.array([xposarcsec,yposarcsec]))\n",
    "for k in range(len(xposarcsec)):\n",
    "    if valid[k]:\n",
    "        (success,loc,idx) = agwscheck(validator,gspos[[k],:])\n",
    "        valid[k] = success"
   ]
  },
  {
   "cell_type": "code",
   "execution_count": 12,
   "metadata": {},
   "outputs": [
    {
     "name": "stdout",
     "output_type": "stream",
     "text": [
      "7\n"
     ]
    }
   ],
   "source": [
    "validpos = np.where(valid)[0]\n",
    "print(len(validpos))"
   ]
  },
  {
   "cell_type": "code",
   "execution_count": 13,
   "metadata": {},
   "outputs": [],
   "source": [
    "if len(validpos) == 0:\n",
    "    print('There are no guide stars!')\n",
    "    bestasterism = {'Probe number': [0,1,2,3], 'Probe function': probefunction,'Guide star':gsno,'Visible magnitude':vismaggs,'xpos':xposgs,'ypos':yposgs}\n",
    "\n",
    "    print(outputfilename)\n",
    "    df = pd.DataFrame(bestasterism,index=None)\n",
    "    print (df)\n",
    "    df.to_csv(outputfilename, index = False, header=True)\n",
    "    print('--------------PROCEED TO THE NEXT FIELD, SKIP BELOW-----------------')\n",
    "\n",
    "vismag = vismag[validpos]\n",
    "xposarcsec = xposarcsec[validpos]\n",
    "yposarcsec = yposarcsec[validpos]"
   ]
  },
  {
   "cell_type": "code",
   "execution_count": 14,
   "metadata": {},
   "outputs": [
    {
     "data": {
      "text/plain": [
       "Text(0, 0.5, 'Y-position (arcsec)')"
      ]
     },
     "execution_count": 14,
     "metadata": {},
     "output_type": "execute_result"
    },
    {
     "data": {
      "image/png": "[encoded data removed]",
      "text/plain": [
       "<Figure size 432x288 with 1 Axes>"
      ]
     },
     "metadata": {},
     "output_type": "display_data"
    }
   ],
   "source": [
    "maxradarcsec = 420\n",
    "\n",
    "ax = plt.axes()\n",
    "ax.set_aspect('equal')\n",
    "plt.plot(xposarcsec,yposarcsec,'.',color='darkgreen')\n",
    "plt.plot(np.array([-10.11/2, 10.11/2, 10.11/2, -10.11/2, -10.11/2])*60, \n",
    "         np.array([9.11/2, 9.11/2, -9.11/2, -9.11/2, 9.11/2])*60, '-b')\n",
    "#obscuration = plt.Circle([0,0],radius=minradarcsec,color='darkblue',fill=False)\n",
    "#ax.add_artist(obscuration)\n",
    "outercircle = plt.Circle([0,0],radius=maxradarcsec,color='darkblue',fill=False)\n",
    "ax.add_artist(outercircle)\n",
    "#plt.plot([0],[0],'*',color='black')\n",
    "\n",
    "plt.xlabel('X-position (arcsec)')\n",
    "plt.ylabel('Y-position (arcsec)')"
   ]
  },
  {
   "cell_type": "code",
   "execution_count": 47,
   "metadata": {},
   "outputs": [
    {
     "data": {
      "text/plain": [
       "'/home/ubuntu/PYTHON/AGWS/Fields/gmacs_asterism_0000.png'"
      ]
     },
     "execution_count": 47,
     "metadata": {},
     "output_type": "execute_result"
    }
   ],
   "source": [
    "outputfilename.replace('csv','png')"
   ]
  },
  {
   "cell_type": "code",
   "execution_count": 48,
   "metadata": {},
   "outputs": [
    {
     "data": {
      "text/plain": [
       "'/home/ubuntu/PYTHON/AGWS/Fields/gmacs_asterism_0000.csv'"
      ]
     },
     "execution_count": 48,
     "metadata": {},
     "output_type": "execute_result"
    }
   ],
   "source": [
    "outputfilename"
   ]
  },
  {
   "cell_type": "code",
   "execution_count": 15,
   "metadata": {},
   "outputs": [],
   "source": [
    "gspos = np.transpose(np.array([xposarcsec,yposarcsec]))\n",
    "\n",
    "# determine which probes reach which stars\n",
    "probesreachstars = agwsreachstars(validator,gspos)"
   ]
  },
  {
   "cell_type": "code",
   "execution_count": 19,
   "metadata": {},
   "outputs": [
    {
     "data": {
      "text/plain": [
       "(4, 362)"
      ]
     },
     "execution_count": 19,
     "metadata": {},
     "output_type": "execute_result"
    }
   ],
   "source": [
    "probesreachstars.shape"
   ]
  },
  {
   "cell_type": "code",
   "execution_count": 20,
   "metadata": {},
   "outputs": [
    {
     "data": {
      "text/plain": [
       "467"
      ]
     },
     "execution_count": 20,
     "metadata": {},
     "output_type": "execute_result"
    }
   ],
   "source": [
    "np.sum(probesreachstars)"
   ]
  },
  {
   "cell_type": "code",
   "execution_count": 21,
   "metadata": {},
   "outputs": [
    {
     "name": "stdout",
     "output_type": "stream",
     "text": [
      "seeing (arcsec) : 0.757\n"
     ]
    }
   ],
   "source": [
    "# select the segment tip-tilt star and the associated probe\n",
    "# zenith angle in radians (used to find the anisoplanatic error)\n",
    "\n",
    "# find the star with the lowest segment tip-tilt error\n",
    "# inputs: distance from center in arcminutes, mV (currently); need to fix\n",
    "radialdistArcmin = np.hypot(xposarcsec,yposarcsec)/60.\n",
    "\n",
    "# calculate the seeing \n",
    "gs_wavelength = Quantity(*cfg['SH']['guide star']['wavelength']).to('m').value\n",
    "r0_wavelength = Quantity(*cfg['Atmosphere']['wavelength']).to('m').value\n",
    "r0_val = Quantity(*cfg['Atmosphere']['r0']).to('m').value\n",
    "r0_val *= atp.r0_scaling(r0_wavelength,gs_wavelength,telzen)\n",
    "seeingRad = gs_wavelength/r0_val\n",
    "seeingArcsec = seeingRad*ceo.constants.RAD2ARCSEC\n",
    "print(\"seeing (arcsec) : %5.3f\" %seeingArcsec)"
   ]
  },
  {
   "cell_type": "markdown",
   "metadata": {},
   "source": [
    "### we next determine the best TT7 star, i.e., which star will be measured with the TT7 probe\n",
    "\n",
    "we do this by predicting the TT7 error for each star\n",
    "\n",
    "This error has two parts, the noise_rms and aniso_rms."
   ]
  },
  {
   "cell_type": "code",
   "execution_count": 22,
   "metadata": {},
   "outputs": [],
   "source": [
    "# TT7 tip-tilt error per subaperture (24x24 subapertures)\n",
    "# use the interaction matrix to obtain the error in segment tip-tilt\n",
    "# \n",
    "\n",
    "# calculate at what magnitude we saturate and define as minimum magnitude\n",
    "\n",
    "# calculate the anisoplanatic error by setting magnitude to 0\n",
    "tt7_aniso_rms = [atp.tt7_tt_error(zz,0.,telzen,**cfg) for zz,magnitude in zip(radialdistArcmin,vismag)]\n",
    "# calculate the approximate TT7 error\n",
    "# saturation is attained for magnitude 10 stars\n",
    "# values calculated using tt7noise.i for 0.8\" seeing\n",
    "magvec = np.array([0,10,10.5,11,11.5,12,12.5,13,13.5,14,14.5,15,15.5,16,16.5,17,17.5,18,20])\n",
    "# this is the error in the segment tip-tilt estimate using a 24x24 SH WFS\n",
    "tterr_for_800mas = np.array([0.00204073,0.00204073,0.00248421,0.00313843,0.00404597,0.0052902,0.00649479,\n",
    "                             0.00812451,0.0108732,0.0140705,0.018404,0.0248977,0.0369819,0.0556996,0.0910204,\n",
    "                             0.13293,0.179323,0.205629,0.205629])*1000.\n",
    "tterr_mas = tterr_for_800mas*seeingArcsec/0.8"
   ]
  },
  {
   "cell_type": "code",
   "execution_count": 28,
   "metadata": {},
   "outputs": [
    {
     "data": {
      "text/plain": [
       "Text(0, 0.5, 'Tip-tilt error (nm)')"
      ]
     },
     "execution_count": 28,
     "metadata": {},
     "output_type": "execute_result"
    },
    {
     "data": {
      "image/png": "[encoded data removed]",
      "text/plain": [
       "<Figure size 432x288 with 1 Axes>"
      ]
     },
     "metadata": {},
     "output_type": "display_data"
    }
   ],
   "source": [
    "plt.plot(magvec, tterr_for_800mas, '-bo')\n",
    "plt.grid()\n",
    "plt.xlabel('Star magnitude')\n",
    "plt.ylabel('Tip-tilt error (nm)')"
   ]
  },
  {
   "cell_type": "code",
   "execution_count": 29,
   "metadata": {},
   "outputs": [],
   "source": [
    "interp_function = scipy.interpolate.interp1d(magvec,tterr_mas,bounds_error=False)\n",
    "tt7_noise_rms = interp_function(np.clip(vismag,np.min(magvec),np.max(magvec)))\n",
    "tt7_res_rms = tt7_noise_rms + tt7_aniso_rms"
   ]
  },
  {
   "cell_type": "markdown",
   "metadata": {},
   "source": [
    "#### for now, we will use the best TT7 star, but later we could also try the other stars if we do not succeed in finding a suitable active optics asterism"
   ]
  },
  {
   "cell_type": "code",
   "execution_count": 30,
   "metadata": {},
   "outputs": [],
   "source": [
    "# sort from lowest to highest error\n",
    "tt7_gs_indices = np.argsort(tt7_res_rms)\n",
    "tt7_gs_idx = tt7_gs_indices[0] #index of gs used for tt7"
   ]
  },
  {
   "cell_type": "code",
   "execution_count": 31,
   "metadata": {},
   "outputs": [],
   "source": [
    "tt7probes = np.where(probesreachstars[:,tt7_gs_idx])[0] #which probes can reach the selected tt7 gs\n",
    "stt7 = np.array([tt7_gs_idx])[0] #index of gs used for tt7\n",
    "\n",
    "probes_with_stars = probesreachstars.any(axis=1) #for example: [true, true, true, true]\n",
    "n_probes_with_stars = np.sum(probes_with_stars) # number of probes that can reach any star, ideally, =4\n",
    "\n",
    "results = {'minangle':[],'minradius':[],'maxmag':[],'tt7':[],'aco':[],'tt7probe':[],'acoprobes':[]} "
   ]
  },
  {
   "cell_type": "code",
   "execution_count": 32,
   "metadata": {},
   "outputs": [
    {
     "data": {
      "text/plain": [
       "array([False, False, False,  True])"
      ]
     },
     "execution_count": 32,
     "metadata": {},
     "output_type": "execute_result"
    }
   ],
   "source": [
    "probesreachstars[:,tt7_gs_idx]"
   ]
  },
  {
   "cell_type": "code",
   "execution_count": 33,
   "metadata": {},
   "outputs": [
    {
     "data": {
      "text/plain": [
       "array([ True,  True,  True,  True])"
      ]
     },
     "execution_count": 33,
     "metadata": {},
     "output_type": "execute_result"
    }
   ],
   "source": [
    "probes_with_stars"
   ]
  },
  {
   "cell_type": "code",
   "execution_count": 34,
   "metadata": {},
   "outputs": [],
   "source": [
    "if n_probes_with_stars == 4:  \n",
    "    for tt7probe in tt7probes:    \n",
    "        aco_idx = np.arange(4)\n",
    "        aco_idx = np.delete(aco_idx,tt7probe)\n",
    "\n",
    "        s2 = np.where(probesreachstars[aco_idx[2],:])[0]\n",
    "        if s2.tolist() == []:\n",
    "            np.delete(aco_idx,aco_idx[2])\n",
    "\n",
    "        s1 = np.where(probesreachstars[aco_idx[1],:])[0]\n",
    "        if s1.tolist() == []:\n",
    "            np.delete(aco_idx,aco_idx[1])\n",
    "\n",
    "        s0 = np.where(probesreachstars[aco_idx[0],:])[0]\n",
    "        if s0.tolist() == []:\n",
    "            np.delete(aco_idx,aco_idx[0])\n",
    "\n",
    "        # sort according to the visible magnitude\n",
    "        s0 = s0[np.argsort(vismag[s0])]\n",
    "        s1 = s1[np.argsort(vismag[s1])]\n",
    "        s2 = s2[np.argsort(vismag[s2])]\n",
    "\n",
    "        m0 = np.clip(len(s0),0,maxstarsperprobe)\n",
    "        m1 = np.clip(len(s1),0,maxstarsperprobe)\n",
    "        m2 = np.clip(len(s2),0,maxstarsperprobe)\n",
    "\n",
    "        testpos = np.zeros((4,2))\n",
    "        testpos[tt7probe,:] = gspos[stt7]\n",
    "\n",
    "        for k0 in range(m0):\n",
    "            testpos[aco_idx[0],:] = gspos[s0[k0],:]\n",
    "            for k1 in range(m1):\n",
    "                testpos[aco_idx[1],:] = gspos[s1[k1],:]\n",
    "                for k2 in range(m2):\n",
    "                    testpos[aco_idx[2],:] = gspos[s2[k2],:]\n",
    "\n",
    "                    (success,loc,idx) = agwscheck(validator,testpos)\n",
    "                    if success:\n",
    "                        # evaluate the maximum magnitude\n",
    "                        maxmag = np.max(vismag[[s0[k0],s1[k1],s2[k2]]])\n",
    "\n",
    "                        # evaluate the angle that each set of stars makes with respect to the center\n",
    "                        az0 = np.arctan2(gspos[s0[k0],0],gspos[s0[k0],1])\n",
    "                        az1 = np.arctan2(gspos[s1[k1],0],gspos[s1[k1],1])\n",
    "                        az2 = np.arctan2(gspos[s2[k2],0],gspos[s2[k2],1])\n",
    "\n",
    "                        radius0 = np.hypot(gspos[s0[k0],0],gspos[s0[k0],1])\n",
    "                        radius1 = np.hypot(gspos[s1[k1],0],gspos[s1[k1],1])\n",
    "                        radius2 = np.hypot(gspos[s2[k2],0],gspos[s2[k2],1])\n",
    "\n",
    "                        az = np.sort(np.array([az0,az1,az2]))\n",
    "                        minangle = np.min([az[1]-az[0],az[2]-az[1],az[0]+2*np.pi-az[2]])\n",
    "\n",
    "                        minradius = np.min([radius0,radius1,radius2])\n",
    "\n",
    "                        results['minradius'].append(minradius)\n",
    "                        results['minangle'].append(minangle*180./np.pi)\n",
    "                        results['maxmag'].append(maxmag)\n",
    "                        results['tt7'].append(stt7)\n",
    "                        results['tt7probe'].append(tt7probe)\n",
    "                        results['acoprobes'].append(aco_idx)\n",
    "                        results['aco'].append(np.array([s0[k0],s1[k1],s2[k2]]))\n",
    "    nAsterism = len(results['maxmag'])\n",
    "else:\n",
    "    nAsterism = 0"
   ]
  },
  {
   "cell_type": "code",
   "execution_count": 35,
   "metadata": {},
   "outputs": [
    {
     "data": {
      "text/plain": [
       "448"
      ]
     },
     "execution_count": 35,
     "metadata": {},
     "output_type": "execute_result"
    }
   ],
   "source": [
    "nAsterism"
   ]
  },
  {
   "cell_type": "code",
   "execution_count": 38,
   "metadata": {},
   "outputs": [],
   "source": [
    "df = pd.DataFrame(results)\n",
    "df.columns = ['minangle (deg)', 'minradius (arcsec)', 'maxmag (=faintest)', \n",
    "              'tt7 index', 'aco indices', 'tt7probe', 'acoprobes']"
   ]
  },
  {
   "cell_type": "code",
   "execution_count": 39,
   "metadata": {},
   "outputs": [
    {
     "data": {
      "text/html": [
       "<div>\n",
       "<style scoped>\n",
       "    .dataframe tbody tr th:only-of-type {\n",
       "        vertical-align: middle;\n",
       "    }\n",
       "\n",
       "    .dataframe tbody tr th {\n",
       "        vertical-align: top;\n",
       "    }\n",
       "\n",
       "    .dataframe thead th {\n",
       "        text-align: right;\n",
       "    }\n",
       "</style>\n",
       "<table border=\"1\" class=\"dataframe\">\n",
       "  <thead>\n",
       "    <tr style=\"text-align: right;\">\n",
       "      <th></th>\n",
       "      <th>minangle (deg)</th>\n",
       "      <th>minradius (arcsec)</th>\n",
       "      <th>maxmag (=faintest)</th>\n",
       "      <th>tt7 index</th>\n",
       "      <th>aco indices</th>\n",
       "      <th>tt7probe</th>\n",
       "      <th>acoprobes</th>\n",
       "    </tr>\n",
       "  </thead>\n",
       "  <tbody>\n",
       "    <tr>\n",
       "      <th>0</th>\n",
       "      <td>81.424803</td>\n",
       "      <td>370.412290</td>\n",
       "      <td>12.303300</td>\n",
       "      <td>147</td>\n",
       "      <td>[200, 162, 308]</td>\n",
       "      <td>3</td>\n",
       "      <td>[0, 1, 2]</td>\n",
       "    </tr>\n",
       "    <tr>\n",
       "      <th>1</th>\n",
       "      <td>81.424803</td>\n",
       "      <td>370.412290</td>\n",
       "      <td>12.303300</td>\n",
       "      <td>147</td>\n",
       "      <td>[200, 162, 321]</td>\n",
       "      <td>3</td>\n",
       "      <td>[0, 1, 2]</td>\n",
       "    </tr>\n",
       "    <tr>\n",
       "      <th>2</th>\n",
       "      <td>81.424803</td>\n",
       "      <td>370.412290</td>\n",
       "      <td>12.910417</td>\n",
       "      <td>147</td>\n",
       "      <td>[200, 162, 233]</td>\n",
       "      <td>3</td>\n",
       "      <td>[0, 1, 2]</td>\n",
       "    </tr>\n",
       "    <tr>\n",
       "      <th>3</th>\n",
       "      <td>28.452210</td>\n",
       "      <td>370.412290</td>\n",
       "      <td>12.960970</td>\n",
       "      <td>147</td>\n",
       "      <td>[200, 162, 273]</td>\n",
       "      <td>3</td>\n",
       "      <td>[0, 1, 2]</td>\n",
       "    </tr>\n",
       "    <tr>\n",
       "      <th>4</th>\n",
       "      <td>29.161730</td>\n",
       "      <td>370.412290</td>\n",
       "      <td>13.060136</td>\n",
       "      <td>147</td>\n",
       "      <td>[200, 162, 259]</td>\n",
       "      <td>3</td>\n",
       "      <td>[0, 1, 2]</td>\n",
       "    </tr>\n",
       "    <tr>\n",
       "      <th>5</th>\n",
       "      <td>81.424803</td>\n",
       "      <td>370.412290</td>\n",
       "      <td>13.211569</td>\n",
       "      <td>147</td>\n",
       "      <td>[200, 162, 349]</td>\n",
       "      <td>3</td>\n",
       "      <td>[0, 1, 2]</td>\n",
       "    </tr>\n",
       "    <tr>\n",
       "      <th>6</th>\n",
       "      <td>33.900710</td>\n",
       "      <td>355.155042</td>\n",
       "      <td>13.212706</td>\n",
       "      <td>147</td>\n",
       "      <td>[200, 111, 308]</td>\n",
       "      <td>3</td>\n",
       "      <td>[0, 1, 2]</td>\n",
       "    </tr>\n",
       "    <tr>\n",
       "      <th>7</th>\n",
       "      <td>33.900710</td>\n",
       "      <td>355.155042</td>\n",
       "      <td>13.212706</td>\n",
       "      <td>147</td>\n",
       "      <td>[200, 111, 162]</td>\n",
       "      <td>3</td>\n",
       "      <td>[0, 1, 2]</td>\n",
       "    </tr>\n",
       "    <tr>\n",
       "      <th>8</th>\n",
       "      <td>33.900710</td>\n",
       "      <td>355.155042</td>\n",
       "      <td>13.212706</td>\n",
       "      <td>147</td>\n",
       "      <td>[200, 111, 321]</td>\n",
       "      <td>3</td>\n",
       "      <td>[0, 1, 2]</td>\n",
       "    </tr>\n",
       "    <tr>\n",
       "      <th>9</th>\n",
       "      <td>33.900710</td>\n",
       "      <td>355.155042</td>\n",
       "      <td>13.212706</td>\n",
       "      <td>147</td>\n",
       "      <td>[200, 111, 233]</td>\n",
       "      <td>3</td>\n",
       "      <td>[0, 1, 2]</td>\n",
       "    </tr>\n",
       "    <tr>\n",
       "      <th>10</th>\n",
       "      <td>33.900710</td>\n",
       "      <td>355.155042</td>\n",
       "      <td>13.212706</td>\n",
       "      <td>147</td>\n",
       "      <td>[200, 111, 273]</td>\n",
       "      <td>3</td>\n",
       "      <td>[0, 1, 2]</td>\n",
       "    </tr>\n",
       "    <tr>\n",
       "      <th>11</th>\n",
       "      <td>33.900710</td>\n",
       "      <td>286.348303</td>\n",
       "      <td>13.212706</td>\n",
       "      <td>147</td>\n",
       "      <td>[200, 111, 3]</td>\n",
       "      <td>3</td>\n",
       "      <td>[0, 1, 2]</td>\n",
       "    </tr>\n",
       "    <tr>\n",
       "      <th>12</th>\n",
       "      <td>33.900710</td>\n",
       "      <td>355.155042</td>\n",
       "      <td>13.212706</td>\n",
       "      <td>147</td>\n",
       "      <td>[200, 111, 259]</td>\n",
       "      <td>3</td>\n",
       "      <td>[0, 1, 2]</td>\n",
       "    </tr>\n",
       "    <tr>\n",
       "      <th>13</th>\n",
       "      <td>33.900710</td>\n",
       "      <td>355.155042</td>\n",
       "      <td>13.212706</td>\n",
       "      <td>147</td>\n",
       "      <td>[200, 111, 349]</td>\n",
       "      <td>3</td>\n",
       "      <td>[0, 1, 2]</td>\n",
       "    </tr>\n",
       "    <tr>\n",
       "      <th>14</th>\n",
       "      <td>53.430918</td>\n",
       "      <td>383.899384</td>\n",
       "      <td>13.324797</td>\n",
       "      <td>147</td>\n",
       "      <td>[200, 279, 308]</td>\n",
       "      <td>3</td>\n",
       "      <td>[0, 1, 2]</td>\n",
       "    </tr>\n",
       "    <tr>\n",
       "      <th>15</th>\n",
       "      <td>27.993885</td>\n",
       "      <td>370.412290</td>\n",
       "      <td>13.324797</td>\n",
       "      <td>147</td>\n",
       "      <td>[200, 279, 162]</td>\n",
       "      <td>3</td>\n",
       "      <td>[0, 1, 2]</td>\n",
       "    </tr>\n",
       "    <tr>\n",
       "      <th>16</th>\n",
       "      <td>53.430918</td>\n",
       "      <td>383.899384</td>\n",
       "      <td>13.324797</td>\n",
       "      <td>147</td>\n",
       "      <td>[200, 279, 321]</td>\n",
       "      <td>3</td>\n",
       "      <td>[0, 1, 2]</td>\n",
       "    </tr>\n",
       "    <tr>\n",
       "      <th>17</th>\n",
       "      <td>53.430918</td>\n",
       "      <td>383.899384</td>\n",
       "      <td>13.324797</td>\n",
       "      <td>147</td>\n",
       "      <td>[200, 279, 233]</td>\n",
       "      <td>3</td>\n",
       "      <td>[0, 1, 2]</td>\n",
       "    </tr>\n",
       "    <tr>\n",
       "      <th>18</th>\n",
       "      <td>53.430918</td>\n",
       "      <td>383.899384</td>\n",
       "      <td>13.324797</td>\n",
       "      <td>147</td>\n",
       "      <td>[200, 279, 273]</td>\n",
       "      <td>3</td>\n",
       "      <td>[0, 1, 2]</td>\n",
       "    </tr>\n",
       "    <tr>\n",
       "      <th>19</th>\n",
       "      <td>50.602544</td>\n",
       "      <td>286.348303</td>\n",
       "      <td>13.324797</td>\n",
       "      <td>147</td>\n",
       "      <td>[200, 279, 3]</td>\n",
       "      <td>3</td>\n",
       "      <td>[0, 1, 2]</td>\n",
       "    </tr>\n",
       "    <tr>\n",
       "      <th>20</th>\n",
       "      <td>53.430918</td>\n",
       "      <td>383.899384</td>\n",
       "      <td>13.324797</td>\n",
       "      <td>147</td>\n",
       "      <td>[200, 279, 259]</td>\n",
       "      <td>3</td>\n",
       "      <td>[0, 1, 2]</td>\n",
       "    </tr>\n",
       "    <tr>\n",
       "      <th>21</th>\n",
       "      <td>53.430918</td>\n",
       "      <td>383.899384</td>\n",
       "      <td>13.324797</td>\n",
       "      <td>147</td>\n",
       "      <td>[200, 279, 349]</td>\n",
       "      <td>3</td>\n",
       "      <td>[0, 1, 2]</td>\n",
       "    </tr>\n",
       "    <tr>\n",
       "      <th>22</th>\n",
       "      <td>73.122130</td>\n",
       "      <td>383.899384</td>\n",
       "      <td>13.444362</td>\n",
       "      <td>147</td>\n",
       "      <td>[200, 238, 308]</td>\n",
       "      <td>3</td>\n",
       "      <td>[0, 1, 2]</td>\n",
       "    </tr>\n",
       "    <tr>\n",
       "      <th>23</th>\n",
       "      <td>73.122130</td>\n",
       "      <td>383.899384</td>\n",
       "      <td>13.444362</td>\n",
       "      <td>147</td>\n",
       "      <td>[200, 238, 321]</td>\n",
       "      <td>3</td>\n",
       "      <td>[0, 1, 2]</td>\n",
       "    </tr>\n",
       "    <tr>\n",
       "      <th>24</th>\n",
       "      <td>73.122130</td>\n",
       "      <td>383.899384</td>\n",
       "      <td>13.444362</td>\n",
       "      <td>147</td>\n",
       "      <td>[200, 238, 233]</td>\n",
       "      <td>3</td>\n",
       "      <td>[0, 1, 2]</td>\n",
       "    </tr>\n",
       "    <tr>\n",
       "      <th>25</th>\n",
       "      <td>36.754884</td>\n",
       "      <td>383.899384</td>\n",
       "      <td>13.444362</td>\n",
       "      <td>147</td>\n",
       "      <td>[200, 238, 273]</td>\n",
       "      <td>3</td>\n",
       "      <td>[0, 1, 2]</td>\n",
       "    </tr>\n",
       "    <tr>\n",
       "      <th>26</th>\n",
       "      <td>30.911333</td>\n",
       "      <td>286.348303</td>\n",
       "      <td>13.444362</td>\n",
       "      <td>147</td>\n",
       "      <td>[200, 238, 3]</td>\n",
       "      <td>3</td>\n",
       "      <td>[0, 1, 2]</td>\n",
       "    </tr>\n",
       "    <tr>\n",
       "      <th>27</th>\n",
       "      <td>37.464403</td>\n",
       "      <td>383.899384</td>\n",
       "      <td>13.444362</td>\n",
       "      <td>147</td>\n",
       "      <td>[200, 238, 259]</td>\n",
       "      <td>3</td>\n",
       "      <td>[0, 1, 2]</td>\n",
       "    </tr>\n",
       "    <tr>\n",
       "      <th>28</th>\n",
       "      <td>73.122130</td>\n",
       "      <td>383.899384</td>\n",
       "      <td>13.444362</td>\n",
       "      <td>147</td>\n",
       "      <td>[200, 238, 349]</td>\n",
       "      <td>3</td>\n",
       "      <td>[0, 1, 2]</td>\n",
       "    </tr>\n",
       "    <tr>\n",
       "      <th>29</th>\n",
       "      <td>45.357672</td>\n",
       "      <td>355.757419</td>\n",
       "      <td>13.668934</td>\n",
       "      <td>147</td>\n",
       "      <td>[200, 116, 308]</td>\n",
       "      <td>3</td>\n",
       "      <td>[0, 1, 2]</td>\n",
       "    </tr>\n",
       "    <tr>\n",
       "      <th>...</th>\n",
       "      <td>...</td>\n",
       "      <td>...</td>\n",
       "      <td>...</td>\n",
       "      <td>...</td>\n",
       "      <td>...</td>\n",
       "      <td>...</td>\n",
       "      <td>...</td>\n",
       "    </tr>\n",
       "    <tr>\n",
       "      <th>418</th>\n",
       "      <td>47.524093</td>\n",
       "      <td>355.155042</td>\n",
       "      <td>13.216886</td>\n",
       "      <td>147</td>\n",
       "      <td>[256, 111, 162]</td>\n",
       "      <td>3</td>\n",
       "      <td>[0, 1, 2]</td>\n",
       "    </tr>\n",
       "    <tr>\n",
       "      <th>419</th>\n",
       "      <td>111.388823</td>\n",
       "      <td>355.155042</td>\n",
       "      <td>13.216886</td>\n",
       "      <td>147</td>\n",
       "      <td>[256, 111, 321]</td>\n",
       "      <td>3</td>\n",
       "      <td>[0, 1, 2]</td>\n",
       "    </tr>\n",
       "    <tr>\n",
       "      <th>420</th>\n",
       "      <td>103.700851</td>\n",
       "      <td>355.155042</td>\n",
       "      <td>13.216886</td>\n",
       "      <td>147</td>\n",
       "      <td>[256, 111, 233]</td>\n",
       "      <td>3</td>\n",
       "      <td>[0, 1, 2]</td>\n",
       "    </tr>\n",
       "    <tr>\n",
       "      <th>421</th>\n",
       "      <td>75.976304</td>\n",
       "      <td>355.155042</td>\n",
       "      <td>13.216886</td>\n",
       "      <td>147</td>\n",
       "      <td>[256, 111, 273]</td>\n",
       "      <td>3</td>\n",
       "      <td>[0, 1, 2]</td>\n",
       "    </tr>\n",
       "    <tr>\n",
       "      <th>422</th>\n",
       "      <td>70.132753</td>\n",
       "      <td>286.348303</td>\n",
       "      <td>13.216886</td>\n",
       "      <td>147</td>\n",
       "      <td>[256, 111, 3]</td>\n",
       "      <td>3</td>\n",
       "      <td>[0, 1, 2]</td>\n",
       "    </tr>\n",
       "    <tr>\n",
       "      <th>423</th>\n",
       "      <td>76.685824</td>\n",
       "      <td>355.155042</td>\n",
       "      <td>13.216886</td>\n",
       "      <td>147</td>\n",
       "      <td>[256, 111, 259]</td>\n",
       "      <td>3</td>\n",
       "      <td>[0, 1, 2]</td>\n",
       "    </tr>\n",
       "    <tr>\n",
       "      <th>424</th>\n",
       "      <td>111.388823</td>\n",
       "      <td>355.155042</td>\n",
       "      <td>13.216886</td>\n",
       "      <td>147</td>\n",
       "      <td>[256, 111, 349]</td>\n",
       "      <td>3</td>\n",
       "      <td>[0, 1, 2]</td>\n",
       "    </tr>\n",
       "    <tr>\n",
       "      <th>425</th>\n",
       "      <td>106.468985</td>\n",
       "      <td>398.411924</td>\n",
       "      <td>13.324797</td>\n",
       "      <td>147</td>\n",
       "      <td>[256, 279, 308]</td>\n",
       "      <td>3</td>\n",
       "      <td>[0, 1, 2]</td>\n",
       "    </tr>\n",
       "    <tr>\n",
       "      <th>426</th>\n",
       "      <td>27.993885</td>\n",
       "      <td>370.412290</td>\n",
       "      <td>13.324797</td>\n",
       "      <td>147</td>\n",
       "      <td>[256, 279, 162]</td>\n",
       "      <td>3</td>\n",
       "      <td>[0, 1, 2]</td>\n",
       "    </tr>\n",
       "    <tr>\n",
       "      <th>427</th>\n",
       "      <td>111.354361</td>\n",
       "      <td>398.411924</td>\n",
       "      <td>13.324797</td>\n",
       "      <td>147</td>\n",
       "      <td>[256, 279, 321]</td>\n",
       "      <td>3</td>\n",
       "      <td>[0, 1, 2]</td>\n",
       "    </tr>\n",
       "    <tr>\n",
       "      <th>428</th>\n",
       "      <td>103.700851</td>\n",
       "      <td>391.998340</td>\n",
       "      <td>13.324797</td>\n",
       "      <td>147</td>\n",
       "      <td>[256, 279, 233]</td>\n",
       "      <td>3</td>\n",
       "      <td>[0, 1, 2]</td>\n",
       "    </tr>\n",
       "    <tr>\n",
       "      <th>429</th>\n",
       "      <td>56.446095</td>\n",
       "      <td>398.411924</td>\n",
       "      <td>13.324797</td>\n",
       "      <td>147</td>\n",
       "      <td>[256, 279, 273]</td>\n",
       "      <td>3</td>\n",
       "      <td>[0, 1, 2]</td>\n",
       "    </tr>\n",
       "    <tr>\n",
       "      <th>430</th>\n",
       "      <td>50.602544</td>\n",
       "      <td>286.348303</td>\n",
       "      <td>13.324797</td>\n",
       "      <td>147</td>\n",
       "      <td>[256, 279, 3]</td>\n",
       "      <td>3</td>\n",
       "      <td>[0, 1, 2]</td>\n",
       "    </tr>\n",
       "    <tr>\n",
       "      <th>431</th>\n",
       "      <td>57.155615</td>\n",
       "      <td>396.552068</td>\n",
       "      <td>13.324797</td>\n",
       "      <td>147</td>\n",
       "      <td>[256, 279, 259]</td>\n",
       "      <td>3</td>\n",
       "      <td>[0, 1, 2]</td>\n",
       "    </tr>\n",
       "    <tr>\n",
       "      <th>432</th>\n",
       "      <td>111.746267</td>\n",
       "      <td>398.411924</td>\n",
       "      <td>13.324797</td>\n",
       "      <td>147</td>\n",
       "      <td>[256, 279, 349]</td>\n",
       "      <td>3</td>\n",
       "      <td>[0, 1, 2]</td>\n",
       "    </tr>\n",
       "    <tr>\n",
       "      <th>433</th>\n",
       "      <td>102.920772</td>\n",
       "      <td>392.818865</td>\n",
       "      <td>13.444362</td>\n",
       "      <td>147</td>\n",
       "      <td>[256, 238, 308]</td>\n",
       "      <td>3</td>\n",
       "      <td>[0, 1, 2]</td>\n",
       "    </tr>\n",
       "    <tr>\n",
       "      <th>434</th>\n",
       "      <td>91.663150</td>\n",
       "      <td>392.818865</td>\n",
       "      <td>13.444362</td>\n",
       "      <td>147</td>\n",
       "      <td>[256, 238, 321]</td>\n",
       "      <td>3</td>\n",
       "      <td>[0, 1, 2]</td>\n",
       "    </tr>\n",
       "    <tr>\n",
       "      <th>435</th>\n",
       "      <td>103.700851</td>\n",
       "      <td>391.998340</td>\n",
       "      <td>13.444362</td>\n",
       "      <td>147</td>\n",
       "      <td>[256, 238, 233]</td>\n",
       "      <td>3</td>\n",
       "      <td>[0, 1, 2]</td>\n",
       "    </tr>\n",
       "    <tr>\n",
       "      <th>436</th>\n",
       "      <td>36.754884</td>\n",
       "      <td>392.818865</td>\n",
       "      <td>13.444362</td>\n",
       "      <td>147</td>\n",
       "      <td>[256, 238, 273]</td>\n",
       "      <td>3</td>\n",
       "      <td>[0, 1, 2]</td>\n",
       "    </tr>\n",
       "    <tr>\n",
       "      <th>437</th>\n",
       "      <td>30.911333</td>\n",
       "      <td>286.348303</td>\n",
       "      <td>13.444362</td>\n",
       "      <td>147</td>\n",
       "      <td>[256, 238, 3]</td>\n",
       "      <td>3</td>\n",
       "      <td>[0, 1, 2]</td>\n",
       "    </tr>\n",
       "    <tr>\n",
       "      <th>438</th>\n",
       "      <td>37.464403</td>\n",
       "      <td>392.818865</td>\n",
       "      <td>13.444362</td>\n",
       "      <td>147</td>\n",
       "      <td>[256, 238, 259]</td>\n",
       "      <td>3</td>\n",
       "      <td>[0, 1, 2]</td>\n",
       "    </tr>\n",
       "    <tr>\n",
       "      <th>439</th>\n",
       "      <td>92.055055</td>\n",
       "      <td>392.818865</td>\n",
       "      <td>13.444362</td>\n",
       "      <td>147</td>\n",
       "      <td>[256, 238, 349]</td>\n",
       "      <td>3</td>\n",
       "      <td>[0, 1, 2]</td>\n",
       "    </tr>\n",
       "    <tr>\n",
       "      <th>440</th>\n",
       "      <td>106.468985</td>\n",
       "      <td>355.757419</td>\n",
       "      <td>13.668934</td>\n",
       "      <td>147</td>\n",
       "      <td>[256, 116, 308]</td>\n",
       "      <td>3</td>\n",
       "      <td>[0, 1, 2]</td>\n",
       "    </tr>\n",
       "    <tr>\n",
       "      <th>441</th>\n",
       "      <td>36.067131</td>\n",
       "      <td>355.757419</td>\n",
       "      <td>13.668934</td>\n",
       "      <td>147</td>\n",
       "      <td>[256, 116, 162]</td>\n",
       "      <td>3</td>\n",
       "      <td>[0, 1, 2]</td>\n",
       "    </tr>\n",
       "    <tr>\n",
       "      <th>442</th>\n",
       "      <td>117.726607</td>\n",
       "      <td>355.757419</td>\n",
       "      <td>13.668934</td>\n",
       "      <td>147</td>\n",
       "      <td>[256, 116, 321]</td>\n",
       "      <td>3</td>\n",
       "      <td>[0, 1, 2]</td>\n",
       "    </tr>\n",
       "    <tr>\n",
       "      <th>443</th>\n",
       "      <td>103.700851</td>\n",
       "      <td>355.757419</td>\n",
       "      <td>13.668934</td>\n",
       "      <td>147</td>\n",
       "      <td>[256, 116, 233]</td>\n",
       "      <td>3</td>\n",
       "      <td>[0, 1, 2]</td>\n",
       "    </tr>\n",
       "    <tr>\n",
       "      <th>444</th>\n",
       "      <td>64.519342</td>\n",
       "      <td>355.757419</td>\n",
       "      <td>13.668934</td>\n",
       "      <td>147</td>\n",
       "      <td>[256, 116, 273]</td>\n",
       "      <td>3</td>\n",
       "      <td>[0, 1, 2]</td>\n",
       "    </tr>\n",
       "    <tr>\n",
       "      <th>445</th>\n",
       "      <td>58.675791</td>\n",
       "      <td>286.348303</td>\n",
       "      <td>13.668934</td>\n",
       "      <td>147</td>\n",
       "      <td>[256, 116, 3]</td>\n",
       "      <td>3</td>\n",
       "      <td>[0, 1, 2]</td>\n",
       "    </tr>\n",
       "    <tr>\n",
       "      <th>446</th>\n",
       "      <td>65.228861</td>\n",
       "      <td>355.757419</td>\n",
       "      <td>13.668934</td>\n",
       "      <td>147</td>\n",
       "      <td>[256, 116, 259]</td>\n",
       "      <td>3</td>\n",
       "      <td>[0, 1, 2]</td>\n",
       "    </tr>\n",
       "    <tr>\n",
       "      <th>447</th>\n",
       "      <td>117.334702</td>\n",
       "      <td>355.757419</td>\n",
       "      <td>13.668934</td>\n",
       "      <td>147</td>\n",
       "      <td>[256, 116, 349]</td>\n",
       "      <td>3</td>\n",
       "      <td>[0, 1, 2]</td>\n",
       "    </tr>\n",
       "  </tbody>\n",
       "</table>\n",
       "<p>448 rows × 7 columns</p>\n",
       "</div>"
      ],
      "text/plain": [
       "     minangle (deg)  minradius (arcsec)  maxmag (=faintest)  tt7 index  \\\n",
       "0         81.424803          370.412290           12.303300        147   \n",
       "1         81.424803          370.412290           12.303300        147   \n",
       "2         81.424803          370.412290           12.910417        147   \n",
       "3         28.452210          370.412290           12.960970        147   \n",
       "4         29.161730          370.412290           13.060136        147   \n",
       "5         81.424803          370.412290           13.211569        147   \n",
       "6         33.900710          355.155042           13.212706        147   \n",
       "7         33.900710          355.155042           13.212706        147   \n",
       "8         33.900710          355.155042           13.212706        147   \n",
       "9         33.900710          355.155042           13.212706        147   \n",
       "10        33.900710          355.155042           13.212706        147   \n",
       "11        33.900710          286.348303           13.212706        147   \n",
       "12        33.900710          355.155042           13.212706        147   \n",
       "13        33.900710          355.155042           13.212706        147   \n",
       "14        53.430918          383.899384           13.324797        147   \n",
       "15        27.993885          370.412290           13.324797        147   \n",
       "16        53.430918          383.899384           13.324797        147   \n",
       "17        53.430918          383.899384           13.324797        147   \n",
       "18        53.430918          383.899384           13.324797        147   \n",
       "19        50.602544          286.348303           13.324797        147   \n",
       "20        53.430918          383.899384           13.324797        147   \n",
       "21        53.430918          383.899384           13.324797        147   \n",
       "22        73.122130          383.899384           13.444362        147   \n",
       "23        73.122130          383.899384           13.444362        147   \n",
       "24        73.122130          383.899384           13.444362        147   \n",
       "25        36.754884          383.899384           13.444362        147   \n",
       "26        30.911333          286.348303           13.444362        147   \n",
       "27        37.464403          383.899384           13.444362        147   \n",
       "28        73.122130          383.899384           13.444362        147   \n",
       "29        45.357672          355.757419           13.668934        147   \n",
       "..              ...                 ...                 ...        ...   \n",
       "418       47.524093          355.155042           13.216886        147   \n",
       "419      111.388823          355.155042           13.216886        147   \n",
       "420      103.700851          355.155042           13.216886        147   \n",
       "421       75.976304          355.155042           13.216886        147   \n",
       "422       70.132753          286.348303           13.216886        147   \n",
       "423       76.685824          355.155042           13.216886        147   \n",
       "424      111.388823          355.155042           13.216886        147   \n",
       "425      106.468985          398.411924           13.324797        147   \n",
       "426       27.993885          370.412290           13.324797        147   \n",
       "427      111.354361          398.411924           13.324797        147   \n",
       "428      103.700851          391.998340           13.324797        147   \n",
       "429       56.446095          398.411924           13.324797        147   \n",
       "430       50.602544          286.348303           13.324797        147   \n",
       "431       57.155615          396.552068           13.324797        147   \n",
       "432      111.746267          398.411924           13.324797        147   \n",
       "433      102.920772          392.818865           13.444362        147   \n",
       "434       91.663150          392.818865           13.444362        147   \n",
       "435      103.700851          391.998340           13.444362        147   \n",
       "436       36.754884          392.818865           13.444362        147   \n",
       "437       30.911333          286.348303           13.444362        147   \n",
       "438       37.464403          392.818865           13.444362        147   \n",
       "439       92.055055          392.818865           13.444362        147   \n",
       "440      106.468985          355.757419           13.668934        147   \n",
       "441       36.067131          355.757419           13.668934        147   \n",
       "442      117.726607          355.757419           13.668934        147   \n",
       "443      103.700851          355.757419           13.668934        147   \n",
       "444       64.519342          355.757419           13.668934        147   \n",
       "445       58.675791          286.348303           13.668934        147   \n",
       "446       65.228861          355.757419           13.668934        147   \n",
       "447      117.334702          355.757419           13.668934        147   \n",
       "\n",
       "         aco indices  tt7probe  acoprobes  \n",
       "0    [200, 162, 308]         3  [0, 1, 2]  \n",
       "1    [200, 162, 321]         3  [0, 1, 2]  \n",
       "2    [200, 162, 233]         3  [0, 1, 2]  \n",
       "3    [200, 162, 273]         3  [0, 1, 2]  \n",
       "4    [200, 162, 259]         3  [0, 1, 2]  \n",
       "5    [200, 162, 349]         3  [0, 1, 2]  \n",
       "6    [200, 111, 308]         3  [0, 1, 2]  \n",
       "7    [200, 111, 162]         3  [0, 1, 2]  \n",
       "8    [200, 111, 321]         3  [0, 1, 2]  \n",
       "9    [200, 111, 233]         3  [0, 1, 2]  \n",
       "10   [200, 111, 273]         3  [0, 1, 2]  \n",
       "11     [200, 111, 3]         3  [0, 1, 2]  \n",
       "12   [200, 111, 259]         3  [0, 1, 2]  \n",
       "13   [200, 111, 349]         3  [0, 1, 2]  \n",
       "14   [200, 279, 308]         3  [0, 1, 2]  \n",
       "15   [200, 279, 162]         3  [0, 1, 2]  \n",
       "16   [200, 279, 321]         3  [0, 1, 2]  \n",
       "17   [200, 279, 233]         3  [0, 1, 2]  \n",
       "18   [200, 279, 273]         3  [0, 1, 2]  \n",
       "19     [200, 279, 3]         3  [0, 1, 2]  \n",
       "20   [200, 279, 259]         3  [0, 1, 2]  \n",
       "21   [200, 279, 349]         3  [0, 1, 2]  \n",
       "22   [200, 238, 308]         3  [0, 1, 2]  \n",
       "23   [200, 238, 321]         3  [0, 1, 2]  \n",
       "24   [200, 238, 233]         3  [0, 1, 2]  \n",
       "25   [200, 238, 273]         3  [0, 1, 2]  \n",
       "26     [200, 238, 3]         3  [0, 1, 2]  \n",
       "27   [200, 238, 259]         3  [0, 1, 2]  \n",
       "28   [200, 238, 349]         3  [0, 1, 2]  \n",
       "29   [200, 116, 308]         3  [0, 1, 2]  \n",
       "..               ...       ...        ...  \n",
       "418  [256, 111, 162]         3  [0, 1, 2]  \n",
       "419  [256, 111, 321]         3  [0, 1, 2]  \n",
       "420  [256, 111, 233]         3  [0, 1, 2]  \n",
       "421  [256, 111, 273]         3  [0, 1, 2]  \n",
       "422    [256, 111, 3]         3  [0, 1, 2]  \n",
       "423  [256, 111, 259]         3  [0, 1, 2]  \n",
       "424  [256, 111, 349]         3  [0, 1, 2]  \n",
       "425  [256, 279, 308]         3  [0, 1, 2]  \n",
       "426  [256, 279, 162]         3  [0, 1, 2]  \n",
       "427  [256, 279, 321]         3  [0, 1, 2]  \n",
       "428  [256, 279, 233]         3  [0, 1, 2]  \n",
       "429  [256, 279, 273]         3  [0, 1, 2]  \n",
       "430    [256, 279, 3]         3  [0, 1, 2]  \n",
       "431  [256, 279, 259]         3  [0, 1, 2]  \n",
       "432  [256, 279, 349]         3  [0, 1, 2]  \n",
       "433  [256, 238, 308]         3  [0, 1, 2]  \n",
       "434  [256, 238, 321]         3  [0, 1, 2]  \n",
       "435  [256, 238, 233]         3  [0, 1, 2]  \n",
       "436  [256, 238, 273]         3  [0, 1, 2]  \n",
       "437    [256, 238, 3]         3  [0, 1, 2]  \n",
       "438  [256, 238, 259]         3  [0, 1, 2]  \n",
       "439  [256, 238, 349]         3  [0, 1, 2]  \n",
       "440  [256, 116, 308]         3  [0, 1, 2]  \n",
       "441  [256, 116, 162]         3  [0, 1, 2]  \n",
       "442  [256, 116, 321]         3  [0, 1, 2]  \n",
       "443  [256, 116, 233]         3  [0, 1, 2]  \n",
       "444  [256, 116, 273]         3  [0, 1, 2]  \n",
       "445    [256, 116, 3]         3  [0, 1, 2]  \n",
       "446  [256, 116, 259]         3  [0, 1, 2]  \n",
       "447  [256, 116, 349]         3  [0, 1, 2]  \n",
       "\n",
       "[448 rows x 7 columns]"
      ]
     },
     "execution_count": 39,
     "metadata": {},
     "output_type": "execute_result"
    }
   ],
   "source": [
    "df"
   ]
  },
  {
   "cell_type": "code",
   "execution_count": 40,
   "metadata": {},
   "outputs": [],
   "source": [
    "df.to_csv(outputfilename)"
   ]
  },
  {
   "cell_type": "code",
   "execution_count": 41,
   "metadata": {},
   "outputs": [],
   "source": [
    "df1 = pd.read_csv(outputfilename)"
   ]
  },
  {
   "cell_type": "code",
   "execution_count": 43,
   "metadata": {},
   "outputs": [
    {
     "data": {
      "text/plain": [
       "448"
      ]
     },
     "execution_count": 43,
     "metadata": {},
     "output_type": "execute_result"
    }
   ],
   "source": [
    "len(df1)"
   ]
  },
  {
   "cell_type": "code",
   "execution_count": 59,
   "metadata": {},
   "outputs": [
    {
     "data": {
      "text/plain": [
       "448"
      ]
     },
     "execution_count": 59,
     "metadata": {},
     "output_type": "execute_result"
    }
   ],
   "source": [
    "sum(df1['tt7probe']>2)"
   ]
  },
  {
   "cell_type": "code",
   "execution_count": 16,
   "metadata": {},
   "outputs": [
    {
     "data": {
      "text/plain": [
       "'/HOME/UBUNTU/PYTHON/AGWS/FIELDS/GMACS_ASTERISM_0013.CSV'"
      ]
     },
     "execution_count": 16,
     "metadata": {},
     "output_type": "execute_result"
    }
   ],
   "source": [
    "outputfilename.upper()"
   ]
  },
  {
   "cell_type": "code",
   "execution_count": null,
   "metadata": {},
   "outputs": [],
   "source": []
  }
 ],
 "metadata": {
  "kernelspec": {
   "display_name": "Python 3",
   "language": "python",
   "name": "python3"
  },
  "language_info": {
   "codemirror_mode": {
    "name": "ipython",
    "version": 3
   },
   "file_extension": ".py",
   "mimetype": "text/x-python",
   "name": "python",
   "nbconvert_exporter": "python",
   "pygments_lexer": "ipython3",
   "version": "3.6.10"
  }
 },
 "nbformat": 4,
 "nbformat_minor": 5
}
