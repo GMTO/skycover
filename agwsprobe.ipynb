{
 "cells": [
  {
   "cell_type": "code",
   "execution_count": 1,
   "id": "f5d630b5",
   "metadata": {},
   "outputs": [],
   "source": [
    "import sys\n",
    "import pylab as pl\n",
    "import numpy as np"
   ]
  },
  {
   "cell_type": "code",
   "execution_count": 2,
   "id": "3e842fcf",
   "metadata": {},
   "outputs": [],
   "source": [
    "ltype = [\"-\",\"--\"]"
   ]
  },
  {
   "cell_type": "code",
   "execution_count": 3,
   "id": "e3b9449c",
   "metadata": {},
   "outputs": [],
   "source": [
    "b = 15\n",
    "shadow = 76"
   ]
  },
  {
   "cell_type": "code",
   "execution_count": 4,
   "id": "07237313",
   "metadata": {},
   "outputs": [
    {
     "data": {
      "text/plain": [
       "(-308.55, 308.55, -171.05, 1370.05)"
      ]
     },
     "execution_count": 4,
     "metadata": {},
     "output_type": "execute_result"
    },
    {
     "data": {
      "image/png": "[encoded data removed]",
      "text/plain": [
       "<Figure size 1296x720 with 1 Axes>"
      ]
     },
     "metadata": {
      "needs_background": "light"
     },
     "output_type": "display_data"
    }
   ],
   "source": [
    "#3 parts: baffle tube, slider shaft, slider body\n",
    "baffle_tube_full_width = 130\n",
    "slider_shaft_length = 370\n",
    "slider_body_width = 265.5\n",
    "slider_body_back  = 1300\n",
    "tip_center_to_mirror = -21 #negative means the tip is long\n",
    "\n",
    "#same as before, needs to be verified with current drawing\n",
    "baffle_tube_front = -80\n",
    "baffle_tube_back  = 409\n",
    "\n",
    "slider_shaft_front = 69.062\n",
    "\n",
    "#i = 0\n",
    "#buffer = 0\n",
    "#i = 1\n",
    "#buffer = b\n",
    "\n",
    "# Run this twice so the plot shows the probe outline with no buffer (solid)\n",
    "# and with the buffer (dashed)\n",
    "# \n",
    "fig, ax = pl.subplots(1,1,figsize=(18,10))\n",
    "for i,buffer in enumerate([0, b]):\n",
    "    baffle_tube_width =  baffle_tube_full_width/2\n",
    "\n",
    "    baffle_tube_front -= buffer\n",
    "    baffle_tube_width += buffer\n",
    "\n",
    "    slider_shaft_width = baffle_tube_full_width/2\n",
    "\n",
    "    slider_shaft_back  = slider_shaft_front + slider_shaft_length + 1\n",
    "\n",
    "    slider_shaft_back  -= buffer\n",
    "    slider_shaft_width += buffer\n",
    "\n",
    "    slider_body_front = slider_shaft_back - 1\n",
    "\n",
    "    slider_body_width += buffer\n",
    "    \n",
    "    pl.plot([-slider_shaft_width, -slider_shaft_width, -slider_body_width, -slider_body_width, slider_body_width, \n",
    "             slider_body_width, slider_shaft_width, slider_shaft_width, -slider_shaft_width],\n",
    "            [slider_shaft_front,  slider_shaft_back,    slider_body_front,  slider_body_back,  slider_body_back,  \n",
    "             slider_body_front, slider_shaft_back,  slider_shaft_front,  slider_shaft_front],\n",
    "            color=\"r\", linestyle=ltype[i]\n",
    "           )\n",
    "    if (i==0):\n",
    "        pl.text(-50, slider_shaft_front+20, str(2*slider_shaft_width),color=\"r\")\n",
    "        pl.text(-50, slider_body_back+20,  str(2*slider_body_width),color=\"r\")\n",
    "        pl.text(baffle_tube_width+40, tip_center_to_mirror, str(tip_center_to_mirror), color=\"b\")\n",
    "        pl.text(slider_shaft_width+40, slider_shaft_front, str(slider_shaft_front)+\"+s\", color=\"r\")\n",
    "        pl.text(slider_body_width+40, slider_body_front, str(slider_body_front)+\"+s\", color=\"r\")\n",
    "        \n",
    "    ## half-circular tip\n",
    "    tip_angle = np.arange(181)\n",
    "    tip_x = baffle_tube_width*np.cos(np.radians(-tip_angle))\n",
    "    tip_y = baffle_tube_width*np.sin(np.radians(-tip_angle)) + tip_center_to_mirror\n",
    "    pl.plot(tip_x, tip_y, color=\"b\", linestyle=ltype[i])\n",
    "    \n",
    "    pl.plot([-baffle_tube_width, baffle_tube_width, tip_x[0], tip_x[-1], -baffle_tube_width],\n",
    "            [ baffle_tube_back,  baffle_tube_back,  tip_y[0], tip_y[-1],  baffle_tube_back],\n",
    "            color=\"b\", linestyle=ltype[i]\n",
    "            )\n",
    "pl.plot(0,0, \"b+\")\n",
    "pl.axis('equal')\n",
    "#pl.axis('off')"
   ]
  },
  {
   "cell_type": "code",
   "execution_count": 5,
   "id": "94b2e8e1",
   "metadata": {},
   "outputs": [],
   "source": [
    "prefix = \"probe_\"\n",
    "\n",
    "f = open(prefix + \"baffle_tube.txt\", \"w+\")\n",
    "print (\"{}\\t{}\".format(-baffle_tube_width, baffle_tube_back), file=f)\n",
    "print (\"{}\\t{}\".format( baffle_tube_width, baffle_tube_back), file=f)\n",
    "for i,j in zip(tip_x, tip_y):\n",
    "    print (\"{}\\t{}\".format(i,j), file=f)\n",
    "f.close()\n",
    "\n",
    "f = open(prefix + \"slider_shaft.txt\", \"w+\")\n",
    "print (\"{}\\t{}\".format(-slider_shaft_width, slider_shaft_back), file=f)\n",
    "print (\"{}\\t{}\".format( slider_shaft_width, slider_shaft_back), file=f)\n",
    "print (\"{}\\t{}\".format( slider_shaft_width, slider_shaft_front), file=f)\n",
    "print (\"{}\\t{}\".format(-slider_shaft_width, slider_shaft_front), file=f)\n",
    "f.close()\n",
    "\n",
    "f = open(prefix + \"slider_body.txt\", \"w+\")\n",
    "print (\"{}\\t{}\".format(-slider_body_width, slider_body_back), file=f)\n",
    "print (\"{}\\t{}\".format( slider_body_width, slider_body_back), file=f)\n",
    "print (\"{}\\t{}\".format( slider_body_width, slider_body_front), file=f)\n",
    "print (\"{}\\t{}\".format(-slider_body_width, slider_body_front), file=f)\n",
    "f.close()"
   ]
  },
  {
   "cell_type": "code",
   "execution_count": 6,
   "id": "cf333447",
   "metadata": {},
   "outputs": [],
   "source": [
    "baffle_tube_front -= (shadow/2 - buffer)\n",
    "baffle_tube_width += (shadow/2 - buffer)\n",
    "tip_x = baffle_tube_width*np.cos(np.radians(-tip_angle))\n",
    "tip_y = baffle_tube_width*np.sin(np.radians(-tip_angle)) + tip_center_to_mirror\n",
    "slider_body_front  -= (shadow/2 - buffer)\n",
    "slider_shaft_width += (shadow/2 - buffer)\n",
    "slider_body_width += (shadow/2 - buffer)"
   ]
  },
  {
   "cell_type": "code",
   "execution_count": 7,
   "id": "c25ee1f1",
   "metadata": {},
   "outputs": [],
   "source": [
    "prefix = \"shadow_\"\n",
    "\n",
    "f = open(prefix + \"baffle_tube.txt\", \"w+\")\n",
    "print (\"{}\\t{}\".format(-baffle_tube_width, baffle_tube_back), file=f)\n",
    "print (\"{}\\t{}\".format( baffle_tube_width, baffle_tube_back), file=f)\n",
    "for i,j in zip(tip_x, tip_y):\n",
    "    print (\"{}\\t{}\".format(i,j), file=f)\n",
    "f.close()\n",
    "\n",
    "f = open(prefix + \"slider_shaft.txt\", \"w+\")\n",
    "print (\"{}\\t{}\".format(-slider_shaft_width, slider_shaft_back), file=f)\n",
    "print (\"{}\\t{}\".format( slider_shaft_width, slider_shaft_back), file=f)\n",
    "print (\"{}\\t{}\".format( slider_shaft_width, slider_shaft_front), file=f)\n",
    "print (\"{}\\t{}\".format(-slider_shaft_width, slider_shaft_front), file=f)\n",
    "f.close()\n",
    "\n",
    "f = open(prefix + \"slider_body.txt\", \"w+\")\n",
    "print (\"{}\\t{}\".format(-slider_body_width, slider_body_back), file=f)\n",
    "print (\"{}\\t{}\".format( slider_body_width, slider_body_back), file=f)\n",
    "print (\"{}\\t{}\".format( slider_body_width, slider_body_front), file=f)\n",
    "print (\"{}\\t{}\".format(-slider_body_width, slider_body_front), file=f)\n",
    "f.close()"
   ]
  },
  {
   "cell_type": "code",
   "execution_count": null,
   "id": "2391e02f",
   "metadata": {},
   "outputs": [],
   "source": []
  }
 ],
 "metadata": {
  "kernelspec": {
   "display_name": "Python 3 (ipykernel)",
   "language": "python",
   "name": "python3"
  },
  "language_info": {
   "codemirror_mode": {
    "name": "ipython",
    "version": 3
   },
   "file_extension": ".py",
   "mimetype": "text/x-python",
   "name": "python",
   "nbconvert_exporter": "python",
   "pygments_lexer": "ipython3",
   "version": "3.9.7"
  }
 },
 "nbformat": 4,
 "nbformat_minor": 5
}
